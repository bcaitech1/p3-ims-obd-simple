{
 "cells": [
  {
   "cell_type": "code",
   "execution_count": 1,
   "metadata": {
    "pycharm": {
     "name": "#%%\n"
    }
   },
   "outputs": [],
   "source": [
    "from mmcv import Config\n",
    "from mmdet.datasets import build_dataset\n",
    "from mmdet.models import build_detector\n",
    "from mmdet.apis import train_detector\n",
    "from mmdet.datasets import (build_dataloader, build_dataset,\n",
    "                            replace_ImageToTensor)"
   ]
  },
  {
   "cell_type": "code",
   "execution_count": 2,
   "metadata": {
    "pycharm": {
     "name": "#%%\n"
    }
   },
   "outputs": [],
   "source": [
    "classes = (\"UNKNOWN\", \"General trash\", \"Paper\", \"Paper pack\", \"Metal\", \"Glass\", \n",
    "           \"Plastic\", \"Styrofoam\", \"Plastic bag\", \"Battery\", \"Clothing\")\n",
    "# config file 들고오기\n",
    "cfg = Config.fromfile('./configs/faster_rcnn/faster_rcnn_r50_fpn_1x_coco.py')\n",
    "PREFIX = '../../input/data/'\n",
    "\n",
    "# dataset 바꾸기\n",
    "cfg.data.train.classes = classes\n",
    "cfg.data.train.img_prefix = PREFIX\n",
    "cfg.data.train.ann_file = PREFIX + 'train.json'\n",
    "cfg.data.train.pipeline[2]['img_scale'] = (512, 512)\n",
    "\n",
    "cfg.data.val.classes = classes\n",
    "cfg.data.val.img_prefix = PREFIX\n",
    "cfg.data.val.ann_file = PREFIX + 'val.json'\n",
    "cfg.data.val.pipeline[1]['img_scale'] = (512, 512)\n",
    "\n",
    "cfg.data.test.classes = classes\n",
    "cfg.data.test.img_prefix = PREFIX\n",
    "cfg.data.test.ann_file = PREFIX + 'test.json'\n",
    "cfg.data.test.pipeline[1]['img_scale'] = (512, 512)\n",
    "\n",
    "cfg.data.samples_per_gpu = 4\n",
    "\n",
    "cfg.seed=2020\n",
    "cfg.gpu_ids = [0]\n",
    "cfg.work_dir = './work_dirs/faster_rcnn_r50_fpn_1x_trash'\n",
    "\n",
    "cfg.model.roi_head.bbox_head.num_classes = 11\n",
    "\n",
    "cfg.optimizer_config.grad_clip = dict(max_norm=35, norm_type=2)"
   ]
  },
  {
   "cell_type": "markdown",
   "metadata": {},
   "source": [
    "code/mmdetection_trash/configs/_base_/**default_runtime.py** 파일 수정\n",
    "<br/>**project**는 개인에 맞게 수정\n",
    "\n",
    "```python\n",
    "log_config = dict(\n",
    "    interval=50,\n",
    "    hooks=[\n",
    "        dict(type='TextLoggerHook'),\n",
    "        dict(type='WandbLoggerHook',\n",
    "             init_kwargs = dict(\n",
    "                 project='',  # 개인에 맞게 수정\n",
    "                 entity='boostcamp-simple',\n",
    "                 name=None\n",
    "             ))\n",
    "])\n",
    "```"
   ]
  },
  {
   "cell_type": "code",
   "execution_count": 3,
   "metadata": {},
   "outputs": [],
   "source": [
    "############## To Visualize ##############\n",
    "import os\n",
    "from visualization import push_image\n",
    "\n",
    "wandb_name = f\"{cfg.model['type']}_v0\"                 # wandb run name, 원하는 이름으로 변경\n",
    "cfg.log_config.hooks[1].init_kwargs.name = wandb_name  # loss, acc 기록과 시각화 기록이 다른 Run에 저장되어, 이름을 통일해 두기 위함.\n",
    "\n",
    "checkpoint_file = 'best_bbox_mAP.pth'\n",
    "checkpoint_path = os.path.join(cfg.work_dir, checkpoint_file)\n",
    "##########################################"
   ]
  },
  {
   "cell_type": "code",
   "execution_count": 4,
   "metadata": {
    "pycharm": {
     "name": "#%%\n"
    }
   },
   "outputs": [
    {
     "name": "stderr",
     "output_type": "stream",
     "text": [
      "2021-05-13 09:03:44,861 - mmdet - INFO - load model from: torchvision://resnet50\n",
      "2021-05-13 09:03:44,863 - mmdet - INFO - Use load_from_torchvision loader\n",
      "2021-05-13 09:03:45,119 - mmdet - WARNING - The model and loaded state dict do not match exactly\n",
      "\n",
      "unexpected key in source state_dict: fc.weight, fc.bias\n",
      "\n"
     ]
    }
   ],
   "source": [
    "model = build_detector(cfg.model)"
   ]
  },
  {
   "cell_type": "code",
   "execution_count": 5,
   "metadata": {
    "pycharm": {
     "name": "#%%\n"
    }
   },
   "outputs": [
    {
     "name": "stdout",
     "output_type": "stream",
     "text": [
      "loading annotations into memory...\n",
      "Done (t=3.79s)\n",
      "creating index...\n",
      "index created!\n"
     ]
    }
   ],
   "source": [
    "datasets = [build_dataset(cfg.data.train)]"
   ]
  },
  {
   "cell_type": "code",
   "execution_count": 6,
   "metadata": {
    "tags": []
   },
   "outputs": [
    {
     "name": "stdout",
     "output_type": "stream",
     "text": [
      "loading annotations into memory...\n"
     ]
    },
    {
     "name": "stderr",
     "output_type": "stream",
     "text": [
      "2021-05-13 09:04:02,448 - mmdet - INFO - Start running, host: root@fb205a752af1, work_dir: /opt/ml/code/mmdetection_trash/work_dirs/dsviz-demo\n",
      "2021-05-13 09:04:02,449 - mmdet - INFO - workflow: [('train', 1)], max: 1 epochs\n"
     ]
    },
    {
     "name": "stdout",
     "output_type": "stream",
     "text": [
      "Done (t=0.93s)\n",
      "creating index...\n",
      "index created!\n"
     ]
    },
    {
     "name": "stderr",
     "output_type": "stream",
     "text": [
      "/opt/ml/code/mmdetection_trash/mmdet/core/evaluation/eval_hooks.py:111: UserWarning: runner.meta is None. Creating a empty one.\n",
      "  warnings.warn('runner.meta is None. Creating a empty one.')\n",
      "\u001b[34m\u001b[1mwandb\u001b[0m: Currently logged in as: \u001b[33mjaegyeong\u001b[0m (use `wandb login --relogin` to force relogin)\n"
     ]
    },
    {
     "data": {
      "text/html": [
       "\n",
       "                Tracking run with wandb version 0.10.30<br/>\n",
       "                Syncing run <strong style=\"color:#cdcd00\">FasterRCNN_v0</strong> to <a href=\"https://wandb.ai\" target=\"_blank\">Weights & Biases</a> <a href=\"https://docs.wandb.com/integrations/jupyter.html\" target=\"_blank\">(Documentation)</a>.<br/>\n",
       "                Project page: <a href=\"https://wandb.ai/jaegyeong/dsviz-demo\" target=\"_blank\">https://wandb.ai/jaegyeong/dsviz-demo</a><br/>\n",
       "                Run page: <a href=\"https://wandb.ai/jaegyeong/dsviz-demo/runs/26i8pl57\" target=\"_blank\">https://wandb.ai/jaegyeong/dsviz-demo/runs/26i8pl57</a><br/>\n",
       "                Run data is saved locally in <code>/opt/ml/code/mmdetection_trash/wandb/run-20210513_090403-26i8pl57</code><br/><br/>\n",
       "            "
      ],
      "text/plain": [
       "<IPython.core.display.HTML object>"
      ]
     },
     "metadata": {},
     "output_type": "display_data"
    },
    {
     "name": "stderr",
     "output_type": "stream",
     "text": [
      "2021-05-13 09:04:26,288 - mmdet - INFO - Epoch [1][50/655]\tlr: 1.978e-03, eta: 0:03:42, time: 0.368, data_time: 0.051, memory: 2100, loss_rpn_cls: 0.5475, loss_rpn_bbox: 0.0788, loss_cls: 0.7748, acc: 84.1592, loss_bbox: 0.1785, loss: 1.5796, grad_norm: 7.0253\n",
      "2021-05-13 09:04:42,640 - mmdet - INFO - Epoch [1][100/655]\tlr: 3.976e-03, eta: 0:03:12, time: 0.327, data_time: 0.007, memory: 2100, loss_rpn_cls: 0.2276, loss_rpn_bbox: 0.0867, loss_cls: 0.4395, acc: 90.4600, loss_bbox: 0.3510, loss: 1.1048, grad_norm: 2.4255\n",
      "2021-05-13 09:04:59,106 - mmdet - INFO - Epoch [1][150/655]\tlr: 5.974e-03, eta: 0:02:52, time: 0.329, data_time: 0.007, memory: 2100, loss_rpn_cls: 0.2107, loss_rpn_bbox: 0.0864, loss_cls: 0.4686, acc: 89.4883, loss_bbox: 0.3771, loss: 1.1428, grad_norm: 3.4015\n",
      "2021-05-13 09:05:15,357 - mmdet - INFO - Epoch [1][200/655]\tlr: 7.972e-03, eta: 0:02:33, time: 0.325, data_time: 0.007, memory: 2100, loss_rpn_cls: 0.2037, loss_rpn_bbox: 0.0800, loss_cls: 0.4794, acc: 90.2275, loss_bbox: 0.3614, loss: 1.1246, grad_norm: 3.9530\n",
      "2021-05-13 09:05:32,690 - mmdet - INFO - Epoch [1][250/655]\tlr: 9.970e-03, eta: 0:02:17, time: 0.347, data_time: 0.008, memory: 2100, loss_rpn_cls: 0.1870, loss_rpn_bbox: 0.0754, loss_cls: 0.4854, acc: 89.4746, loss_bbox: 0.3897, loss: 1.1376, grad_norm: 2.9467\n",
      "2021-05-13 09:05:49,227 - mmdet - INFO - Epoch [1][300/655]\tlr: 1.197e-02, eta: 0:01:59, time: 0.331, data_time: 0.007, memory: 2100, loss_rpn_cls: 0.1709, loss_rpn_bbox: 0.0840, loss_cls: 0.5001, acc: 88.4199, loss_bbox: 0.4323, loss: 1.1872, grad_norm: 2.9041\n",
      "2021-05-13 09:06:05,802 - mmdet - INFO - Epoch [1][350/655]\tlr: 1.397e-02, eta: 0:01:42, time: 0.331, data_time: 0.007, memory: 2100, loss_rpn_cls: 0.1646, loss_rpn_bbox: 0.0824, loss_cls: 0.4544, acc: 89.0566, loss_bbox: 0.3972, loss: 1.0985, grad_norm: 2.7734\n",
      "2021-05-13 09:06:21,701 - mmdet - INFO - Epoch [1][400/655]\tlr: 1.596e-02, eta: 0:01:25, time: 0.318, data_time: 0.007, memory: 2100, loss_rpn_cls: 0.1573, loss_rpn_bbox: 0.0795, loss_cls: 0.4345, acc: 89.1943, loss_bbox: 0.3866, loss: 1.0580, grad_norm: 2.7884\n",
      "2021-05-13 09:06:37,732 - mmdet - INFO - Epoch [1][450/655]\tlr: 1.796e-02, eta: 0:01:08, time: 0.321, data_time: 0.007, memory: 2100, loss_rpn_cls: 0.1492, loss_rpn_bbox: 0.0753, loss_cls: 0.4364, acc: 88.7549, loss_bbox: 0.3983, loss: 1.0592, grad_norm: 2.7540\n",
      "2021-05-13 09:06:53,577 - mmdet - INFO - Epoch [1][500/655]\tlr: 1.996e-02, eta: 0:00:51, time: 0.317, data_time: 0.007, memory: 2100, loss_rpn_cls: 0.1679, loss_rpn_bbox: 0.0786, loss_cls: 0.4660, acc: 88.6670, loss_bbox: 0.3967, loss: 1.1091, grad_norm: 3.0662\n",
      "2021-05-13 09:07:09,340 - mmdet - INFO - Epoch [1][550/655]\tlr: 2.000e-02, eta: 0:00:34, time: 0.315, data_time: 0.007, memory: 2100, loss_rpn_cls: 0.1595, loss_rpn_bbox: 0.0739, loss_cls: 0.4403, acc: 89.5713, loss_bbox: 0.3478, loss: 1.0217, grad_norm: 2.5505\n",
      "2021-05-13 09:07:25,453 - mmdet - INFO - Epoch [1][600/655]\tlr: 2.000e-02, eta: 0:00:18, time: 0.322, data_time: 0.007, memory: 2100, loss_rpn_cls: 0.1232, loss_rpn_bbox: 0.0746, loss_cls: 0.4586, acc: 88.4268, loss_bbox: 0.3911, loss: 1.0476, grad_norm: 2.3959\n",
      "2021-05-13 09:07:41,512 - mmdet - INFO - Epoch [1][650/655]\tlr: 2.000e-02, eta: 0:00:01, time: 0.321, data_time: 0.007, memory: 2100, loss_rpn_cls: 0.1352, loss_rpn_bbox: 0.0838, loss_cls: 0.4470, acc: 88.6016, loss_bbox: 0.3927, loss: 1.0587, grad_norm: 2.5667\n",
      "2021-05-13 09:07:43,222 - mmdet - INFO - Saving checkpoint at 1 epochs\n"
     ]
    },
    {
     "name": "stdout",
     "output_type": "stream",
     "text": [
      "[>>>>>>>>>>>>>>>>>>>>>>>>>>>>>] 655/655, 21.9 task/s, elapsed: 30s, ETA:     0s"
     ]
    },
    {
     "name": "stderr",
     "output_type": "stream",
     "text": [
      "2021-05-13 09:08:15,704 - mmdet - INFO - Evaluating bbox...\n"
     ]
    },
    {
     "name": "stdout",
     "output_type": "stream",
     "text": [
      "Loading and preparing results...\n",
      "DONE (t=0.83s)\n",
      "creating index...\n",
      "index created!\n",
      "Running per image evaluation...\n",
      "Evaluate annotation type *bbox*\n",
      "DONE (t=8.05s).\n",
      "Accumulating evaluation results...\n"
     ]
    },
    {
     "name": "stderr",
     "output_type": "stream",
     "text": [
      "2021-05-13 09:08:26,547 - mmdet - INFO - Now best checkpoint is epoch_1.pth.Best bbox_mAP_50 is 0.0740\n",
      "2021-05-13 09:08:26,554 - mmdet - INFO - Epoch(val) [1][655]\tbbox_mAP: 0.0310, bbox_mAP_50: 0.0740, bbox_mAP_75: 0.0200, bbox_mAP_s: 0.0040, bbox_mAP_m: 0.0270, bbox_mAP_l: 0.0610, bbox_mAP_copypaste: 0.031 0.074 0.020 0.004 0.027 0.061\n"
     ]
    },
    {
     "name": "stdout",
     "output_type": "stream",
     "text": [
      "DONE (t=1.81s).\n",
      "Average Precision  (AP) @[ IoU=0.50:0.95 | area=   all | maxDets=100 ] = 0.031\n",
      "Average Precision  (AP) @[ IoU=0.50      | area=   all | maxDets=1000 ] = 0.074\n",
      "Average Precision  (AP) @[ IoU=0.75      | area=   all | maxDets=1000 ] = 0.020\n",
      "Average Precision  (AP) @[ IoU=0.50:0.95 | area= small | maxDets=1000 ] = 0.004\n",
      "Average Precision  (AP) @[ IoU=0.50:0.95 | area=medium | maxDets=1000 ] = 0.027\n",
      "Average Precision  (AP) @[ IoU=0.50:0.95 | area= large | maxDets=1000 ] = 0.061\n",
      "Average Recall     (AR) @[ IoU=0.50:0.95 | area=   all | maxDets=100 ] = 0.103\n",
      "Average Recall     (AR) @[ IoU=0.50:0.95 | area=   all | maxDets=300 ] = 0.103\n",
      "Average Recall     (AR) @[ IoU=0.50:0.95 | area=   all | maxDets=1000 ] = 0.103\n",
      "Average Recall     (AR) @[ IoU=0.50:0.95 | area= small | maxDets=1000 ] = 0.022\n",
      "Average Recall     (AR) @[ IoU=0.50:0.95 | area=medium | maxDets=1000 ] = 0.095\n",
      "Average Recall     (AR) @[ IoU=0.50:0.95 | area= large | maxDets=1000 ] = 0.213\n"
     ]
    },
    {
     "data": {
      "text/html": [
       "<br/>Waiting for W&B process to finish, PID 12841<br/>Program ended successfully."
      ],
      "text/plain": [
       "<IPython.core.display.HTML object>"
      ]
     },
     "metadata": {},
     "output_type": "display_data"
    },
    {
     "data": {
      "application/vnd.jupyter.widget-view+json": {
       "model_id": "",
       "version_major": 2,
       "version_minor": 0
      },
      "text/plain": [
       "VBox(children=(Label(value=' 0.00MB of 0.00MB uploaded (0.00MB deduped)\\r'), FloatProgress(value=1.0, max=1.0)…"
      ]
     },
     "metadata": {},
     "output_type": "display_data"
    },
    {
     "data": {
      "text/html": [
       "Find user logs for this run at: <code>/opt/ml/code/mmdetection_trash/wandb/run-20210513_090403-26i8pl57/logs/debug.log</code>"
      ],
      "text/plain": [
       "<IPython.core.display.HTML object>"
      ]
     },
     "metadata": {},
     "output_type": "display_data"
    },
    {
     "data": {
      "text/html": [
       "Find internal logs for this run at: <code>/opt/ml/code/mmdetection_trash/wandb/run-20210513_090403-26i8pl57/logs/debug-internal.log</code>"
      ],
      "text/plain": [
       "<IPython.core.display.HTML object>"
      ]
     },
     "metadata": {},
     "output_type": "display_data"
    },
    {
     "data": {
      "text/html": [
       "<h3>Run summary:</h3><br/><style>\n",
       "    table.wandb td:nth-child(1) { padding: 0 10px; text-align: right }\n",
       "    </style><table class=\"wandb\">\n",
       "<tr><td>train/loss_rpn_cls</td><td>0.13518</td></tr><tr><td>train/loss_rpn_bbox</td><td>0.08384</td></tr><tr><td>train/loss_cls</td><td>0.44699</td></tr><tr><td>train/acc</td><td>88.60156</td></tr><tr><td>train/loss_bbox</td><td>0.39266</td></tr><tr><td>train/loss</td><td>1.05868</td></tr><tr><td>train/grad_norm</td><td>2.56666</td></tr><tr><td>learning_rate</td><td>0.02</td></tr><tr><td>momentum</td><td>0.9</td></tr><tr><td>_runtime</td><td>263</td></tr><tr><td>_timestamp</td><td>1620896906</td></tr><tr><td>_step</td><td>656</td></tr><tr><td>val/bbox_mAP</td><td>0.031</td></tr><tr><td>val/bbox_mAP_50</td><td>0.074</td></tr><tr><td>val/bbox_mAP_75</td><td>0.02</td></tr><tr><td>val/bbox_mAP_s</td><td>0.004</td></tr><tr><td>val/bbox_mAP_m</td><td>0.027</td></tr><tr><td>val/bbox_mAP_l</td><td>0.061</td></tr></table>"
      ],
      "text/plain": [
       "<IPython.core.display.HTML object>"
      ]
     },
     "metadata": {},
     "output_type": "display_data"
    },
    {
     "data": {
      "text/html": [
       "<h3>Run history:</h3><br/><style>\n",
       "    table.wandb td:nth-child(1) { padding: 0 10px; text-align: right }\n",
       "    </style><table class=\"wandb\">\n",
       "<tr><td>train/loss_rpn_cls</td><td>█▃▂▂▂▂▂▂▁▂▂▁▁</td></tr><tr><td>train/loss_rpn_bbox</td><td>▄██▄▂▇▆▄▂▄▁▁▆</td></tr><tr><td>train/loss_cls</td><td>█▁▂▂▂▂▁▁▁▂▁▁▁</td></tr><tr><td>train/acc</td><td>▁█▇█▇▆▆▇▆▆▇▆▆</td></tr><tr><td>train/loss_bbox</td><td>▁▆▆▆▇█▇▇▇▇▆▇▇</td></tr><tr><td>train/loss</td><td>█▂▃▂▂▃▂▁▁▂▁▁▁</td></tr><tr><td>train/grad_norm</td><td>█▁▃▃▂▂▂▂▂▂▁▁▁</td></tr><tr><td>learning_rate</td><td>▁▂▃▃▄▅▆▆▇█████</td></tr><tr><td>momentum</td><td>▁▁▁▁▁▁▁▁▁▁▁▁▁▁</td></tr><tr><td>_runtime</td><td>▁▁▂▂▃▃▄▄▅▅▆▆▇█</td></tr><tr><td>_timestamp</td><td>▁▁▂▂▃▃▄▄▅▅▆▆▇█</td></tr><tr><td>_step</td><td>▁▂▂▃▃▄▄▅▆▆▇▇██</td></tr><tr><td>val/bbox_mAP</td><td>▁</td></tr><tr><td>val/bbox_mAP_50</td><td>▁</td></tr><tr><td>val/bbox_mAP_75</td><td>▁</td></tr><tr><td>val/bbox_mAP_s</td><td>▁</td></tr><tr><td>val/bbox_mAP_m</td><td>▁</td></tr><tr><td>val/bbox_mAP_l</td><td>▁</td></tr></table><br/>"
      ],
      "text/plain": [
       "<IPython.core.display.HTML object>"
      ]
     },
     "metadata": {},
     "output_type": "display_data"
    },
    {
     "data": {
      "text/html": [
       "Synced 5 W&B file(s), 0 media file(s), 0 artifact file(s) and 0 other file(s)"
      ],
      "text/plain": [
       "<IPython.core.display.HTML object>"
      ]
     },
     "metadata": {},
     "output_type": "display_data"
    },
    {
     "data": {
      "text/html": [
       "\n",
       "                    <br/>Synced <strong style=\"color:#cdcd00\">FasterRCNN_v0</strong>: <a href=\"https://wandb.ai/jaegyeong/dsviz-demo/runs/26i8pl57\" target=\"_blank\">https://wandb.ai/jaegyeong/dsviz-demo/runs/26i8pl57</a><br/>\n",
       "                "
      ],
      "text/plain": [
       "<IPython.core.display.HTML object>"
      ]
     },
     "metadata": {},
     "output_type": "display_data"
    }
   ],
   "source": [
    "train_detector(model, datasets[0], cfg, distributed=False, validate=True)"
   ]
  },
  {
   "cell_type": "code",
   "execution_count": 4,
   "metadata": {},
   "outputs": [
    {
     "name": "stdout",
     "output_type": "stream",
     "text": [
      "loading annotations into memory...\n",
      "Done (t=0.87s)\n",
      "creating index...\n",
      "index created!\n"
     ]
    },
    {
     "name": "stderr",
     "output_type": "stream",
     "text": [
      "2021-05-13 09:10:16,694 - mmdet - INFO - load model from: torchvision://resnet50\n",
      "2021-05-13 09:10:16,695 - mmdet - INFO - Use load_from_torchvision loader\n",
      "2021-05-13 09:10:16,979 - mmdet - WARNING - The model and loaded state dict do not match exactly\n",
      "\n",
      "unexpected key in source state_dict: fc.weight, fc.bias\n",
      "\n"
     ]
    },
    {
     "name": "stdout",
     "output_type": "stream",
     "text": [
      "Use load_from_local loader\n",
      "[>>>>>>>>>>>>>>>>>>>>>>>>>>>>>] 655/655, 21.5 task/s, elapsed: 30s, ETA:     0sloading annotations into memory...\n",
      "Done (t=1.05s)\n",
      "creating index...\n",
      "index created!\n"
     ]
    },
    {
     "name": "stderr",
     "output_type": "stream",
     "text": [
      "\u001b[34m\u001b[1mwandb\u001b[0m: Currently logged in as: \u001b[33mjaegyeong\u001b[0m (use `wandb login --relogin` to force relogin)\n"
     ]
    },
    {
     "data": {
      "text/html": [
       "\n",
       "                Tracking run with wandb version 0.10.30<br/>\n",
       "                Syncing run <strong style=\"color:#cdcd00\">FasterRCNN_v0</strong> to <a href=\"https://wandb.ai\" target=\"_blank\">Weights & Biases</a> <a href=\"https://docs.wandb.com/integrations/jupyter.html\" target=\"_blank\">(Documentation)</a>.<br/>\n",
       "                Project page: <a href=\"https://wandb.ai/jaegyeong/dsviz-demo\" target=\"_blank\">https://wandb.ai/jaegyeong/dsviz-demo</a><br/>\n",
       "                Run page: <a href=\"https://wandb.ai/jaegyeong/dsviz-demo/runs/3hxl19uv\" target=\"_blank\">https://wandb.ai/jaegyeong/dsviz-demo/runs/3hxl19uv</a><br/>\n",
       "                Run data is saved locally in <code>/opt/ml/code/mmdetection_trash/wandb/run-20210513_091052-3hxl19uv</code><br/><br/>\n",
       "            "
      ],
      "text/plain": [
       "<IPython.core.display.HTML object>"
      ]
     },
     "metadata": {},
     "output_type": "display_data"
    },
    {
     "name": "stderr",
     "output_type": "stream",
     "text": [
      "WARNING:root:Images sizes do not match. This will causes images to be display incorrectly in the UI.\n"
     ]
    },
    {
     "data": {
      "text/html": [
       "<br/>Waiting for W&B process to finish, PID 13641<br/>Program ended successfully."
      ],
      "text/plain": [
       "<IPython.core.display.HTML object>"
      ]
     },
     "metadata": {},
     "output_type": "display_data"
    },
    {
     "data": {
      "application/vnd.jupyter.widget-view+json": {
       "model_id": "",
       "version_major": 2,
       "version_minor": 0
      },
      "text/plain": [
       "VBox(children=(Label(value=' 7.72MB of 8.19MB uploaded (0.00MB deduped)\\r'), FloatProgress(value=0.94240867933…"
      ]
     },
     "metadata": {},
     "output_type": "display_data"
    },
    {
     "data": {
      "text/html": [
       "Find user logs for this run at: <code>/opt/ml/code/mmdetection_trash/wandb/run-20210513_091052-3hxl19uv/logs/debug.log</code>"
      ],
      "text/plain": [
       "<IPython.core.display.HTML object>"
      ]
     },
     "metadata": {},
     "output_type": "display_data"
    },
    {
     "data": {
      "text/html": [
       "Find internal logs for this run at: <code>/opt/ml/code/mmdetection_trash/wandb/run-20210513_091052-3hxl19uv/logs/debug-internal.log</code>"
      ],
      "text/plain": [
       "<IPython.core.display.HTML object>"
      ]
     },
     "metadata": {},
     "output_type": "display_data"
    },
    {
     "data": {
      "text/html": [
       "<h3>Run summary:</h3><br/><style>\n",
       "    table.wandb td:nth-child(1) { padding: 0 10px; text-align: right }\n",
       "    </style><table class=\"wandb\">\n",
       "<tr><td>_runtime</td><td>14</td></tr><tr><td>_timestamp</td><td>1620897066</td></tr><tr><td>_step</td><td>1</td></tr></table>"
      ],
      "text/plain": [
       "<IPython.core.display.HTML object>"
      ]
     },
     "metadata": {},
     "output_type": "display_data"
    },
    {
     "data": {
      "text/html": [
       "<h3>Run history:</h3><br/><style>\n",
       "    table.wandb td:nth-child(1) { padding: 0 10px; text-align: right }\n",
       "    </style><table class=\"wandb\">\n",
       "<tr><td>_runtime</td><td>▁█</td></tr><tr><td>_timestamp</td><td>▁█</td></tr><tr><td>_step</td><td>▁█</td></tr></table><br/>"
      ],
      "text/plain": [
       "<IPython.core.display.HTML object>"
      ]
     },
     "metadata": {},
     "output_type": "display_data"
    },
    {
     "data": {
      "text/html": [
       "Synced 5 W&B file(s), 46 media file(s), 0 artifact file(s) and 0 other file(s)"
      ],
      "text/plain": [
       "<IPython.core.display.HTML object>"
      ]
     },
     "metadata": {},
     "output_type": "display_data"
    },
    {
     "data": {
      "text/html": [
       "\n",
       "                    <br/>Synced <strong style=\"color:#cdcd00\">FasterRCNN_v0</strong>: <a href=\"https://wandb.ai/jaegyeong/dsviz-demo/runs/3hxl19uv\" target=\"_blank\">https://wandb.ai/jaegyeong/dsviz-demo/runs/3hxl19uv</a><br/>\n",
       "                "
      ],
      "text/plain": [
       "<IPython.core.display.HTML object>"
      ]
     },
     "metadata": {},
     "output_type": "display_data"
    },
    {
     "name": "stdout",
     "output_type": "stream",
     "text": [
      "Done.\n"
     ]
    },
    {
     "data": {
      "image/png": "[encoded data removed]",
      "text/plain": [
       "<Figure size 1800x1152 with 1 Axes>"
      ]
     },
     "metadata": {
      "needs_background": "light"
     },
     "output_type": "display_data"
    },
    {
     "data": {
      "image/png": "[encoded data removed]",
      "text/plain": [
       "<Figure size 1440x1296 with 1 Axes>"
      ]
     },
     "metadata": {
      "needs_background": "light"
     },
     "output_type": "display_data"
    }
   ],
   "source": [
    "############## To Visualize ##############\n",
    "push_image(cfg, checkpoint_path, wandb_name=wandb_name, img_num=10, mode=\"val\", wandb_finish=True)\n",
    "##########################################"
   ]
  },
  {
   "cell_type": "code",
   "execution_count": null,
   "metadata": {},
   "outputs": [],
   "source": []
  }
 ],
 "metadata": {
  "kernelspec": {
   "display_name": "Python 3",
   "language": "python",
   "name": "python3"
  },
  "language_info": {
   "codemirror_mode": {
    "name": "ipython",
    "version": 3
   },
   "file_extension": ".py",
   "mimetype": "text/x-python",
   "name": "python",
   "nbconvert_exporter": "python",
   "pygments_lexer": "ipython3",
   "version": "3.7.7"
  },
  "pycharm": {
   "stem_cell": {
    "cell_type": "raw",
    "metadata": {
     "collapsed": false
    },
    "source": []
   }
  }
 },
 "nbformat": 4,
 "nbformat_minor": 4
}
