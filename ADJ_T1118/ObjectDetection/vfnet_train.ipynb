{
 "cells": [
  {
   "cell_type": "code",
   "execution_count": 4,
   "metadata": {
    "pycharm": {
     "name": "#%%\n"
    }
   },
   "outputs": [],
   "source": [
    "from mmcv import Config\n",
    "from mmdet.datasets import build_dataset\n",
    "from mmdet.models import build_detector\n",
    "from mmdet.apis import train_detector\n",
    "from mmdet.datasets import (build_dataloader, build_dataset,\n",
    "                            replace_ImageToTensor)\n",
    "\n",
    "# import wandb"
   ]
  },
  {
   "cell_type": "code",
   "execution_count": 8,
   "metadata": {
    "pycharm": {
     "name": "#%%\n"
    }
   },
   "outputs": [],
   "source": [
    "classes = (\"UNKNOWN\", \"General trash\", \"Paper\", \"Paper pack\", \"Metal\", \"Glass\", \n",
    "           \"Plastic\", \"Styrofoam\", \"Plastic bag\", \"Battery\", \"Clothing\")\n",
    "# config file 들고오기\n",
    "cfg = Config.fromfile('./configs/vfnet/vfnet_x101_64x4d_fpn_mdconv_c3-c5_mstrain_2x_coco.py')\n",
    "\n",
    "PREFIX = '../../input/data/'\n",
    "\n",
    "\n",
    "# dataset 바꾸기\n",
    "cfg.data.train.classes = classes\n",
    "cfg.data.train.img_prefix = PREFIX\n",
    "cfg.data.train.ann_file = PREFIX + 'train.json'\n",
    "cfg.data.train.pipeline[2]['img_scale'] = (512, 512)\n",
    "\n",
    "cfg.data.val.classes = classes\n",
    "cfg.data.val.img_prefix = PREFIX\n",
    "cfg.data.val.ann_file = PREFIX + 'val.json'\n",
    "cfg.data.val.pipeline[1]['img_scale'] = (512, 512)\n",
    "\n",
    "cfg.data.test.classes = classes\n",
    "cfg.data.test.img_prefix = PREFIX\n",
    "cfg.data.test.ann_file = PREFIX + 'test.json'\n",
    "cfg.data.test.pipeline[1]['img_scale'] = (512, 512)\n",
    "\n",
    "cfg.data.samples_per_gpu = 4\n",
    "\n",
    "cfg.seed=2020\n",
    "cfg.gpu_ids = [0]\n",
    "cfg.work_dir = './work_dirs/vfnet_x101_64x4d_fpn_mdconv_c3-c5_mstrain_2x'\n",
    "\n",
    "\n",
    "# cfg.model.roi_head.bbox_head.num_classes = 11\n",
    "\n",
    "\n",
    "cfg.optimizer_config.grad_clip = dict(max_norm=35, norm_type=2)"
   ]
  },
  {
   "cell_type": "code",
   "execution_count": null,
   "metadata": {},
   "outputs": [],
   "source": [
    "# import os\n",
    "# from visualization import push_image\n",
    "\n",
    "# wandb_name = f\"{cfg.model['Dongju-object_detection']}_v0\"                 # wandb run name, 원하는 이름으로 변경\n",
    "\n",
    "\n",
    "# cfg.log_config.hooks[1].init_kwargs.name = wandb_name  # loss, acc 기록과 시각화 기록이 다른 Run에 저장되어, 이름을 통일해 두기 위함.\n",
    "\n",
    "# checkpoint_file = 'best_bbox_mAP.pth'\n",
    "# checkpoint_path = os.path.join(cfg.work_dir, checkpoint_file)"
   ]
  },
  {
   "cell_type": "code",
   "execution_count": null,
   "metadata": {},
   "outputs": [],
   "source": []
  },
  {
   "cell_type": "code",
   "execution_count": null,
   "metadata": {},
   "outputs": [],
   "source": []
  },
  {
   "cell_type": "code",
   "execution_count": 9,
   "metadata": {
    "pycharm": {
     "name": "#%%\n"
    }
   },
   "outputs": [
    {
     "name": "stderr",
     "output_type": "stream",
     "text": [
      "2021-05-19 13:56:30,071 - mmdet - INFO - load model from: open-mmlab://resnext101_64x4d\n",
      "2021-05-19 13:56:30,072 - mmdet - INFO - Use load_from_openmmlab loader\n",
      "2021-05-19 13:56:30,326 - mmdet - WARNING - The model and loaded state dict do not match exactly\n",
      "\n",
      "missing keys in source state_dict: layer2.0.conv2.conv_offset.weight, layer2.0.conv2.conv_offset.bias, layer2.1.conv2.conv_offset.weight, layer2.1.conv2.conv_offset.bias, layer2.2.conv2.conv_offset.weight, layer2.2.conv2.conv_offset.bias, layer2.3.conv2.conv_offset.weight, layer2.3.conv2.conv_offset.bias, layer3.0.conv2.conv_offset.weight, layer3.0.conv2.conv_offset.bias, layer3.1.conv2.conv_offset.weight, layer3.1.conv2.conv_offset.bias, layer3.2.conv2.conv_offset.weight, layer3.2.conv2.conv_offset.bias, layer3.3.conv2.conv_offset.weight, layer3.3.conv2.conv_offset.bias, layer3.4.conv2.conv_offset.weight, layer3.4.conv2.conv_offset.bias, layer3.5.conv2.conv_offset.weight, layer3.5.conv2.conv_offset.bias, layer3.6.conv2.conv_offset.weight, layer3.6.conv2.conv_offset.bias, layer3.7.conv2.conv_offset.weight, layer3.7.conv2.conv_offset.bias, layer3.8.conv2.conv_offset.weight, layer3.8.conv2.conv_offset.bias, layer3.9.conv2.conv_offset.weight, layer3.9.conv2.conv_offset.bias, layer3.10.conv2.conv_offset.weight, layer3.10.conv2.conv_offset.bias, layer3.11.conv2.conv_offset.weight, layer3.11.conv2.conv_offset.bias, layer3.12.conv2.conv_offset.weight, layer3.12.conv2.conv_offset.bias, layer3.13.conv2.conv_offset.weight, layer3.13.conv2.conv_offset.bias, layer3.14.conv2.conv_offset.weight, layer3.14.conv2.conv_offset.bias, layer3.15.conv2.conv_offset.weight, layer3.15.conv2.conv_offset.bias, layer3.16.conv2.conv_offset.weight, layer3.16.conv2.conv_offset.bias, layer3.17.conv2.conv_offset.weight, layer3.17.conv2.conv_offset.bias, layer3.18.conv2.conv_offset.weight, layer3.18.conv2.conv_offset.bias, layer3.19.conv2.conv_offset.weight, layer3.19.conv2.conv_offset.bias, layer3.20.conv2.conv_offset.weight, layer3.20.conv2.conv_offset.bias, layer3.21.conv2.conv_offset.weight, layer3.21.conv2.conv_offset.bias, layer3.22.conv2.conv_offset.weight, layer3.22.conv2.conv_offset.bias, layer4.0.conv2.conv_offset.weight, layer4.0.conv2.conv_offset.bias, layer4.1.conv2.conv_offset.weight, layer4.1.conv2.conv_offset.bias, layer4.2.conv2.conv_offset.weight, layer4.2.conv2.conv_offset.bias\n",
      "\n"
     ]
    }
   ],
   "source": [
    "model = build_detector(cfg.model)"
   ]
  },
  {
   "cell_type": "code",
   "execution_count": 10,
   "metadata": {
    "pycharm": {
     "name": "#%%\n"
    }
   },
   "outputs": [
    {
     "name": "stdout",
     "output_type": "stream",
     "text": [
      "loading annotations into memory...\n"
     ]
    },
    {
     "name": "stderr",
     "output_type": "stream",
     "text": [
      "Exception ignored in: <function _TemporaryFileCloser.__del__ at 0x7ff161452cb0>\n",
      "Traceback (most recent call last):\n",
      "  File \"/opt/conda/lib/python3.7/tempfile.py\", line 448, in __del__\n",
      "    self.close()\n",
      "  File \"/opt/conda/lib/python3.7/tempfile.py\", line 444, in close\n",
      "    unlink(self.name)\n",
      "FileNotFoundError: [Errno 2] No such file or directory: '/tmp/tmp284sq6rq/tmprb_eqqvm.py'\n"
     ]
    },
    {
     "name": "stdout",
     "output_type": "stream",
     "text": [
      "Done (t=3.56s)\n",
      "creating index...\n",
      "index created!\n"
     ]
    }
   ],
   "source": [
    "datasets = [build_dataset(cfg.data.train)]"
   ]
  },
  {
   "cell_type": "code",
   "execution_count": 11,
   "metadata": {
    "pycharm": {
     "name": "#%%\n"
    }
   },
   "outputs": [
    {
     "name": "stdout",
     "output_type": "stream",
     "text": [
      "loading annotations into memory...\n"
     ]
    },
    {
     "name": "stderr",
     "output_type": "stream",
     "text": [
      "2021-05-19 13:56:38,377 - mmdet - INFO - load checkpoint from /opt/ml/code/mmdetection_trash/vfnet_x101_64x4d_fpn_mdconv_c3-c5_mstrain_2x_coco_20201027pth-b5f6da5e.pth\n",
      "2021-05-19 13:56:38,377 - mmdet - INFO - Use load_from_local loader\n"
     ]
    },
    {
     "name": "stdout",
     "output_type": "stream",
     "text": [
      "Done (t=1.21s)\n",
      "creating index...\n",
      "index created!\n"
     ]
    },
    {
     "name": "stderr",
     "output_type": "stream",
     "text": [
      "2021-05-19 13:56:38,756 - mmdet - WARNING - The model and loaded state dict do not match exactly\n",
      "\n",
      "size mismatch for bbox_head.vfnet_cls.weight: copying a param with shape torch.Size([80, 256, 3, 3]) from checkpoint, the shape in current model is torch.Size([11, 256, 3, 3]).\n",
      "size mismatch for bbox_head.vfnet_cls.bias: copying a param with shape torch.Size([80]) from checkpoint, the shape in current model is torch.Size([11]).\n",
      "2021-05-19 13:56:38,766 - mmdet - INFO - Start running, host: root@cf26aeee3585, work_dir: /opt/ml/code/mmdetection_trash/work_dirs/vfnet_x101_64x4d_fpn_mdconv_c3-c5_mstrain_2x\n",
      "2021-05-19 13:56:38,767 - mmdet - INFO - workflow: [('train', 1)], max: 24 epochs\n",
      "2021-05-19 13:58:20,027 - mmdet - INFO - Epoch [1][50/655]\tlr: 1.882e-03, eta: 8:48:53, time: 2.025, data_time: 0.050, memory: 5266, loss_cls: 1.8300, loss_bbox: 0.2592, loss_bbox_rf: 0.3354, loss: 2.4246, grad_norm: 7.4205\n",
      "2021-05-19 13:59:57,828 - mmdet - INFO - Epoch [1][100/655]\tlr: 2.782e-03, eta: 8:38:12, time: 1.956, data_time: 0.007, memory: 5266, loss_cls: 1.2444, loss_bbox: 0.2512, loss_bbox_rf: 0.3223, loss: 1.8179, grad_norm: 7.6279\n",
      "2021-05-19 14:01:36,144 - mmdet - INFO - Epoch [1][150/655]\tlr: 3.682e-03, eta: 8:34:27, time: 1.966, data_time: 0.007, memory: 5266, loss_cls: 1.1675, loss_bbox: 0.2453, loss_bbox_rf: 0.3128, loss: 1.7256, grad_norm: 7.2070\n",
      "2021-05-19 14:03:13,939 - mmdet - INFO - Epoch [1][200/655]\tlr: 4.582e-03, eta: 8:31:04, time: 1.956, data_time: 0.007, memory: 5266, loss_cls: 1.0605, loss_bbox: 0.2562, loss_bbox_rf: 0.3255, loss: 1.6422, grad_norm: 5.7685\n",
      "2021-05-19 14:04:51,680 - mmdet - INFO - Epoch [1][250/655]\tlr: 5.482e-03, eta: 8:28:21, time: 1.955, data_time: 0.007, memory: 5266, loss_cls: 1.0606, loss_bbox: 0.2485, loss_bbox_rf: 0.3104, loss: 1.6195, grad_norm: 6.0254\n",
      "2021-05-19 14:06:29,346 - mmdet - INFO - Epoch [1][300/655]\tlr: 6.382e-03, eta: 8:25:55, time: 1.953, data_time: 0.007, memory: 5266, loss_cls: 1.1286, loss_bbox: 0.2706, loss_bbox_rf: 0.3402, loss: 1.7395, grad_norm: 6.3743\n",
      "2021-05-19 14:08:07,116 - mmdet - INFO - Epoch [1][350/655]\tlr: 7.282e-03, eta: 8:23:48, time: 1.955, data_time: 0.007, memory: 5266, loss_cls: 1.1587, loss_bbox: 0.2851, loss_bbox_rf: 0.3587, loss: 1.8025, grad_norm: 5.7283\n",
      "2021-05-19 14:09:45,224 - mmdet - INFO - Epoch [1][400/655]\tlr: 8.182e-03, eta: 8:22:01, time: 1.962, data_time: 0.007, memory: 5266, loss_cls: 1.0990, loss_bbox: 0.2748, loss_bbox_rf: 0.3444, loss: 1.7182, grad_norm: 5.3194\n",
      "2021-05-19 14:11:23,016 - mmdet - INFO - Epoch [1][450/655]\tlr: 9.082e-03, eta: 8:20:05, time: 1.956, data_time: 0.007, memory: 5266, loss_cls: 1.1204, loss_bbox: 0.3064, loss_bbox_rf: 0.3820, loss: 1.8089, grad_norm: 5.6444\n",
      "2021-05-19 14:13:00,812 - mmdet - INFO - Epoch [1][500/655]\tlr: 9.982e-03, eta: 8:18:13, time: 1.956, data_time: 0.007, memory: 5266, loss_cls: 1.1369, loss_bbox: 0.2808, loss_bbox_rf: 0.3484, loss: 1.7661, grad_norm: 5.5803\n",
      "2021-05-19 14:14:38,879 - mmdet - INFO - Epoch [1][550/655]\tlr: 1.000e-02, eta: 8:16:31, time: 1.961, data_time: 0.007, memory: 5266, loss_cls: 1.1322, loss_bbox: 0.2991, loss_bbox_rf: 0.3692, loss: 1.8005, grad_norm: 5.6468\n",
      "2021-05-19 14:16:17,059 - mmdet - INFO - Epoch [1][600/655]\tlr: 1.000e-02, eta: 8:14:52, time: 1.964, data_time: 0.007, memory: 5266, loss_cls: 1.1073, loss_bbox: 0.3298, loss_bbox_rf: 0.4145, loss: 1.8515, grad_norm: 4.9510\n",
      "2021-05-19 14:17:55,006 - mmdet - INFO - Epoch [1][650/655]\tlr: 1.000e-02, eta: 8:13:08, time: 1.959, data_time: 0.007, memory: 5266, loss_cls: 1.0712, loss_bbox: 0.2901, loss_bbox_rf: 0.3595, loss: 1.7207, grad_norm: 4.5100\n",
      "2021-05-19 14:18:04,838 - mmdet - INFO - Saving checkpoint at 1 epochs\n"
     ]
    },
    {
     "name": "stdout",
     "output_type": "stream",
     "text": [
      "[>>>>>>>>>>>>>>>>>>>>>>>>>>>>>>] 655/655, 7.5 task/s, elapsed: 88s, ETA:     0s"
     ]
    },
    {
     "name": "stderr",
     "output_type": "stream",
     "text": [
      "2021-05-19 14:19:40,111 - mmdet - INFO - Evaluating bbox...\n"
     ]
    },
    {
     "name": "stdout",
     "output_type": "stream",
     "text": [
      "Loading and preparing results...\n",
      "DONE (t=1.21s)\n",
      "creating index...\n",
      "index created!\n",
      "Running per image evaluation...\n",
      "Evaluate annotation type *bbox*\n",
      "DONE (t=7.63s).\n",
      "Accumulating evaluation results...\n"
     ]
    },
    {
     "name": "stderr",
     "output_type": "stream",
     "text": [
      "2021-05-19 14:19:51,108 - mmdet - INFO - Epoch(val) [1][655]\tbbox_mAP: 0.1320, bbox_mAP_50: 0.1930, bbox_mAP_75: 0.1370, bbox_mAP_s: 0.0410, bbox_mAP_m: 0.1380, bbox_mAP_l: 0.2280, bbox_mAP_copypaste: 0.132 0.193 0.137 0.041 0.138 0.228\n"
     ]
    },
    {
     "name": "stdout",
     "output_type": "stream",
     "text": [
      "DONE (t=2.00s).\n",
      "Average Precision  (AP) @[ IoU=0.50:0.95 | area=   all | maxDets=100 ] = 0.132\n",
      "Average Precision  (AP) @[ IoU=0.50      | area=   all | maxDets=1000 ] = 0.193\n",
      "Average Precision  (AP) @[ IoU=0.75      | area=   all | maxDets=1000 ] = 0.137\n",
      "Average Precision  (AP) @[ IoU=0.50:0.95 | area= small | maxDets=1000 ] = 0.041\n",
      "Average Precision  (AP) @[ IoU=0.50:0.95 | area=medium | maxDets=1000 ] = 0.138\n",
      "Average Precision  (AP) @[ IoU=0.50:0.95 | area= large | maxDets=1000 ] = 0.228\n",
      "Average Recall     (AR) @[ IoU=0.50:0.95 | area=   all | maxDets=100 ] = 0.344\n",
      "Average Recall     (AR) @[ IoU=0.50:0.95 | area=   all | maxDets=300 ] = 0.344\n",
      "Average Recall     (AR) @[ IoU=0.50:0.95 | area=   all | maxDets=1000 ] = 0.344\n",
      "Average Recall     (AR) @[ IoU=0.50:0.95 | area= small | maxDets=1000 ] = 0.139\n",
      "Average Recall     (AR) @[ IoU=0.50:0.95 | area=medium | maxDets=1000 ] = 0.314\n",
      "Average Recall     (AR) @[ IoU=0.50:0.95 | area= large | maxDets=1000 ] = 0.635\n"
     ]
    },
    {
     "name": "stderr",
     "output_type": "stream",
     "text": [
      "2021-05-19 14:21:31,528 - mmdet - INFO - Epoch [2][50/655]\tlr: 1.000e-02, eta: 8:08:39, time: 2.008, data_time: 0.051, memory: 5266, loss_cls: 0.9520, loss_bbox: 0.2766, loss_bbox_rf: 0.3421, loss: 1.5707, grad_norm: 4.1619\n",
      "2021-05-19 14:23:09,361 - mmdet - INFO - Epoch [2][100/655]\tlr: 1.000e-02, eta: 8:07:05, time: 1.957, data_time: 0.007, memory: 5266, loss_cls: 1.0511, loss_bbox: 0.2726, loss_bbox_rf: 0.3347, loss: 1.6583, grad_norm: 5.0382\n",
      "2021-05-19 14:24:47,406 - mmdet - INFO - Epoch [2][150/655]\tlr: 1.000e-02, eta: 8:05:35, time: 1.961, data_time: 0.007, memory: 5266, loss_cls: 1.0643, loss_bbox: 0.2807, loss_bbox_rf: 0.3460, loss: 1.6911, grad_norm: 5.2737\n",
      "2021-05-19 14:26:25,477 - mmdet - INFO - Epoch [2][200/655]\tlr: 1.000e-02, eta: 8:04:04, time: 1.961, data_time: 0.007, memory: 5266, loss_cls: 1.0178, loss_bbox: 0.2769, loss_bbox_rf: 0.3429, loss: 1.6376, grad_norm: 4.1374\n",
      "2021-05-19 14:28:03,635 - mmdet - INFO - Epoch [2][250/655]\tlr: 1.000e-02, eta: 8:02:34, time: 1.963, data_time: 0.007, memory: 5266, loss_cls: 0.9494, loss_bbox: 0.2794, loss_bbox_rf: 0.3483, loss: 1.5771, grad_norm: 4.1974\n",
      "2021-05-19 14:29:41,646 - mmdet - INFO - Epoch [2][300/655]\tlr: 1.000e-02, eta: 8:01:01, time: 1.960, data_time: 0.007, memory: 5266, loss_cls: 1.0074, loss_bbox: 0.2741, loss_bbox_rf: 0.3358, loss: 1.6173, grad_norm: 4.6714\n",
      "2021-05-19 14:31:19,670 - mmdet - INFO - Epoch [2][350/655]\tlr: 1.000e-02, eta: 7:59:27, time: 1.960, data_time: 0.007, memory: 5266, loss_cls: 1.0674, loss_bbox: 0.2739, loss_bbox_rf: 0.3418, loss: 1.6830, grad_norm: 4.9120\n",
      "2021-05-19 14:32:57,997 - mmdet - INFO - Epoch [2][400/655]\tlr: 1.000e-02, eta: 7:57:58, time: 1.967, data_time: 0.007, memory: 5266, loss_cls: 1.0148, loss_bbox: 0.2754, loss_bbox_rf: 0.3425, loss: 1.6327, grad_norm: 4.4537\n",
      "2021-05-19 14:34:35,766 - mmdet - INFO - Epoch [2][450/655]\tlr: 1.000e-02, eta: 7:56:20, time: 1.955, data_time: 0.007, memory: 5266, loss_cls: 0.9726, loss_bbox: 0.2800, loss_bbox_rf: 0.3423, loss: 1.5948, grad_norm: 4.3957\n",
      "2021-05-19 14:36:13,813 - mmdet - INFO - Epoch [2][500/655]\tlr: 1.000e-02, eta: 7:54:45, time: 1.961, data_time: 0.007, memory: 5266, loss_cls: 0.9481, loss_bbox: 0.2697, loss_bbox_rf: 0.3376, loss: 1.5554, grad_norm: 4.0772\n",
      "2021-05-19 14:37:51,855 - mmdet - INFO - Epoch [2][550/655]\tlr: 1.000e-02, eta: 7:53:11, time: 1.961, data_time: 0.007, memory: 5266, loss_cls: 1.0057, loss_bbox: 0.2822, loss_bbox_rf: 0.3513, loss: 1.6392, grad_norm: 4.2934\n",
      "2021-05-19 14:39:30,141 - mmdet - INFO - Epoch [2][600/655]\tlr: 1.000e-02, eta: 7:51:38, time: 1.966, data_time: 0.007, memory: 5266, loss_cls: 1.0884, loss_bbox: 0.2598, loss_bbox_rf: 0.3224, loss: 1.6705, grad_norm: 4.8735\n",
      "2021-05-19 14:41:08,158 - mmdet - INFO - Epoch [2][650/655]\tlr: 1.000e-02, eta: 7:50:03, time: 1.960, data_time: 0.007, memory: 5266, loss_cls: 0.9665, loss_bbox: 0.2711, loss_bbox_rf: 0.3309, loss: 1.5685, grad_norm: 4.1776\n",
      "2021-05-19 14:41:17,977 - mmdet - INFO - Saving checkpoint at 2 epochs\n"
     ]
    },
    {
     "name": "stdout",
     "output_type": "stream",
     "text": [
      "[>>>>>>>>>>>>>>>>>>>>>>>>>>>>>>] 655/655, 8.2 task/s, elapsed: 80s, ETA:     0s"
     ]
    },
    {
     "name": "stderr",
     "output_type": "stream",
     "text": [
      "2021-05-19 14:42:45,581 - mmdet - INFO - Evaluating bbox...\n"
     ]
    },
    {
     "name": "stdout",
     "output_type": "stream",
     "text": [
      "Loading and preparing results...\n",
      "DONE (t=1.15s)\n",
      "creating index...\n",
      "index created!\n",
      "Running per image evaluation...\n",
      "Evaluate annotation type *bbox*\n",
      "DONE (t=7.94s).\n",
      "Accumulating evaluation results...\n"
     ]
    },
    {
     "name": "stderr",
     "output_type": "stream",
     "text": [
      "2021-05-19 14:42:56,708 - mmdet - INFO - Epoch(val) [2][655]\tbbox_mAP: 0.1680, bbox_mAP_50: 0.2380, bbox_mAP_75: 0.1770, bbox_mAP_s: 0.0470, bbox_mAP_m: 0.1560, bbox_mAP_l: 0.3250, bbox_mAP_copypaste: 0.168 0.238 0.177 0.047 0.156 0.325\n"
     ]
    },
    {
     "name": "stdout",
     "output_type": "stream",
     "text": [
      "DONE (t=1.89s).\n",
      "Average Precision  (AP) @[ IoU=0.50:0.95 | area=   all | maxDets=100 ] = 0.168\n",
      "Average Precision  (AP) @[ IoU=0.50      | area=   all | maxDets=1000 ] = 0.238\n",
      "Average Precision  (AP) @[ IoU=0.75      | area=   all | maxDets=1000 ] = 0.177\n",
      "Average Precision  (AP) @[ IoU=0.50:0.95 | area= small | maxDets=1000 ] = 0.047\n",
      "Average Precision  (AP) @[ IoU=0.50:0.95 | area=medium | maxDets=1000 ] = 0.156\n",
      "Average Precision  (AP) @[ IoU=0.50:0.95 | area= large | maxDets=1000 ] = 0.325\n",
      "Average Recall     (AR) @[ IoU=0.50:0.95 | area=   all | maxDets=100 ] = 0.395\n",
      "Average Recall     (AR) @[ IoU=0.50:0.95 | area=   all | maxDets=300 ] = 0.395\n",
      "Average Recall     (AR) @[ IoU=0.50:0.95 | area=   all | maxDets=1000 ] = 0.395\n",
      "Average Recall     (AR) @[ IoU=0.50:0.95 | area= small | maxDets=1000 ] = 0.123\n",
      "Average Recall     (AR) @[ IoU=0.50:0.95 | area=medium | maxDets=1000 ] = 0.377\n",
      "Average Recall     (AR) @[ IoU=0.50:0.95 | area= large | maxDets=1000 ] = 0.687\n"
     ]
    },
    {
     "name": "stderr",
     "output_type": "stream",
     "text": [
      "2021-05-19 14:44:36,719 - mmdet - INFO - Epoch [3][50/655]\tlr: 1.000e-02, eta: 7:46:55, time: 2.000, data_time: 0.051, memory: 5266, loss_cls: 0.9927, loss_bbox: 0.2484, loss_bbox_rf: 0.3039, loss: 1.5451, grad_norm: 4.4888\n",
      "2021-05-19 14:46:14,384 - mmdet - INFO - Epoch [3][100/655]\tlr: 1.000e-02, eta: 7:45:19, time: 1.953, data_time: 0.007, memory: 5266, loss_cls: 0.9085, loss_bbox: 0.2624, loss_bbox_rf: 0.3247, loss: 1.4956, grad_norm: 4.0792\n",
      "2021-05-19 14:47:52,533 - mmdet - INFO - Epoch [3][150/655]\tlr: 1.000e-02, eta: 7:43:47, time: 1.963, data_time: 0.007, memory: 5266, loss_cls: 0.9608, loss_bbox: 0.2470, loss_bbox_rf: 0.2993, loss: 1.5071, grad_norm: 4.9841\n",
      "2021-05-19 14:49:30,239 - mmdet - INFO - Epoch [3][200/655]\tlr: 1.000e-02, eta: 7:42:11, time: 1.954, data_time: 0.007, memory: 5266, loss_cls: 0.9580, loss_bbox: 0.2698, loss_bbox_rf: 0.3377, loss: 1.5655, grad_norm: 4.1795\n",
      "2021-05-19 14:51:08,170 - mmdet - INFO - Epoch [3][250/655]\tlr: 1.000e-02, eta: 7:40:36, time: 1.959, data_time: 0.007, memory: 5266, loss_cls: 0.9457, loss_bbox: 0.2682, loss_bbox_rf: 0.3239, loss: 1.5378, grad_norm: 4.5218\n",
      "2021-05-19 14:52:45,819 - mmdet - INFO - Epoch [3][300/655]\tlr: 1.000e-02, eta: 7:38:59, time: 1.953, data_time: 0.007, memory: 5266, loss_cls: 0.9776, loss_bbox: 0.2850, loss_bbox_rf: 0.3522, loss: 1.6148, grad_norm: 4.2355\n",
      "2021-05-19 14:54:23,874 - mmdet - INFO - Epoch [3][350/655]\tlr: 1.000e-02, eta: 7:37:25, time: 1.961, data_time: 0.007, memory: 5266, loss_cls: 0.9373, loss_bbox: 0.2603, loss_bbox_rf: 0.3208, loss: 1.5185, grad_norm: 4.2787\n",
      "2021-05-19 14:56:01,733 - mmdet - INFO - Epoch [3][400/655]\tlr: 1.000e-02, eta: 7:35:50, time: 1.957, data_time: 0.007, memory: 5266, loss_cls: 0.9572, loss_bbox: 0.2730, loss_bbox_rf: 0.3287, loss: 1.5589, grad_norm: 4.6154\n",
      "2021-05-19 14:57:39,507 - mmdet - INFO - Epoch [3][450/655]\tlr: 1.000e-02, eta: 7:34:14, time: 1.955, data_time: 0.007, memory: 5266, loss_cls: 0.9993, loss_bbox: 0.2732, loss_bbox_rf: 0.3402, loss: 1.6127, grad_norm: 4.5682\n",
      "2021-05-19 14:59:18,269 - mmdet - INFO - Epoch [3][500/655]\tlr: 1.000e-02, eta: 7:32:45, time: 1.975, data_time: 0.007, memory: 5266, loss_cls: 0.9557, loss_bbox: 0.2701, loss_bbox_rf: 0.3363, loss: 1.5621, grad_norm: 4.4413\n",
      "2021-05-19 15:00:56,270 - mmdet - INFO - Epoch [3][550/655]\tlr: 1.000e-02, eta: 7:31:10, time: 1.960, data_time: 0.007, memory: 5266, loss_cls: 0.9192, loss_bbox: 0.2554, loss_bbox_rf: 0.3190, loss: 1.4936, grad_norm: 3.8634\n",
      "2021-05-19 15:02:34,387 - mmdet - INFO - Epoch [3][600/655]\tlr: 1.000e-02, eta: 7:29:35, time: 1.962, data_time: 0.007, memory: 5266, loss_cls: 0.9269, loss_bbox: 0.2484, loss_bbox_rf: 0.3081, loss: 1.4834, grad_norm: 4.1318\n",
      "2021-05-19 15:04:12,458 - mmdet - INFO - Epoch [3][650/655]\tlr: 1.000e-02, eta: 7:28:01, time: 1.961, data_time: 0.007, memory: 5266, loss_cls: 0.9573, loss_bbox: 0.2603, loss_bbox_rf: 0.3182, loss: 1.5358, grad_norm: 4.2571\n",
      "2021-05-19 15:04:22,294 - mmdet - INFO - Saving checkpoint at 3 epochs\n"
     ]
    },
    {
     "name": "stdout",
     "output_type": "stream",
     "text": [
      "[>>>>>>>>>>>>>>>>>>>>>>>>>>>>>>] 655/655, 8.3 task/s, elapsed: 79s, ETA:     0s"
     ]
    },
    {
     "name": "stderr",
     "output_type": "stream",
     "text": [
      "2021-05-19 15:05:48,514 - mmdet - INFO - Evaluating bbox...\n"
     ]
    },
    {
     "name": "stdout",
     "output_type": "stream",
     "text": [
      "Loading and preparing results...\n",
      "DONE (t=0.71s)\n",
      "creating index...\n",
      "index created!\n",
      "Running per image evaluation...\n",
      "Evaluate annotation type *bbox*\n",
      "DONE (t=8.20s).\n",
      "Accumulating evaluation results...\n"
     ]
    },
    {
     "name": "stderr",
     "output_type": "stream",
     "text": [
      "2021-05-19 15:05:59,243 - mmdet - INFO - Epoch(val) [3][655]\tbbox_mAP: 0.1860, bbox_mAP_50: 0.2550, bbox_mAP_75: 0.1970, bbox_mAP_s: 0.0430, bbox_mAP_m: 0.2050, bbox_mAP_l: 0.3980, bbox_mAP_copypaste: 0.186 0.255 0.197 0.043 0.205 0.398\n"
     ]
    },
    {
     "name": "stdout",
     "output_type": "stream",
     "text": [
      "DONE (t=1.67s).\n",
      "Average Precision  (AP) @[ IoU=0.50:0.95 | area=   all | maxDets=100 ] = 0.186\n",
      "Average Precision  (AP) @[ IoU=0.50      | area=   all | maxDets=1000 ] = 0.255\n",
      "Average Precision  (AP) @[ IoU=0.75      | area=   all | maxDets=1000 ] = 0.197\n",
      "Average Precision  (AP) @[ IoU=0.50:0.95 | area= small | maxDets=1000 ] = 0.043\n",
      "Average Precision  (AP) @[ IoU=0.50:0.95 | area=medium | maxDets=1000 ] = 0.205\n",
      "Average Precision  (AP) @[ IoU=0.50:0.95 | area= large | maxDets=1000 ] = 0.398\n",
      "Average Recall     (AR) @[ IoU=0.50:0.95 | area=   all | maxDets=100 ] = 0.400\n",
      "Average Recall     (AR) @[ IoU=0.50:0.95 | area=   all | maxDets=300 ] = 0.400\n",
      "Average Recall     (AR) @[ IoU=0.50:0.95 | area=   all | maxDets=1000 ] = 0.400\n",
      "Average Recall     (AR) @[ IoU=0.50:0.95 | area= small | maxDets=1000 ] = 0.105\n",
      "Average Recall     (AR) @[ IoU=0.50:0.95 | area=medium | maxDets=1000 ] = 0.380\n",
      "Average Recall     (AR) @[ IoU=0.50:0.95 | area= large | maxDets=1000 ] = 0.700\n"
     ]
    },
    {
     "name": "stderr",
     "output_type": "stream",
     "text": [
      "2021-05-19 15:07:39,215 - mmdet - INFO - Epoch [4][50/655]\tlr: 1.000e-02, eta: 7:25:22, time: 1.999, data_time: 0.051, memory: 5266, loss_cls: 0.9144, loss_bbox: 0.2494, loss_bbox_rf: 0.3018, loss: 1.4656, grad_norm: 4.4747\n",
      "2021-05-19 15:09:16,959 - mmdet - INFO - Epoch [4][100/655]\tlr: 1.000e-02, eta: 7:23:46, time: 1.955, data_time: 0.007, memory: 5266, loss_cls: 0.9431, loss_bbox: 0.2462, loss_bbox_rf: 0.3029, loss: 1.4923, grad_norm: 4.5611\n",
      "2021-05-19 15:10:54,719 - mmdet - INFO - Epoch [4][150/655]\tlr: 1.000e-02, eta: 7:22:11, time: 1.955, data_time: 0.007, memory: 5266, loss_cls: 0.8942, loss_bbox: 0.2369, loss_bbox_rf: 0.2909, loss: 1.4220, grad_norm: 4.2303\n",
      "2021-05-19 15:12:32,812 - mmdet - INFO - Epoch [4][200/655]\tlr: 1.000e-02, eta: 7:20:37, time: 1.962, data_time: 0.007, memory: 5266, loss_cls: 0.9047, loss_bbox: 0.2475, loss_bbox_rf: 0.2988, loss: 1.4510, grad_norm: 4.5969\n",
      "2021-05-19 15:14:10,870 - mmdet - INFO - Epoch [4][250/655]\tlr: 1.000e-02, eta: 7:19:03, time: 1.961, data_time: 0.007, memory: 5266, loss_cls: 0.9531, loss_bbox: 0.2764, loss_bbox_rf: 0.3463, loss: 1.5758, grad_norm: 4.6070\n",
      "2021-05-19 15:15:48,756 - mmdet - INFO - Epoch [4][300/655]\tlr: 1.000e-02, eta: 7:17:27, time: 1.958, data_time: 0.007, memory: 5266, loss_cls: 0.9102, loss_bbox: 0.2584, loss_bbox_rf: 0.3216, loss: 1.4902, grad_norm: 4.0245\n",
      "2021-05-19 15:17:26,662 - mmdet - INFO - Epoch [4][350/655]\tlr: 1.000e-02, eta: 7:15:52, time: 1.958, data_time: 0.007, memory: 5266, loss_cls: 0.8923, loss_bbox: 0.2550, loss_bbox_rf: 0.3126, loss: 1.4599, grad_norm: 4.0843\n",
      "2021-05-19 15:19:04,861 - mmdet - INFO - Epoch [4][400/655]\tlr: 1.000e-02, eta: 7:14:18, time: 1.964, data_time: 0.007, memory: 5266, loss_cls: 0.8848, loss_bbox: 0.2459, loss_bbox_rf: 0.2974, loss: 1.4280, grad_norm: 4.3742\n",
      "2021-05-19 15:20:42,414 - mmdet - INFO - Epoch [4][450/655]\tlr: 1.000e-02, eta: 7:12:40, time: 1.951, data_time: 0.007, memory: 5266, loss_cls: 0.9542, loss_bbox: 0.2473, loss_bbox_rf: 0.3004, loss: 1.5020, grad_norm: 4.4561\n",
      "2021-05-19 15:22:21,009 - mmdet - INFO - Epoch [4][500/655]\tlr: 1.000e-02, eta: 7:11:08, time: 1.972, data_time: 0.007, memory: 5266, loss_cls: 0.8562, loss_bbox: 0.2552, loss_bbox_rf: 0.3160, loss: 1.4274, grad_norm: 3.9769\n",
      "2021-05-19 15:23:59,151 - mmdet - INFO - Epoch [4][550/655]\tlr: 1.000e-02, eta: 7:09:34, time: 1.963, data_time: 0.007, memory: 5266, loss_cls: 0.9553, loss_bbox: 0.2348, loss_bbox_rf: 0.2884, loss: 1.4785, grad_norm: 4.8067\n",
      "2021-05-19 15:25:37,133 - mmdet - INFO - Epoch [4][600/655]\tlr: 1.000e-02, eta: 7:07:58, time: 1.960, data_time: 0.007, memory: 5266, loss_cls: 0.9282, loss_bbox: 0.2495, loss_bbox_rf: 0.3061, loss: 1.4837, grad_norm: 4.6355\n",
      "2021-05-19 15:27:14,917 - mmdet - INFO - Epoch [4][650/655]\tlr: 1.000e-02, eta: 7:06:21, time: 1.956, data_time: 0.007, memory: 5266, loss_cls: 0.8731, loss_bbox: 0.2554, loss_bbox_rf: 0.3160, loss: 1.4446, grad_norm: 4.1570\n",
      "2021-05-19 15:27:24,752 - mmdet - INFO - Saving checkpoint at 4 epochs\n"
     ]
    },
    {
     "name": "stdout",
     "output_type": "stream",
     "text": [
      "[>>>>>>>>>>>>>>>>>>>>>>>>>>>>>>] 655/655, 8.2 task/s, elapsed: 80s, ETA:     0s"
     ]
    },
    {
     "name": "stderr",
     "output_type": "stream",
     "text": [
      "2021-05-19 15:28:51,891 - mmdet - INFO - Evaluating bbox...\n"
     ]
    },
    {
     "name": "stdout",
     "output_type": "stream",
     "text": [
      "Loading and preparing results...\n",
      "DONE (t=1.14s)\n",
      "creating index...\n",
      "index created!\n",
      "Running per image evaluation...\n",
      "Evaluate annotation type *bbox*\n",
      "DONE (t=7.55s).\n",
      "Accumulating evaluation results...\n"
     ]
    },
    {
     "name": "stderr",
     "output_type": "stream",
     "text": [
      "2021-05-19 15:29:02,597 - mmdet - INFO - Epoch(val) [4][655]\tbbox_mAP: 0.2000, bbox_mAP_50: 0.2800, bbox_mAP_75: 0.2040, bbox_mAP_s: 0.0490, bbox_mAP_m: 0.2190, bbox_mAP_l: 0.3530, bbox_mAP_copypaste: 0.200 0.280 0.204 0.049 0.219 0.353\n"
     ]
    },
    {
     "name": "stdout",
     "output_type": "stream",
     "text": [
      "DONE (t=1.87s).\n",
      "Average Precision  (AP) @[ IoU=0.50:0.95 | area=   all | maxDets=100 ] = 0.200\n",
      "Average Precision  (AP) @[ IoU=0.50      | area=   all | maxDets=1000 ] = 0.280\n",
      "Average Precision  (AP) @[ IoU=0.75      | area=   all | maxDets=1000 ] = 0.204\n",
      "Average Precision  (AP) @[ IoU=0.50:0.95 | area= small | maxDets=1000 ] = 0.049\n",
      "Average Precision  (AP) @[ IoU=0.50:0.95 | area=medium | maxDets=1000 ] = 0.219\n",
      "Average Precision  (AP) @[ IoU=0.50:0.95 | area= large | maxDets=1000 ] = 0.353\n",
      "Average Recall     (AR) @[ IoU=0.50:0.95 | area=   all | maxDets=100 ] = 0.435\n",
      "Average Recall     (AR) @[ IoU=0.50:0.95 | area=   all | maxDets=300 ] = 0.435\n",
      "Average Recall     (AR) @[ IoU=0.50:0.95 | area=   all | maxDets=1000 ] = 0.435\n",
      "Average Recall     (AR) @[ IoU=0.50:0.95 | area= small | maxDets=1000 ] = 0.155\n",
      "Average Recall     (AR) @[ IoU=0.50:0.95 | area=medium | maxDets=1000 ] = 0.419\n",
      "Average Recall     (AR) @[ IoU=0.50:0.95 | area= large | maxDets=1000 ] = 0.708\n"
     ]
    },
    {
     "name": "stderr",
     "output_type": "stream",
     "text": [
      "2021-05-19 15:30:42,712 - mmdet - INFO - Epoch [5][50/655]\tlr: 1.000e-02, eta: 7:03:59, time: 2.002, data_time: 0.052, memory: 5266, loss_cls: 0.8830, loss_bbox: 0.2278, loss_bbox_rf: 0.2754, loss: 1.3862, grad_norm: 4.2798\n",
      "2021-05-19 15:32:20,538 - mmdet - INFO - Epoch [5][100/655]\tlr: 1.000e-02, eta: 7:02:23, time: 1.957, data_time: 0.007, memory: 5266, loss_cls: 0.9133, loss_bbox: 0.2259, loss_bbox_rf: 0.2774, loss: 1.4166, grad_norm: 4.8272\n",
      "2021-05-19 15:33:58,928 - mmdet - INFO - Epoch [5][150/655]\tlr: 1.000e-02, eta: 7:00:50, time: 1.968, data_time: 0.007, memory: 5266, loss_cls: 0.8876, loss_bbox: 0.2414, loss_bbox_rf: 0.3021, loss: 1.4311, grad_norm: 4.3527\n",
      "2021-05-19 15:35:37,397 - mmdet - INFO - Epoch [5][200/655]\tlr: 1.000e-02, eta: 6:59:17, time: 1.969, data_time: 0.007, memory: 5266, loss_cls: 0.8859, loss_bbox: 0.2584, loss_bbox_rf: 0.3183, loss: 1.4626, grad_norm: 4.4337\n",
      "2021-05-19 15:37:15,741 - mmdet - INFO - Epoch [5][250/655]\tlr: 1.000e-02, eta: 6:57:43, time: 1.967, data_time: 0.007, memory: 5266, loss_cls: 0.8776, loss_bbox: 0.2330, loss_bbox_rf: 0.2838, loss: 1.3944, grad_norm: 4.4118\n",
      "2021-05-19 15:38:53,706 - mmdet - INFO - Epoch [5][300/655]\tlr: 1.000e-02, eta: 6:56:07, time: 1.959, data_time: 0.007, memory: 5266, loss_cls: 0.8755, loss_bbox: 0.2380, loss_bbox_rf: 0.2956, loss: 1.4091, grad_norm: 4.4346\n",
      "2021-05-19 15:40:31,705 - mmdet - INFO - Epoch [5][350/655]\tlr: 1.000e-02, eta: 6:54:32, time: 1.960, data_time: 0.007, memory: 5266, loss_cls: 0.8814, loss_bbox: 0.2296, loss_bbox_rf: 0.2830, loss: 1.3940, grad_norm: 4.4243\n",
      "2021-05-19 15:42:09,733 - mmdet - INFO - Epoch [5][400/655]\tlr: 1.000e-02, eta: 6:52:56, time: 1.961, data_time: 0.007, memory: 5266, loss_cls: 0.9433, loss_bbox: 0.2478, loss_bbox_rf: 0.3041, loss: 1.4952, grad_norm: 4.4818\n",
      "2021-05-19 15:43:47,847 - mmdet - INFO - Epoch [5][450/655]\tlr: 1.000e-02, eta: 6:51:21, time: 1.962, data_time: 0.007, memory: 5266, loss_cls: 0.9285, loss_bbox: 0.2248, loss_bbox_rf: 0.2747, loss: 1.4280, grad_norm: 5.1711\n",
      "2021-05-19 15:45:25,932 - mmdet - INFO - Epoch [5][500/655]\tlr: 1.000e-02, eta: 6:49:46, time: 1.962, data_time: 0.007, memory: 5266, loss_cls: 0.8989, loss_bbox: 0.2455, loss_bbox_rf: 0.2992, loss: 1.4436, grad_norm: 4.3854\n",
      "2021-05-19 15:47:04,386 - mmdet - INFO - Epoch [5][550/655]\tlr: 1.000e-02, eta: 6:48:12, time: 1.969, data_time: 0.007, memory: 5266, loss_cls: 0.9168, loss_bbox: 0.2464, loss_bbox_rf: 0.2972, loss: 1.4604, grad_norm: 4.7073\n",
      "2021-05-19 15:48:42,590 - mmdet - INFO - Epoch [5][600/655]\tlr: 1.000e-02, eta: 6:46:36, time: 1.964, data_time: 0.007, memory: 5266, loss_cls: 0.9433, loss_bbox: 0.2428, loss_bbox_rf: 0.2999, loss: 1.4861, grad_norm: 4.5260\n",
      "2021-05-19 15:50:20,711 - mmdet - INFO - Epoch [5][650/655]\tlr: 1.000e-02, eta: 6:45:01, time: 1.962, data_time: 0.007, memory: 5266, loss_cls: 0.8935, loss_bbox: 0.2531, loss_bbox_rf: 0.3111, loss: 1.4577, grad_norm: 4.4380\n",
      "2021-05-19 15:50:30,581 - mmdet - INFO - Saving checkpoint at 5 epochs\n"
     ]
    },
    {
     "name": "stdout",
     "output_type": "stream",
     "text": [
      "[>>>>>>>>>>>>>>>>>>>>>>>>>>>>>>] 655/655, 8.1 task/s, elapsed: 81s, ETA:     0s"
     ]
    },
    {
     "name": "stderr",
     "output_type": "stream",
     "text": [
      "2021-05-19 15:51:59,528 - mmdet - INFO - Evaluating bbox...\n"
     ]
    },
    {
     "name": "stdout",
     "output_type": "stream",
     "text": [
      "Loading and preparing results...\n",
      "DONE (t=1.23s)\n",
      "creating index...\n",
      "index created!\n",
      "Running per image evaluation...\n",
      "Evaluate annotation type *bbox*\n",
      "DONE (t=7.43s).\n",
      "Accumulating evaluation results...\n"
     ]
    },
    {
     "name": "stderr",
     "output_type": "stream",
     "text": [
      "2021-05-19 15:52:10,292 - mmdet - INFO - Epoch(val) [5][655]\tbbox_mAP: 0.2080, bbox_mAP_50: 0.2880, bbox_mAP_75: 0.2110, bbox_mAP_s: 0.0460, bbox_mAP_m: 0.2370, bbox_mAP_l: 0.3560, bbox_mAP_copypaste: 0.208 0.288 0.211 0.046 0.237 0.356\n"
     ]
    },
    {
     "name": "stdout",
     "output_type": "stream",
     "text": [
      "DONE (t=1.95s).\n",
      "Average Precision  (AP) @[ IoU=0.50:0.95 | area=   all | maxDets=100 ] = 0.208\n",
      "Average Precision  (AP) @[ IoU=0.50      | area=   all | maxDets=1000 ] = 0.288\n",
      "Average Precision  (AP) @[ IoU=0.75      | area=   all | maxDets=1000 ] = 0.211\n",
      "Average Precision  (AP) @[ IoU=0.50:0.95 | area= small | maxDets=1000 ] = 0.046\n",
      "Average Precision  (AP) @[ IoU=0.50:0.95 | area=medium | maxDets=1000 ] = 0.237\n",
      "Average Precision  (AP) @[ IoU=0.50:0.95 | area= large | maxDets=1000 ] = 0.356\n",
      "Average Recall     (AR) @[ IoU=0.50:0.95 | area=   all | maxDets=100 ] = 0.429\n",
      "Average Recall     (AR) @[ IoU=0.50:0.95 | area=   all | maxDets=300 ] = 0.429\n",
      "Average Recall     (AR) @[ IoU=0.50:0.95 | area=   all | maxDets=1000 ] = 0.429\n",
      "Average Recall     (AR) @[ IoU=0.50:0.95 | area= small | maxDets=1000 ] = 0.127\n",
      "Average Recall     (AR) @[ IoU=0.50:0.95 | area=medium | maxDets=1000 ] = 0.419\n",
      "Average Recall     (AR) @[ IoU=0.50:0.95 | area= large | maxDets=1000 ] = 0.700\n"
     ]
    },
    {
     "name": "stderr",
     "output_type": "stream",
     "text": [
      "2021-05-19 15:53:51,022 - mmdet - INFO - Epoch [6][50/655]\tlr: 1.000e-02, eta: 6:42:49, time: 2.014, data_time: 0.051, memory: 5266, loss_cls: 0.8759, loss_bbox: 0.2505, loss_bbox_rf: 0.3064, loss: 1.4327, grad_norm: 4.2654\n",
      "2021-05-19 15:55:29,132 - mmdet - INFO - Epoch [6][100/655]\tlr: 1.000e-02, eta: 6:41:13, time: 1.962, data_time: 0.007, memory: 5266, loss_cls: 0.8198, loss_bbox: 0.2244, loss_bbox_rf: 0.2704, loss: 1.3146, grad_norm: 4.4954\n",
      "2021-05-19 15:57:07,108 - mmdet - INFO - Epoch [6][150/655]\tlr: 1.000e-02, eta: 6:39:38, time: 1.960, data_time: 0.007, memory: 5266, loss_cls: 0.8262, loss_bbox: 0.2414, loss_bbox_rf: 0.2948, loss: 1.3624, grad_norm: 4.2405\n",
      "2021-05-19 15:58:46,062 - mmdet - INFO - Epoch [6][200/655]\tlr: 1.000e-02, eta: 6:38:05, time: 1.979, data_time: 0.007, memory: 5266, loss_cls: 0.8101, loss_bbox: 0.2519, loss_bbox_rf: 0.3071, loss: 1.3691, grad_norm: 4.1966\n",
      "2021-05-19 16:00:23,998 - mmdet - INFO - Epoch [6][250/655]\tlr: 1.000e-02, eta: 6:36:29, time: 1.959, data_time: 0.007, memory: 5266, loss_cls: 0.8873, loss_bbox: 0.2401, loss_bbox_rf: 0.2954, loss: 1.4229, grad_norm: 4.3357\n",
      "2021-05-19 16:02:02,521 - mmdet - INFO - Epoch [6][300/655]\tlr: 1.000e-02, eta: 6:34:55, time: 1.970, data_time: 0.007, memory: 5266, loss_cls: 0.8570, loss_bbox: 0.2326, loss_bbox_rf: 0.2871, loss: 1.3767, grad_norm: 4.4309\n",
      "2021-05-19 16:03:40,941 - mmdet - INFO - Epoch [6][350/655]\tlr: 1.000e-02, eta: 6:33:20, time: 1.968, data_time: 0.007, memory: 5266, loss_cls: 0.8620, loss_bbox: 0.2212, loss_bbox_rf: 0.2618, loss: 1.3450, grad_norm: 4.8206\n",
      "2021-05-19 16:05:18,919 - mmdet - INFO - Epoch [6][400/655]\tlr: 1.000e-02, eta: 6:31:44, time: 1.960, data_time: 0.007, memory: 5266, loss_cls: 0.9426, loss_bbox: 0.2375, loss_bbox_rf: 0.2823, loss: 1.4623, grad_norm: 5.2100\n",
      "2021-05-19 16:06:56,978 - mmdet - INFO - Epoch [6][450/655]\tlr: 1.000e-02, eta: 6:30:08, time: 1.961, data_time: 0.007, memory: 5266, loss_cls: 0.8428, loss_bbox: 0.2443, loss_bbox_rf: 0.2931, loss: 1.3802, grad_norm: 4.4803\n",
      "2021-05-19 16:08:35,472 - mmdet - INFO - Epoch [6][500/655]\tlr: 1.000e-02, eta: 6:28:33, time: 1.970, data_time: 0.007, memory: 5266, loss_cls: 0.8283, loss_bbox: 0.2416, loss_bbox_rf: 0.2994, loss: 1.3693, grad_norm: 4.1279\n",
      "2021-05-19 16:10:13,342 - mmdet - INFO - Epoch [6][550/655]\tlr: 1.000e-02, eta: 6:26:57, time: 1.957, data_time: 0.007, memory: 5266, loss_cls: 0.8850, loss_bbox: 0.2375, loss_bbox_rf: 0.2902, loss: 1.4127, grad_norm: 4.5261\n",
      "2021-05-19 16:11:51,811 - mmdet - INFO - Epoch [6][600/655]\tlr: 1.000e-02, eta: 6:25:22, time: 1.969, data_time: 0.007, memory: 5266, loss_cls: 0.8261, loss_bbox: 0.2379, loss_bbox_rf: 0.2919, loss: 1.3560, grad_norm: 4.2324\n",
      "2021-05-19 16:13:30,177 - mmdet - INFO - Epoch [6][650/655]\tlr: 1.000e-02, eta: 6:23:46, time: 1.967, data_time: 0.007, memory: 5266, loss_cls: 0.8999, loss_bbox: 0.2419, loss_bbox_rf: 0.2952, loss: 1.4370, grad_norm: 4.4863\n",
      "2021-05-19 16:13:40,037 - mmdet - INFO - Saving checkpoint at 6 epochs\n"
     ]
    },
    {
     "name": "stdout",
     "output_type": "stream",
     "text": [
      "[>>>>>>>>>>>>>>>>>>>>>>>>>>>>>>] 655/655, 8.0 task/s, elapsed: 82s, ETA:     0s"
     ]
    },
    {
     "name": "stderr",
     "output_type": "stream",
     "text": [
      "2021-05-19 16:15:09,574 - mmdet - INFO - Evaluating bbox...\n"
     ]
    },
    {
     "name": "stdout",
     "output_type": "stream",
     "text": [
      "Loading and preparing results...\n",
      "DONE (t=0.75s)\n",
      "creating index...\n",
      "index created!\n",
      "Running per image evaluation...\n",
      "Evaluate annotation type *bbox*\n",
      "DONE (t=7.56s).\n",
      "Accumulating evaluation results...\n"
     ]
    },
    {
     "name": "stderr",
     "output_type": "stream",
     "text": [
      "2021-05-19 16:15:19,959 - mmdet - INFO - Epoch(val) [6][655]\tbbox_mAP: 0.1910, bbox_mAP_50: 0.2740, bbox_mAP_75: 0.2020, bbox_mAP_s: 0.0380, bbox_mAP_m: 0.2190, bbox_mAP_l: 0.3310, bbox_mAP_copypaste: 0.191 0.274 0.202 0.038 0.219 0.331\n"
     ]
    },
    {
     "name": "stdout",
     "output_type": "stream",
     "text": [
      "DONE (t=1.92s).\n",
      "Average Precision  (AP) @[ IoU=0.50:0.95 | area=   all | maxDets=100 ] = 0.191\n",
      "Average Precision  (AP) @[ IoU=0.50      | area=   all | maxDets=1000 ] = 0.274\n",
      "Average Precision  (AP) @[ IoU=0.75      | area=   all | maxDets=1000 ] = 0.202\n",
      "Average Precision  (AP) @[ IoU=0.50:0.95 | area= small | maxDets=1000 ] = 0.038\n",
      "Average Precision  (AP) @[ IoU=0.50:0.95 | area=medium | maxDets=1000 ] = 0.219\n",
      "Average Precision  (AP) @[ IoU=0.50:0.95 | area= large | maxDets=1000 ] = 0.331\n",
      "Average Recall     (AR) @[ IoU=0.50:0.95 | area=   all | maxDets=100 ] = 0.411\n",
      "Average Recall     (AR) @[ IoU=0.50:0.95 | area=   all | maxDets=300 ] = 0.411\n",
      "Average Recall     (AR) @[ IoU=0.50:0.95 | area=   all | maxDets=1000 ] = 0.411\n",
      "Average Recall     (AR) @[ IoU=0.50:0.95 | area= small | maxDets=1000 ] = 0.117\n",
      "Average Recall     (AR) @[ IoU=0.50:0.95 | area=medium | maxDets=1000 ] = 0.379\n",
      "Average Recall     (AR) @[ IoU=0.50:0.95 | area= large | maxDets=1000 ] = 0.697\n"
     ]
    },
    {
     "name": "stderr",
     "output_type": "stream",
     "text": [
      "2021-05-19 16:17:00,193 - mmdet - INFO - Epoch [7][50/655]\tlr: 1.000e-02, eta: 6:21:38, time: 2.005, data_time: 0.051, memory: 5266, loss_cls: 0.8077, loss_bbox: 0.2257, loss_bbox_rf: 0.2744, loss: 1.3078, grad_norm: 4.1754\n",
      "2021-05-19 16:18:38,476 - mmdet - INFO - Epoch [7][100/655]\tlr: 1.000e-02, eta: 6:20:03, time: 1.966, data_time: 0.007, memory: 5266, loss_cls: 0.8585, loss_bbox: 0.2215, loss_bbox_rf: 0.2683, loss: 1.3484, grad_norm: 5.0437\n",
      "2021-05-19 16:20:16,781 - mmdet - INFO - Epoch [7][150/655]\tlr: 1.000e-02, eta: 6:18:27, time: 1.966, data_time: 0.007, memory: 5266, loss_cls: 0.7980, loss_bbox: 0.2156, loss_bbox_rf: 0.2640, loss: 1.2776, grad_norm: 4.3885\n",
      "2021-05-19 16:21:54,718 - mmdet - INFO - Epoch [7][200/655]\tlr: 1.000e-02, eta: 6:16:51, time: 1.959, data_time: 0.007, memory: 5266, loss_cls: 0.7978, loss_bbox: 0.2230, loss_bbox_rf: 0.2745, loss: 1.2953, grad_norm: 4.4874\n",
      "2021-05-19 16:23:32,644 - mmdet - INFO - Epoch [7][250/655]\tlr: 1.000e-02, eta: 6:15:14, time: 1.958, data_time: 0.007, memory: 5266, loss_cls: 0.8643, loss_bbox: 0.2371, loss_bbox_rf: 0.2937, loss: 1.3950, grad_norm: 4.5213\n",
      "2021-05-19 16:25:10,752 - mmdet - INFO - Epoch [7][300/655]\tlr: 1.000e-02, eta: 6:13:38, time: 1.962, data_time: 0.007, memory: 5266, loss_cls: 0.8842, loss_bbox: 0.2302, loss_bbox_rf: 0.2799, loss: 1.3943, grad_norm: 5.4108\n",
      "2021-05-19 16:26:48,928 - mmdet - INFO - Epoch [7][350/655]\tlr: 1.000e-02, eta: 6:12:02, time: 1.964, data_time: 0.007, memory: 5266, loss_cls: 0.9191, loss_bbox: 0.2514, loss_bbox_rf: 0.3026, loss: 1.4732, grad_norm: 4.8638\n",
      "2021-05-19 16:28:27,073 - mmdet - INFO - Epoch [7][400/655]\tlr: 1.000e-02, eta: 6:10:26, time: 1.963, data_time: 0.007, memory: 5266, loss_cls: 0.8434, loss_bbox: 0.2437, loss_bbox_rf: 0.2986, loss: 1.3858, grad_norm: 4.4373\n",
      "2021-05-19 16:30:05,205 - mmdet - INFO - Epoch [7][450/655]\tlr: 1.000e-02, eta: 6:08:50, time: 1.963, data_time: 0.007, memory: 5266, loss_cls: 0.7662, loss_bbox: 0.2534, loss_bbox_rf: 0.3021, loss: 1.3217, grad_norm: 4.3512\n",
      "2021-05-19 16:31:43,354 - mmdet - INFO - Epoch [7][500/655]\tlr: 1.000e-02, eta: 6:07:14, time: 1.963, data_time: 0.007, memory: 5266, loss_cls: 0.8929, loss_bbox: 0.2481, loss_bbox_rf: 0.3028, loss: 1.4438, grad_norm: 4.8130\n",
      "2021-05-19 16:33:21,455 - mmdet - INFO - Epoch [7][550/655]\tlr: 1.000e-02, eta: 6:05:38, time: 1.962, data_time: 0.007, memory: 5266, loss_cls: 0.8411, loss_bbox: 0.2472, loss_bbox_rf: 0.3066, loss: 1.3949, grad_norm: 4.0451\n",
      "2021-05-19 16:34:59,299 - mmdet - INFO - Epoch [7][600/655]\tlr: 1.000e-02, eta: 6:04:01, time: 1.957, data_time: 0.007, memory: 5266, loss_cls: 0.8800, loss_bbox: 0.2228, loss_bbox_rf: 0.2728, loss: 1.3756, grad_norm: 5.0601\n",
      "2021-05-19 16:36:37,205 - mmdet - INFO - Epoch [7][650/655]\tlr: 1.000e-02, eta: 6:02:24, time: 1.958, data_time: 0.007, memory: 5266, loss_cls: 0.8355, loss_bbox: 0.2295, loss_bbox_rf: 0.2855, loss: 1.3504, grad_norm: 4.1076\n",
      "2021-05-19 16:36:47,062 - mmdet - INFO - Saving checkpoint at 7 epochs\n"
     ]
    },
    {
     "name": "stdout",
     "output_type": "stream",
     "text": [
      "[>>>>>>>>>>>>>>>>>>>>>>>>>>>>>>] 655/655, 8.2 task/s, elapsed: 80s, ETA:     0s"
     ]
    },
    {
     "name": "stderr",
     "output_type": "stream",
     "text": [
      "2021-05-19 16:38:14,169 - mmdet - INFO - Evaluating bbox...\n"
     ]
    },
    {
     "name": "stdout",
     "output_type": "stream",
     "text": [
      "Loading and preparing results...\n",
      "DONE (t=1.15s)\n",
      "creating index...\n",
      "index created!\n",
      "Running per image evaluation...\n",
      "Evaluate annotation type *bbox*\n",
      "DONE (t=8.36s).\n",
      "Accumulating evaluation results...\n"
     ]
    },
    {
     "name": "stderr",
     "output_type": "stream",
     "text": [
      "2021-05-19 16:38:25,717 - mmdet - INFO - Epoch(val) [7][655]\tbbox_mAP: 0.2150, bbox_mAP_50: 0.3070, bbox_mAP_75: 0.2190, bbox_mAP_s: 0.0410, bbox_mAP_m: 0.2300, bbox_mAP_l: 0.3740, bbox_mAP_copypaste: 0.215 0.307 0.219 0.041 0.230 0.374\n"
     ]
    },
    {
     "name": "stdout",
     "output_type": "stream",
     "text": [
      "DONE (t=1.88s).\n",
      "Average Precision  (AP) @[ IoU=0.50:0.95 | area=   all | maxDets=100 ] = 0.215\n",
      "Average Precision  (AP) @[ IoU=0.50      | area=   all | maxDets=1000 ] = 0.307\n",
      "Average Precision  (AP) @[ IoU=0.75      | area=   all | maxDets=1000 ] = 0.219\n",
      "Average Precision  (AP) @[ IoU=0.50:0.95 | area= small | maxDets=1000 ] = 0.041\n",
      "Average Precision  (AP) @[ IoU=0.50:0.95 | area=medium | maxDets=1000 ] = 0.230\n",
      "Average Precision  (AP) @[ IoU=0.50:0.95 | area= large | maxDets=1000 ] = 0.374\n",
      "Average Recall     (AR) @[ IoU=0.50:0.95 | area=   all | maxDets=100 ] = 0.445\n",
      "Average Recall     (AR) @[ IoU=0.50:0.95 | area=   all | maxDets=300 ] = 0.445\n",
      "Average Recall     (AR) @[ IoU=0.50:0.95 | area=   all | maxDets=1000 ] = 0.445\n",
      "Average Recall     (AR) @[ IoU=0.50:0.95 | area= small | maxDets=1000 ] = 0.120\n",
      "Average Recall     (AR) @[ IoU=0.50:0.95 | area=medium | maxDets=1000 ] = 0.425\n",
      "Average Recall     (AR) @[ IoU=0.50:0.95 | area= large | maxDets=1000 ] = 0.736\n"
     ]
    },
    {
     "name": "stderr",
     "output_type": "stream",
     "text": [
      "2021-05-19 16:40:06,094 - mmdet - INFO - Epoch [8][50/655]\tlr: 1.000e-02, eta: 6:00:20, time: 2.007, data_time: 0.051, memory: 5266, loss_cls: 0.8691, loss_bbox: 0.2238, loss_bbox_rf: 0.2706, loss: 1.3635, grad_norm: 5.1957\n",
      "2021-05-19 16:41:44,035 - mmdet - INFO - Epoch [8][100/655]\tlr: 1.000e-02, eta: 5:58:43, time: 1.959, data_time: 0.007, memory: 5266, loss_cls: 0.8249, loss_bbox: 0.2316, loss_bbox_rf: 0.2788, loss: 1.3353, grad_norm: 4.8740\n",
      "2021-05-19 16:43:22,211 - mmdet - INFO - Epoch [8][150/655]\tlr: 1.000e-02, eta: 5:57:07, time: 1.964, data_time: 0.007, memory: 5266, loss_cls: 0.8170, loss_bbox: 0.2414, loss_bbox_rf: 0.2926, loss: 1.3510, grad_norm: 4.1400\n",
      "2021-05-19 16:45:00,450 - mmdet - INFO - Epoch [8][200/655]\tlr: 1.000e-02, eta: 5:55:32, time: 1.965, data_time: 0.007, memory: 5266, loss_cls: 0.7917, loss_bbox: 0.2193, loss_bbox_rf: 0.2706, loss: 1.2816, grad_norm: 4.5202\n",
      "2021-05-19 16:46:38,974 - mmdet - INFO - Epoch [8][250/655]\tlr: 1.000e-02, eta: 5:53:56, time: 1.970, data_time: 0.007, memory: 5266, loss_cls: 0.7958, loss_bbox: 0.2148, loss_bbox_rf: 0.2528, loss: 1.2634, grad_norm: 5.0818\n",
      "2021-05-19 16:48:17,197 - mmdet - INFO - Epoch [8][300/655]\tlr: 1.000e-02, eta: 5:52:20, time: 1.964, data_time: 0.007, memory: 5266, loss_cls: 0.8097, loss_bbox: 0.2278, loss_bbox_rf: 0.2766, loss: 1.3141, grad_norm: 4.7645\n",
      "2021-05-19 16:49:54,998 - mmdet - INFO - Epoch [8][350/655]\tlr: 1.000e-02, eta: 5:50:43, time: 1.956, data_time: 0.007, memory: 5266, loss_cls: 0.7557, loss_bbox: 0.2318, loss_bbox_rf: 0.2877, loss: 1.2752, grad_norm: 4.0827\n",
      "2021-05-19 16:51:32,690 - mmdet - INFO - Epoch [8][400/655]\tlr: 1.000e-02, eta: 5:49:06, time: 1.954, data_time: 0.007, memory: 5266, loss_cls: 0.8495, loss_bbox: 0.2302, loss_bbox_rf: 0.2793, loss: 1.3590, grad_norm: 5.1174\n",
      "2021-05-19 16:53:10,409 - mmdet - INFO - Epoch [8][450/655]\tlr: 1.000e-02, eta: 5:47:29, time: 1.954, data_time: 0.007, memory: 5266, loss_cls: 0.8324, loss_bbox: 0.2375, loss_bbox_rf: 0.2921, loss: 1.3619, grad_norm: 4.2344\n",
      "2021-05-19 16:54:47,930 - mmdet - INFO - Epoch [8][500/655]\tlr: 1.000e-02, eta: 5:45:51, time: 1.950, data_time: 0.007, memory: 5266, loss_cls: 0.7983, loss_bbox: 0.2234, loss_bbox_rf: 0.2678, loss: 1.2895, grad_norm: 4.6094\n",
      "2021-05-19 16:56:25,650 - mmdet - INFO - Epoch [8][550/655]\tlr: 1.000e-02, eta: 5:44:14, time: 1.954, data_time: 0.007, memory: 5266, loss_cls: 0.8509, loss_bbox: 0.2352, loss_bbox_rf: 0.2837, loss: 1.3698, grad_norm: 4.6047\n",
      "2021-05-19 16:58:03,616 - mmdet - INFO - Epoch [8][600/655]\tlr: 1.000e-02, eta: 5:42:37, time: 1.959, data_time: 0.007, memory: 5266, loss_cls: 0.8110, loss_bbox: 0.2248, loss_bbox_rf: 0.2763, loss: 1.3121, grad_norm: 4.2334\n",
      "2021-05-19 16:59:41,351 - mmdet - INFO - Epoch [8][650/655]\tlr: 1.000e-02, eta: 5:41:00, time: 1.955, data_time: 0.007, memory: 5266, loss_cls: 0.7788, loss_bbox: 0.2172, loss_bbox_rf: 0.2679, loss: 1.2639, grad_norm: 4.3739\n",
      "2021-05-19 16:59:51,429 - mmdet - INFO - Saving checkpoint at 8 epochs\n"
     ]
    },
    {
     "name": "stdout",
     "output_type": "stream",
     "text": [
      "[>>>>>>>>>>>>>>>>>>>>>>>>>>>>>>] 655/655, 8.3 task/s, elapsed: 79s, ETA:     0s"
     ]
    },
    {
     "name": "stderr",
     "output_type": "stream",
     "text": [
      "2021-05-19 17:01:17,530 - mmdet - INFO - Evaluating bbox...\n"
     ]
    },
    {
     "name": "stdout",
     "output_type": "stream",
     "text": [
      "Loading and preparing results...\n",
      "DONE (t=1.12s)\n",
      "creating index...\n",
      "index created!\n",
      "Running per image evaluation...\n",
      "Evaluate annotation type *bbox*\n",
      "DONE (t=7.76s).\n",
      "Accumulating evaluation results...\n"
     ]
    },
    {
     "name": "stderr",
     "output_type": "stream",
     "text": [
      "2021-05-19 17:01:28,249 - mmdet - INFO - Epoch(val) [8][655]\tbbox_mAP: 0.2220, bbox_mAP_50: 0.3120, bbox_mAP_75: 0.2250, bbox_mAP_s: 0.0540, bbox_mAP_m: 0.2180, bbox_mAP_l: 0.4000, bbox_mAP_copypaste: 0.222 0.312 0.225 0.054 0.218 0.400\n"
     ]
    },
    {
     "name": "stdout",
     "output_type": "stream",
     "text": [
      "DONE (t=1.70s).\n",
      "Average Precision  (AP) @[ IoU=0.50:0.95 | area=   all | maxDets=100 ] = 0.222\n",
      "Average Precision  (AP) @[ IoU=0.50      | area=   all | maxDets=1000 ] = 0.312\n",
      "Average Precision  (AP) @[ IoU=0.75      | area=   all | maxDets=1000 ] = 0.225\n",
      "Average Precision  (AP) @[ IoU=0.50:0.95 | area= small | maxDets=1000 ] = 0.054\n",
      "Average Precision  (AP) @[ IoU=0.50:0.95 | area=medium | maxDets=1000 ] = 0.218\n",
      "Average Precision  (AP) @[ IoU=0.50:0.95 | area= large | maxDets=1000 ] = 0.400\n",
      "Average Recall     (AR) @[ IoU=0.50:0.95 | area=   all | maxDets=100 ] = 0.431\n",
      "Average Recall     (AR) @[ IoU=0.50:0.95 | area=   all | maxDets=300 ] = 0.431\n",
      "Average Recall     (AR) @[ IoU=0.50:0.95 | area=   all | maxDets=1000 ] = 0.431\n",
      "Average Recall     (AR) @[ IoU=0.50:0.95 | area= small | maxDets=1000 ] = 0.137\n",
      "Average Recall     (AR) @[ IoU=0.50:0.95 | area=medium | maxDets=1000 ] = 0.400\n",
      "Average Recall     (AR) @[ IoU=0.50:0.95 | area= large | maxDets=1000 ] = 0.731\n"
     ]
    },
    {
     "name": "stderr",
     "output_type": "stream",
     "text": [
      "2021-05-19 17:03:08,210 - mmdet - INFO - Epoch [9][50/655]\tlr: 1.000e-02, eta: 5:38:58, time: 1.999, data_time: 0.051, memory: 5266, loss_cls: 0.7814, loss_bbox: 0.2249, loss_bbox_rf: 0.2681, loss: 1.2744, grad_norm: 4.9366\n",
      "2021-05-19 17:04:46,095 - mmdet - INFO - Epoch [9][100/655]\tlr: 1.000e-02, eta: 5:37:21, time: 1.958, data_time: 0.007, memory: 5266, loss_cls: 0.7507, loss_bbox: 0.2178, loss_bbox_rf: 0.2659, loss: 1.2344, grad_norm: 4.0769\n",
      "2021-05-19 17:06:23,834 - mmdet - INFO - Epoch [9][150/655]\tlr: 1.000e-02, eta: 5:35:44, time: 1.955, data_time: 0.007, memory: 5266, loss_cls: 0.7921, loss_bbox: 0.2308, loss_bbox_rf: 0.2785, loss: 1.3014, grad_norm: 4.9567\n",
      "2021-05-19 17:08:01,898 - mmdet - INFO - Epoch [9][200/655]\tlr: 1.000e-02, eta: 5:34:08, time: 1.961, data_time: 0.007, memory: 5266, loss_cls: 0.7980, loss_bbox: 0.2154, loss_bbox_rf: 0.2637, loss: 1.2771, grad_norm: 4.4652\n",
      "2021-05-19 17:09:40,983 - mmdet - INFO - Epoch [9][250/655]\tlr: 1.000e-02, eta: 5:32:33, time: 1.982, data_time: 0.007, memory: 5266, loss_cls: 0.7672, loss_bbox: 0.2223, loss_bbox_rf: 0.2719, loss: 1.2615, grad_norm: 4.3352\n",
      "2021-05-19 17:11:18,773 - mmdet - INFO - Epoch [9][300/655]\tlr: 1.000e-02, eta: 5:30:56, time: 1.956, data_time: 0.007, memory: 5266, loss_cls: 0.7628, loss_bbox: 0.2179, loss_bbox_rf: 0.2623, loss: 1.2430, grad_norm: 5.0080\n",
      "2021-05-19 17:12:56,670 - mmdet - INFO - Epoch [9][350/655]\tlr: 1.000e-02, eta: 5:29:19, time: 1.958, data_time: 0.007, memory: 5266, loss_cls: 0.7885, loss_bbox: 0.2383, loss_bbox_rf: 0.2893, loss: 1.3160, grad_norm: 4.2016\n",
      "2021-05-19 17:14:34,479 - mmdet - INFO - Epoch [9][400/655]\tlr: 1.000e-02, eta: 5:27:42, time: 1.956, data_time: 0.007, memory: 5266, loss_cls: 0.7656, loss_bbox: 0.2279, loss_bbox_rf: 0.2706, loss: 1.2641, grad_norm: 4.5140\n",
      "2021-05-19 17:16:12,498 - mmdet - INFO - Epoch [9][450/655]\tlr: 1.000e-02, eta: 5:26:05, time: 1.960, data_time: 0.007, memory: 5266, loss_cls: 0.8019, loss_bbox: 0.2297, loss_bbox_rf: 0.2770, loss: 1.3086, grad_norm: 4.8139\n",
      "2021-05-19 17:17:50,361 - mmdet - INFO - Epoch [9][500/655]\tlr: 1.000e-02, eta: 5:24:28, time: 1.957, data_time: 0.007, memory: 5266, loss_cls: 0.7948, loss_bbox: 0.2198, loss_bbox_rf: 0.2706, loss: 1.2852, grad_norm: 4.7319\n",
      "2021-05-19 17:19:28,124 - mmdet - INFO - Epoch [9][550/655]\tlr: 1.000e-02, eta: 5:22:51, time: 1.955, data_time: 0.007, memory: 5266, loss_cls: 0.8027, loss_bbox: 0.2167, loss_bbox_rf: 0.2634, loss: 1.2828, grad_norm: 4.3166\n",
      "2021-05-19 17:21:05,940 - mmdet - INFO - Epoch [9][600/655]\tlr: 1.000e-02, eta: 5:21:14, time: 1.956, data_time: 0.007, memory: 5266, loss_cls: 0.8390, loss_bbox: 0.2132, loss_bbox_rf: 0.2571, loss: 1.3094, grad_norm: 5.2683\n",
      "2021-05-19 17:22:44,042 - mmdet - INFO - Epoch [9][650/655]\tlr: 1.000e-02, eta: 5:19:38, time: 1.962, data_time: 0.007, memory: 5266, loss_cls: 0.8349, loss_bbox: 0.2041, loss_bbox_rf: 0.2459, loss: 1.2849, grad_norm: 4.9855\n",
      "2021-05-19 17:22:53,896 - mmdet - INFO - Saving checkpoint at 9 epochs\n"
     ]
    },
    {
     "name": "stdout",
     "output_type": "stream",
     "text": [
      "[>>>>>>>>>>>>>>>>>>>>>>>>>>>>>>] 655/655, 8.1 task/s, elapsed: 81s, ETA:     0s"
     ]
    },
    {
     "name": "stderr",
     "output_type": "stream",
     "text": [
      "2021-05-19 17:24:22,016 - mmdet - INFO - Evaluating bbox...\n"
     ]
    },
    {
     "name": "stdout",
     "output_type": "stream",
     "text": [
      "Loading and preparing results...\n",
      "DONE (t=1.09s)\n",
      "creating index...\n",
      "index created!\n",
      "Running per image evaluation...\n",
      "Evaluate annotation type *bbox*\n",
      "DONE (t=7.02s).\n",
      "Accumulating evaluation results...\n"
     ]
    },
    {
     "name": "stderr",
     "output_type": "stream",
     "text": [
      "2021-05-19 17:24:31,855 - mmdet - INFO - Epoch(val) [9][655]\tbbox_mAP: 0.2420, bbox_mAP_50: 0.3400, bbox_mAP_75: 0.2560, bbox_mAP_s: 0.0570, bbox_mAP_m: 0.2240, bbox_mAP_l: 0.4040, bbox_mAP_copypaste: 0.242 0.340 0.256 0.057 0.224 0.404\n"
     ]
    },
    {
     "name": "stdout",
     "output_type": "stream",
     "text": [
      "DONE (t=1.59s).\n",
      "Average Precision  (AP) @[ IoU=0.50:0.95 | area=   all | maxDets=100 ] = 0.242\n",
      "Average Precision  (AP) @[ IoU=0.50      | area=   all | maxDets=1000 ] = 0.340\n",
      "Average Precision  (AP) @[ IoU=0.75      | area=   all | maxDets=1000 ] = 0.256\n",
      "Average Precision  (AP) @[ IoU=0.50:0.95 | area= small | maxDets=1000 ] = 0.057\n",
      "Average Precision  (AP) @[ IoU=0.50:0.95 | area=medium | maxDets=1000 ] = 0.224\n",
      "Average Precision  (AP) @[ IoU=0.50:0.95 | area= large | maxDets=1000 ] = 0.404\n",
      "Average Recall     (AR) @[ IoU=0.50:0.95 | area=   all | maxDets=100 ] = 0.432\n",
      "Average Recall     (AR) @[ IoU=0.50:0.95 | area=   all | maxDets=300 ] = 0.432\n",
      "Average Recall     (AR) @[ IoU=0.50:0.95 | area=   all | maxDets=1000 ] = 0.432\n",
      "Average Recall     (AR) @[ IoU=0.50:0.95 | area= small | maxDets=1000 ] = 0.122\n",
      "Average Recall     (AR) @[ IoU=0.50:0.95 | area=medium | maxDets=1000 ] = 0.410\n",
      "Average Recall     (AR) @[ IoU=0.50:0.95 | area= large | maxDets=1000 ] = 0.713\n"
     ]
    },
    {
     "name": "stderr",
     "output_type": "stream",
     "text": [
      "2021-05-19 17:26:12,023 - mmdet - INFO - Epoch [10][50/655]\tlr: 1.000e-02, eta: 5:17:39, time: 2.003, data_time: 0.052, memory: 5266, loss_cls: 0.7727, loss_bbox: 0.2223, loss_bbox_rf: 0.2655, loss: 1.2604, grad_norm: 4.7742\n",
      "2021-05-19 17:27:49,982 - mmdet - INFO - Epoch [10][100/655]\tlr: 1.000e-02, eta: 5:16:02, time: 1.959, data_time: 0.007, memory: 5266, loss_cls: 0.7833, loss_bbox: 0.2208, loss_bbox_rf: 0.2680, loss: 1.2721, grad_norm: 4.9469\n",
      "2021-05-19 17:29:27,801 - mmdet - INFO - Epoch [10][150/655]\tlr: 1.000e-02, eta: 5:14:25, time: 1.956, data_time: 0.007, memory: 5266, loss_cls: 0.7758, loss_bbox: 0.2275, loss_bbox_rf: 0.2765, loss: 1.2798, grad_norm: 4.1733\n",
      "2021-05-19 17:31:05,601 - mmdet - INFO - Epoch [10][200/655]\tlr: 1.000e-02, eta: 5:12:48, time: 1.956, data_time: 0.007, memory: 5266, loss_cls: 0.7106, loss_bbox: 0.2117, loss_bbox_rf: 0.2574, loss: 1.1797, grad_norm: 4.1361\n",
      "2021-05-19 17:32:44,276 - mmdet - INFO - Epoch [10][250/655]\tlr: 1.000e-02, eta: 5:11:12, time: 1.973, data_time: 0.007, memory: 5266, loss_cls: 0.7353, loss_bbox: 0.2118, loss_bbox_rf: 0.2630, loss: 1.2101, grad_norm: 4.8167\n",
      "2021-05-19 17:34:22,239 - mmdet - INFO - Epoch [10][300/655]\tlr: 1.000e-02, eta: 5:09:35, time: 1.959, data_time: 0.007, memory: 5266, loss_cls: 0.7430, loss_bbox: 0.2145, loss_bbox_rf: 0.2586, loss: 1.2160, grad_norm: 4.5367\n",
      "2021-05-19 17:36:00,005 - mmdet - INFO - Epoch [10][350/655]\tlr: 1.000e-02, eta: 5:07:58, time: 1.955, data_time: 0.007, memory: 5266, loss_cls: 0.7786, loss_bbox: 0.2331, loss_bbox_rf: 0.2689, loss: 1.2806, grad_norm: 5.2037\n",
      "2021-05-19 17:37:37,827 - mmdet - INFO - Epoch [10][400/655]\tlr: 1.000e-02, eta: 5:06:21, time: 1.956, data_time: 0.007, memory: 5266, loss_cls: 0.8471, loss_bbox: 0.2249, loss_bbox_rf: 0.2649, loss: 1.3369, grad_norm: 5.2192\n",
      "2021-05-19 17:39:15,583 - mmdet - INFO - Epoch [10][450/655]\tlr: 1.000e-02, eta: 5:04:44, time: 1.955, data_time: 0.007, memory: 5266, loss_cls: 0.8006, loss_bbox: 0.2086, loss_bbox_rf: 0.2516, loss: 1.2608, grad_norm: 5.2098\n",
      "2021-05-19 17:40:53,339 - mmdet - INFO - Epoch [10][500/655]\tlr: 1.000e-02, eta: 5:03:07, time: 1.955, data_time: 0.007, memory: 5266, loss_cls: 0.8445, loss_bbox: 0.2160, loss_bbox_rf: 0.2556, loss: 1.3160, grad_norm: 5.7409\n",
      "2021-05-19 17:42:31,142 - mmdet - INFO - Epoch [10][550/655]\tlr: 1.000e-02, eta: 5:01:30, time: 1.956, data_time: 0.007, memory: 5266, loss_cls: 0.8405, loss_bbox: 0.2279, loss_bbox_rf: 0.2806, loss: 1.3491, grad_norm: 4.5882\n",
      "2021-05-19 17:44:08,899 - mmdet - INFO - Epoch [10][600/655]\tlr: 1.000e-02, eta: 4:59:53, time: 1.955, data_time: 0.007, memory: 5266, loss_cls: 0.7964, loss_bbox: 0.2335, loss_bbox_rf: 0.2801, loss: 1.3101, grad_norm: 4.6907\n",
      "2021-05-19 17:45:46,591 - mmdet - INFO - Epoch [10][650/655]\tlr: 1.000e-02, eta: 4:58:15, time: 1.954, data_time: 0.007, memory: 5266, loss_cls: 0.7852, loss_bbox: 0.2280, loss_bbox_rf: 0.2806, loss: 1.2938, grad_norm: 4.3120\n",
      "2021-05-19 17:45:56,424 - mmdet - INFO - Saving checkpoint at 10 epochs\n"
     ]
    },
    {
     "name": "stdout",
     "output_type": "stream",
     "text": [
      "[>>>>>>>>>>>>>>>>>>>>>>>>>>>>>>] 655/655, 8.0 task/s, elapsed: 82s, ETA:     0s"
     ]
    },
    {
     "name": "stderr",
     "output_type": "stream",
     "text": [
      "2021-05-19 17:47:25,864 - mmdet - INFO - Evaluating bbox...\n"
     ]
    },
    {
     "name": "stdout",
     "output_type": "stream",
     "text": [
      "Loading and preparing results...\n",
      "DONE (t=1.15s)\n",
      "creating index...\n",
      "index created!\n",
      "Running per image evaluation...\n",
      "Evaluate annotation type *bbox*\n",
      "DONE (t=7.53s).\n",
      "Accumulating evaluation results...\n"
     ]
    },
    {
     "name": "stderr",
     "output_type": "stream",
     "text": [
      "2021-05-19 17:47:36,396 - mmdet - INFO - Epoch(val) [10][655]\tbbox_mAP: 0.2730, bbox_mAP_50: 0.3840, bbox_mAP_75: 0.2800, bbox_mAP_s: 0.0420, bbox_mAP_m: 0.2400, bbox_mAP_l: 0.4850, bbox_mAP_copypaste: 0.273 0.384 0.280 0.042 0.240 0.485\n"
     ]
    },
    {
     "name": "stdout",
     "output_type": "stream",
     "text": [
      "DONE (t=1.71s).\n",
      "Average Precision  (AP) @[ IoU=0.50:0.95 | area=   all | maxDets=100 ] = 0.273\n",
      "Average Precision  (AP) @[ IoU=0.50      | area=   all | maxDets=1000 ] = 0.384\n",
      "Average Precision  (AP) @[ IoU=0.75      | area=   all | maxDets=1000 ] = 0.280\n",
      "Average Precision  (AP) @[ IoU=0.50:0.95 | area= small | maxDets=1000 ] = 0.042\n",
      "Average Precision  (AP) @[ IoU=0.50:0.95 | area=medium | maxDets=1000 ] = 0.240\n",
      "Average Precision  (AP) @[ IoU=0.50:0.95 | area= large | maxDets=1000 ] = 0.485\n",
      "Average Recall     (AR) @[ IoU=0.50:0.95 | area=   all | maxDets=100 ] = 0.460\n",
      "Average Recall     (AR) @[ IoU=0.50:0.95 | area=   all | maxDets=300 ] = 0.460\n",
      "Average Recall     (AR) @[ IoU=0.50:0.95 | area=   all | maxDets=1000 ] = 0.460\n",
      "Average Recall     (AR) @[ IoU=0.50:0.95 | area= small | maxDets=1000 ] = 0.149\n",
      "Average Recall     (AR) @[ IoU=0.50:0.95 | area=medium | maxDets=1000 ] = 0.433\n",
      "Average Recall     (AR) @[ IoU=0.50:0.95 | area= large | maxDets=1000 ] = 0.728\n"
     ]
    },
    {
     "name": "stderr",
     "output_type": "stream",
     "text": [
      "2021-05-19 17:49:17,699 - mmdet - INFO - Epoch [11][50/655]\tlr: 1.000e-02, eta: 4:56:20, time: 2.026, data_time: 0.051, memory: 5266, loss_cls: 0.7136, loss_bbox: 0.2158, loss_bbox_rf: 0.2671, loss: 1.1965, grad_norm: 4.3274\n",
      "2021-05-19 17:50:55,468 - mmdet - INFO - Epoch [11][100/655]\tlr: 1.000e-02, eta: 4:54:43, time: 1.955, data_time: 0.007, memory: 5266, loss_cls: 0.7281, loss_bbox: 0.2156, loss_bbox_rf: 0.2633, loss: 1.2071, grad_norm: 4.1532\n",
      "2021-05-19 17:52:33,037 - mmdet - INFO - Epoch [11][150/655]\tlr: 1.000e-02, eta: 4:53:05, time: 1.951, data_time: 0.007, memory: 5266, loss_cls: 0.7152, loss_bbox: 0.2001, loss_bbox_rf: 0.2371, loss: 1.1525, grad_norm: 4.4328\n",
      "2021-05-19 17:54:10,851 - mmdet - INFO - Epoch [11][200/655]\tlr: 1.000e-02, eta: 4:51:28, time: 1.956, data_time: 0.007, memory: 5266, loss_cls: 0.8318, loss_bbox: 0.2047, loss_bbox_rf: 0.2403, loss: 1.2768, grad_norm: 5.4772\n",
      "2021-05-19 17:55:48,421 - mmdet - INFO - Epoch [11][250/655]\tlr: 1.000e-02, eta: 4:49:51, time: 1.951, data_time: 0.007, memory: 5266, loss_cls: 0.7119, loss_bbox: 0.2169, loss_bbox_rf: 0.2587, loss: 1.1875, grad_norm: 4.1489\n",
      "2021-05-19 17:57:26,113 - mmdet - INFO - Epoch [11][300/655]\tlr: 1.000e-02, eta: 4:48:14, time: 1.954, data_time: 0.007, memory: 5266, loss_cls: 0.6972, loss_bbox: 0.2162, loss_bbox_rf: 0.2651, loss: 1.1785, grad_norm: 4.1364\n",
      "2021-05-19 17:59:03,834 - mmdet - INFO - Epoch [11][350/655]\tlr: 1.000e-02, eta: 4:46:36, time: 1.954, data_time: 0.007, memory: 5266, loss_cls: 0.7862, loss_bbox: 0.2250, loss_bbox_rf: 0.2692, loss: 1.2804, grad_norm: 5.8576\n",
      "2021-05-19 18:00:41,633 - mmdet - INFO - Epoch [11][400/655]\tlr: 1.000e-02, eta: 4:44:59, time: 1.956, data_time: 0.007, memory: 5266, loss_cls: 0.7749, loss_bbox: 0.2398, loss_bbox_rf: 0.2943, loss: 1.3091, grad_norm: 4.2558\n",
      "2021-05-19 18:02:19,200 - mmdet - INFO - Epoch [11][450/655]\tlr: 1.000e-02, eta: 4:43:22, time: 1.951, data_time: 0.007, memory: 5266, loss_cls: 0.7803, loss_bbox: 0.2034, loss_bbox_rf: 0.2387, loss: 1.2225, grad_norm: 5.0881\n",
      "2021-05-19 18:03:57,043 - mmdet - INFO - Epoch [11][500/655]\tlr: 1.000e-02, eta: 4:41:45, time: 1.957, data_time: 0.007, memory: 5266, loss_cls: 0.8176, loss_bbox: 0.2128, loss_bbox_rf: 0.2548, loss: 1.2852, grad_norm: 5.2806\n",
      "2021-05-19 18:05:34,737 - mmdet - INFO - Epoch [11][550/655]\tlr: 1.000e-02, eta: 4:40:08, time: 1.954, data_time: 0.007, memory: 5266, loss_cls: 0.7614, loss_bbox: 0.2161, loss_bbox_rf: 0.2676, loss: 1.2450, grad_norm: 4.2921\n",
      "2021-05-19 18:07:13,411 - mmdet - INFO - Epoch [11][600/655]\tlr: 1.000e-02, eta: 4:38:32, time: 1.973, data_time: 0.007, memory: 5266, loss_cls: 0.7633, loss_bbox: 0.2257, loss_bbox_rf: 0.2704, loss: 1.2594, grad_norm: 4.7905\n",
      "2021-05-19 18:08:51,044 - mmdet - INFO - Epoch [11][650/655]\tlr: 1.000e-02, eta: 4:36:54, time: 1.953, data_time: 0.007, memory: 5266, loss_cls: 0.7464, loss_bbox: 0.2306, loss_bbox_rf: 0.2841, loss: 1.2611, grad_norm: 4.7589\n",
      "2021-05-19 18:09:00,891 - mmdet - INFO - Saving checkpoint at 11 epochs\n"
     ]
    },
    {
     "name": "stdout",
     "output_type": "stream",
     "text": [
      "[>>>>>>>>>>>>>>>>>>>>>>>>>>>>>>] 655/655, 8.2 task/s, elapsed: 80s, ETA:     0s"
     ]
    },
    {
     "name": "stderr",
     "output_type": "stream",
     "text": [
      "2021-05-19 18:10:28,486 - mmdet - INFO - Evaluating bbox...\n"
     ]
    },
    {
     "name": "stdout",
     "output_type": "stream",
     "text": [
      "Loading and preparing results...\n",
      "DONE (t=1.13s)\n",
      "creating index...\n",
      "index created!\n",
      "Running per image evaluation...\n",
      "Evaluate annotation type *bbox*\n",
      "DONE (t=8.04s).\n",
      "Accumulating evaluation results...\n"
     ]
    },
    {
     "name": "stderr",
     "output_type": "stream",
     "text": [
      "2021-05-19 18:10:39,369 - mmdet - INFO - Epoch(val) [11][655]\tbbox_mAP: 0.2190, bbox_mAP_50: 0.3080, bbox_mAP_75: 0.2210, bbox_mAP_s: 0.0500, bbox_mAP_m: 0.1990, bbox_mAP_l: 0.4190, bbox_mAP_copypaste: 0.219 0.308 0.221 0.050 0.199 0.419\n"
     ]
    },
    {
     "name": "stdout",
     "output_type": "stream",
     "text": [
      "DONE (t=1.58s).\n",
      "Average Precision  (AP) @[ IoU=0.50:0.95 | area=   all | maxDets=100 ] = 0.219\n",
      "Average Precision  (AP) @[ IoU=0.50      | area=   all | maxDets=1000 ] = 0.308\n",
      "Average Precision  (AP) @[ IoU=0.75      | area=   all | maxDets=1000 ] = 0.221\n",
      "Average Precision  (AP) @[ IoU=0.50:0.95 | area= small | maxDets=1000 ] = 0.050\n",
      "Average Precision  (AP) @[ IoU=0.50:0.95 | area=medium | maxDets=1000 ] = 0.199\n",
      "Average Precision  (AP) @[ IoU=0.50:0.95 | area= large | maxDets=1000 ] = 0.419\n",
      "Average Recall     (AR) @[ IoU=0.50:0.95 | area=   all | maxDets=100 ] = 0.405\n",
      "Average Recall     (AR) @[ IoU=0.50:0.95 | area=   all | maxDets=300 ] = 0.405\n",
      "Average Recall     (AR) @[ IoU=0.50:0.95 | area=   all | maxDets=1000 ] = 0.405\n",
      "Average Recall     (AR) @[ IoU=0.50:0.95 | area= small | maxDets=1000 ] = 0.126\n",
      "Average Recall     (AR) @[ IoU=0.50:0.95 | area=medium | maxDets=1000 ] = 0.380\n",
      "Average Recall     (AR) @[ IoU=0.50:0.95 | area= large | maxDets=1000 ] = 0.683\n"
     ]
    },
    {
     "name": "stderr",
     "output_type": "stream",
     "text": [
      "2021-05-19 18:12:19,699 - mmdet - INFO - Epoch [12][50/655]\tlr: 1.000e-02, eta: 4:34:59, time: 2.006, data_time: 0.051, memory: 5266, loss_cls: 0.6960, loss_bbox: 0.1871, loss_bbox_rf: 0.2233, loss: 1.1063, grad_norm: 5.3172\n",
      "2021-05-19 18:13:57,489 - mmdet - INFO - Epoch [12][100/655]\tlr: 1.000e-02, eta: 4:33:22, time: 1.956, data_time: 0.007, memory: 5266, loss_cls: 0.7984, loss_bbox: 0.2143, loss_bbox_rf: 0.2607, loss: 1.2734, grad_norm: 5.8745\n",
      "2021-05-19 18:15:35,597 - mmdet - INFO - Epoch [12][150/655]\tlr: 1.000e-02, eta: 4:31:45, time: 1.962, data_time: 0.007, memory: 5266, loss_cls: 0.7717, loss_bbox: 0.2181, loss_bbox_rf: 0.2646, loss: 1.2544, grad_norm: 4.5654\n",
      "2021-05-19 18:17:13,992 - mmdet - INFO - Epoch [12][200/655]\tlr: 1.000e-02, eta: 4:30:09, time: 1.968, data_time: 0.007, memory: 5266, loss_cls: 0.6984, loss_bbox: 0.2041, loss_bbox_rf: 0.2460, loss: 1.1486, grad_norm: 4.7778\n",
      "2021-05-19 18:18:53,142 - mmdet - INFO - Epoch [12][250/655]\tlr: 1.000e-02, eta: 4:28:33, time: 1.983, data_time: 0.007, memory: 5266, loss_cls: 0.7477, loss_bbox: 0.2302, loss_bbox_rf: 0.2771, loss: 1.2551, grad_norm: 4.5921\n",
      "2021-05-19 18:20:30,801 - mmdet - INFO - Epoch [12][300/655]\tlr: 1.000e-02, eta: 4:26:56, time: 1.953, data_time: 0.007, memory: 5266, loss_cls: 0.7205, loss_bbox: 0.2081, loss_bbox_rf: 0.2499, loss: 1.1784, grad_norm: 4.9577\n",
      "2021-05-19 18:22:08,938 - mmdet - INFO - Epoch [12][350/655]\tlr: 1.000e-02, eta: 4:25:19, time: 1.963, data_time: 0.007, memory: 5266, loss_cls: 0.7581, loss_bbox: 0.2110, loss_bbox_rf: 0.2564, loss: 1.2256, grad_norm: 5.2094\n",
      "2021-05-19 18:23:46,698 - mmdet - INFO - Epoch [12][400/655]\tlr: 1.000e-02, eta: 4:23:42, time: 1.955, data_time: 0.007, memory: 5266, loss_cls: 0.7926, loss_bbox: 0.1940, loss_bbox_rf: 0.2375, loss: 1.2241, grad_norm: 5.1791\n",
      "2021-05-19 18:25:24,420 - mmdet - INFO - Epoch [12][450/655]\tlr: 1.000e-02, eta: 4:22:05, time: 1.954, data_time: 0.007, memory: 5266, loss_cls: 0.7375, loss_bbox: 0.2078, loss_bbox_rf: 0.2467, loss: 1.1920, grad_norm: 4.5786\n",
      "2021-05-19 18:27:02,629 - mmdet - INFO - Epoch [12][500/655]\tlr: 1.000e-02, eta: 4:20:28, time: 1.964, data_time: 0.007, memory: 5266, loss_cls: 0.7119, loss_bbox: 0.2237, loss_bbox_rf: 0.2732, loss: 1.2089, grad_norm: 3.7957\n",
      "2021-05-19 18:28:40,446 - mmdet - INFO - Epoch [12][550/655]\tlr: 1.000e-02, eta: 4:18:51, time: 1.956, data_time: 0.007, memory: 5266, loss_cls: 0.7099, loss_bbox: 0.2091, loss_bbox_rf: 0.2604, loss: 1.1795, grad_norm: 4.1611\n",
      "2021-05-19 18:30:18,211 - mmdet - INFO - Epoch [12][600/655]\tlr: 1.000e-02, eta: 4:17:13, time: 1.955, data_time: 0.007, memory: 5266, loss_cls: 0.7014, loss_bbox: 0.2030, loss_bbox_rf: 0.2489, loss: 1.1534, grad_norm: 4.3269\n",
      "2021-05-19 18:31:56,014 - mmdet - INFO - Epoch [12][650/655]\tlr: 1.000e-02, eta: 4:15:36, time: 1.956, data_time: 0.007, memory: 5266, loss_cls: 0.7241, loss_bbox: 0.2100, loss_bbox_rf: 0.2559, loss: 1.1900, grad_norm: 4.5621\n",
      "2021-05-19 18:32:05,843 - mmdet - INFO - Saving checkpoint at 12 epochs\n"
     ]
    },
    {
     "name": "stdout",
     "output_type": "stream",
     "text": [
      "[>>>>>>>>>>>>>>>>>>>>>>>>>>>>>>] 655/655, 8.2 task/s, elapsed: 80s, ETA:     0s"
     ]
    },
    {
     "name": "stderr",
     "output_type": "stream",
     "text": [
      "2021-05-19 18:33:32,530 - mmdet - INFO - Evaluating bbox...\n"
     ]
    },
    {
     "name": "stdout",
     "output_type": "stream",
     "text": [
      "Loading and preparing results...\n",
      "DONE (t=1.14s)\n",
      "creating index...\n",
      "index created!\n",
      "Running per image evaluation...\n",
      "Evaluate annotation type *bbox*\n",
      "DONE (t=7.65s).\n",
      "Accumulating evaluation results...\n"
     ]
    },
    {
     "name": "stderr",
     "output_type": "stream",
     "text": [
      "2021-05-19 18:33:43,084 - mmdet - INFO - Epoch(val) [12][655]\tbbox_mAP: 0.2350, bbox_mAP_50: 0.3240, bbox_mAP_75: 0.2400, bbox_mAP_s: 0.0430, bbox_mAP_m: 0.2220, bbox_mAP_l: 0.4200, bbox_mAP_copypaste: 0.235 0.324 0.240 0.043 0.222 0.420\n"
     ]
    },
    {
     "name": "stdout",
     "output_type": "stream",
     "text": [
      "DONE (t=1.62s).\n",
      "Average Precision  (AP) @[ IoU=0.50:0.95 | area=   all | maxDets=100 ] = 0.235\n",
      "Average Precision  (AP) @[ IoU=0.50      | area=   all | maxDets=1000 ] = 0.324\n",
      "Average Precision  (AP) @[ IoU=0.75      | area=   all | maxDets=1000 ] = 0.240\n",
      "Average Precision  (AP) @[ IoU=0.50:0.95 | area= small | maxDets=1000 ] = 0.043\n",
      "Average Precision  (AP) @[ IoU=0.50:0.95 | area=medium | maxDets=1000 ] = 0.222\n",
      "Average Precision  (AP) @[ IoU=0.50:0.95 | area= large | maxDets=1000 ] = 0.420\n",
      "Average Recall     (AR) @[ IoU=0.50:0.95 | area=   all | maxDets=100 ] = 0.445\n",
      "Average Recall     (AR) @[ IoU=0.50:0.95 | area=   all | maxDets=300 ] = 0.445\n",
      "Average Recall     (AR) @[ IoU=0.50:0.95 | area=   all | maxDets=1000 ] = 0.445\n",
      "Average Recall     (AR) @[ IoU=0.50:0.95 | area= small | maxDets=1000 ] = 0.134\n",
      "Average Recall     (AR) @[ IoU=0.50:0.95 | area=medium | maxDets=1000 ] = 0.432\n",
      "Average Recall     (AR) @[ IoU=0.50:0.95 | area= large | maxDets=1000 ] = 0.718\n"
     ]
    },
    {
     "name": "stderr",
     "output_type": "stream",
     "text": [
      "2021-05-19 18:35:23,068 - mmdet - INFO - Epoch [13][50/655]\tlr: 1.000e-02, eta: 4:13:42, time: 2.000, data_time: 0.051, memory: 5266, loss_cls: 0.6790, loss_bbox: 0.1992, loss_bbox_rf: 0.2452, loss: 1.1234, grad_norm: 4.4908\n",
      "2021-05-19 18:37:01,184 - mmdet - INFO - Epoch [13][100/655]\tlr: 1.000e-02, eta: 4:12:05, time: 1.962, data_time: 0.007, memory: 5266, loss_cls: 0.6588, loss_bbox: 0.1971, loss_bbox_rf: 0.2394, loss: 1.0954, grad_norm: 4.3803\n",
      "2021-05-19 18:38:38,989 - mmdet - INFO - Epoch [13][150/655]\tlr: 1.000e-02, eta: 4:10:28, time: 1.956, data_time: 0.007, memory: 5266, loss_cls: 0.6994, loss_bbox: 0.2207, loss_bbox_rf: 0.2683, loss: 1.1884, grad_norm: 4.5550\n",
      "2021-05-19 18:40:16,607 - mmdet - INFO - Epoch [13][200/655]\tlr: 1.000e-02, eta: 4:08:51, time: 1.952, data_time: 0.007, memory: 5266, loss_cls: 0.7620, loss_bbox: 0.2280, loss_bbox_rf: 0.2733, loss: 1.2632, grad_norm: 5.2825\n",
      "2021-05-19 18:41:54,303 - mmdet - INFO - Epoch [13][250/655]\tlr: 1.000e-02, eta: 4:07:13, time: 1.954, data_time: 0.007, memory: 5266, loss_cls: 0.7228, loss_bbox: 0.2004, loss_bbox_rf: 0.2418, loss: 1.1650, grad_norm: 5.1386\n",
      "2021-05-19 18:43:32,137 - mmdet - INFO - Epoch [13][300/655]\tlr: 1.000e-02, eta: 4:05:36, time: 1.957, data_time: 0.007, memory: 5266, loss_cls: 0.7179, loss_bbox: 0.2074, loss_bbox_rf: 0.2476, loss: 1.1728, grad_norm: 4.6808\n",
      "2021-05-19 18:45:10,110 - mmdet - INFO - Epoch [13][350/655]\tlr: 1.000e-02, eta: 4:03:59, time: 1.959, data_time: 0.007, memory: 5266, loss_cls: 0.7467, loss_bbox: 0.2020, loss_bbox_rf: 0.2402, loss: 1.1889, grad_norm: 5.0501\n",
      "2021-05-19 18:46:49,483 - mmdet - INFO - Epoch [13][400/655]\tlr: 1.000e-02, eta: 4:02:23, time: 1.987, data_time: 0.007, memory: 5266, loss_cls: 0.7415, loss_bbox: 0.2134, loss_bbox_rf: 0.2604, loss: 1.2154, grad_norm: 4.6956\n",
      "2021-05-19 18:48:27,777 - mmdet - INFO - Epoch [13][450/655]\tlr: 1.000e-02, eta: 4:00:47, time: 1.966, data_time: 0.007, memory: 5266, loss_cls: 0.7423, loss_bbox: 0.2027, loss_bbox_rf: 0.2389, loss: 1.1838, grad_norm: 5.5111\n",
      "2021-05-19 18:50:06,336 - mmdet - INFO - Epoch [13][500/655]\tlr: 1.000e-02, eta: 3:59:10, time: 1.971, data_time: 0.007, memory: 5266, loss_cls: 0.7762, loss_bbox: 0.2255, loss_bbox_rf: 0.2714, loss: 1.2732, grad_norm: 4.7457\n",
      "2021-05-19 18:51:44,107 - mmdet - INFO - Epoch [13][550/655]\tlr: 1.000e-02, eta: 3:57:33, time: 1.955, data_time: 0.007, memory: 5266, loss_cls: 0.7074, loss_bbox: 0.2190, loss_bbox_rf: 0.2636, loss: 1.1900, grad_norm: 4.4894\n",
      "2021-05-19 18:53:22,212 - mmdet - INFO - Epoch [13][600/655]\tlr: 1.000e-02, eta: 3:55:56, time: 1.962, data_time: 0.007, memory: 5266, loss_cls: 0.7370, loss_bbox: 0.2154, loss_bbox_rf: 0.2627, loss: 1.2150, grad_norm: 4.7709\n",
      "2021-05-19 18:54:59,973 - mmdet - INFO - Epoch [13][650/655]\tlr: 1.000e-02, eta: 3:54:19, time: 1.955, data_time: 0.007, memory: 5266, loss_cls: 0.6866, loss_bbox: 0.2120, loss_bbox_rf: 0.2468, loss: 1.1453, grad_norm: 4.6314\n",
      "2021-05-19 18:55:10,019 - mmdet - INFO - Saving checkpoint at 13 epochs\n"
     ]
    },
    {
     "name": "stdout",
     "output_type": "stream",
     "text": [
      "[>>>>>>>>>>>>>>>>>>>>>>>>>>>>>>] 655/655, 8.0 task/s, elapsed: 82s, ETA:     0s"
     ]
    },
    {
     "name": "stderr",
     "output_type": "stream",
     "text": [
      "2021-05-19 18:56:38,797 - mmdet - INFO - Evaluating bbox...\n"
     ]
    },
    {
     "name": "stdout",
     "output_type": "stream",
     "text": [
      "Loading and preparing results...\n",
      "DONE (t=1.12s)\n",
      "creating index...\n",
      "index created!\n",
      "Running per image evaluation...\n",
      "Evaluate annotation type *bbox*\n",
      "DONE (t=7.60s).\n",
      "Accumulating evaluation results...\n"
     ]
    },
    {
     "name": "stderr",
     "output_type": "stream",
     "text": [
      "2021-05-19 18:56:49,279 - mmdet - INFO - Epoch(val) [13][655]\tbbox_mAP: 0.2430, bbox_mAP_50: 0.3330, bbox_mAP_75: 0.2580, bbox_mAP_s: 0.0420, bbox_mAP_m: 0.2320, bbox_mAP_l: 0.4550, bbox_mAP_copypaste: 0.243 0.333 0.258 0.042 0.232 0.455\n"
     ]
    },
    {
     "name": "stdout",
     "output_type": "stream",
     "text": [
      "DONE (t=1.62s).\n",
      "Average Precision  (AP) @[ IoU=0.50:0.95 | area=   all | maxDets=100 ] = 0.243\n",
      "Average Precision  (AP) @[ IoU=0.50      | area=   all | maxDets=1000 ] = 0.333\n",
      "Average Precision  (AP) @[ IoU=0.75      | area=   all | maxDets=1000 ] = 0.258\n",
      "Average Precision  (AP) @[ IoU=0.50:0.95 | area= small | maxDets=1000 ] = 0.042\n",
      "Average Precision  (AP) @[ IoU=0.50:0.95 | area=medium | maxDets=1000 ] = 0.232\n",
      "Average Precision  (AP) @[ IoU=0.50:0.95 | area= large | maxDets=1000 ] = 0.455\n",
      "Average Recall     (AR) @[ IoU=0.50:0.95 | area=   all | maxDets=100 ] = 0.453\n",
      "Average Recall     (AR) @[ IoU=0.50:0.95 | area=   all | maxDets=300 ] = 0.453\n",
      "Average Recall     (AR) @[ IoU=0.50:0.95 | area=   all | maxDets=1000 ] = 0.453\n",
      "Average Recall     (AR) @[ IoU=0.50:0.95 | area= small | maxDets=1000 ] = 0.135\n",
      "Average Recall     (AR) @[ IoU=0.50:0.95 | area=medium | maxDets=1000 ] = 0.433\n",
      "Average Recall     (AR) @[ IoU=0.50:0.95 | area= large | maxDets=1000 ] = 0.738\n"
     ]
    },
    {
     "name": "stderr",
     "output_type": "stream",
     "text": [
      "2021-05-19 18:58:29,309 - mmdet - INFO - Epoch [14][50/655]\tlr: 1.000e-02, eta: 3:52:25, time: 2.000, data_time: 0.051, memory: 5266, loss_cls: 0.7039, loss_bbox: 0.1874, loss_bbox_rf: 0.2211, loss: 1.1124, grad_norm: 5.6530\n",
      "2021-05-19 19:00:07,111 - mmdet - INFO - Epoch [14][100/655]\tlr: 1.000e-02, eta: 3:50:48, time: 1.956, data_time: 0.007, memory: 5266, loss_cls: 0.7878, loss_bbox: 0.2080, loss_bbox_rf: 0.2497, loss: 1.2455, grad_norm: 5.4316\n",
      "2021-05-19 19:01:44,939 - mmdet - INFO - Epoch [14][150/655]\tlr: 1.000e-02, eta: 3:49:11, time: 1.957, data_time: 0.007, memory: 5266, loss_cls: 0.7121, loss_bbox: 0.2114, loss_bbox_rf: 0.2491, loss: 1.1726, grad_norm: 4.6787\n",
      "2021-05-19 19:03:23,038 - mmdet - INFO - Epoch [14][200/655]\tlr: 1.000e-02, eta: 3:47:34, time: 1.962, data_time: 0.007, memory: 5266, loss_cls: 0.7210, loss_bbox: 0.2054, loss_bbox_rf: 0.2520, loss: 1.1785, grad_norm: 4.4446\n",
      "2021-05-19 19:05:00,877 - mmdet - INFO - Epoch [14][250/655]\tlr: 1.000e-02, eta: 3:45:57, time: 1.957, data_time: 0.007, memory: 5266, loss_cls: 0.6827, loss_bbox: 0.1896, loss_bbox_rf: 0.2259, loss: 1.0981, grad_norm: 5.1293\n",
      "2021-05-19 19:06:38,876 - mmdet - INFO - Epoch [14][300/655]\tlr: 1.000e-02, eta: 3:44:20, time: 1.960, data_time: 0.007, memory: 5266, loss_cls: 0.7297, loss_bbox: 0.2096, loss_bbox_rf: 0.2553, loss: 1.1946, grad_norm: 5.1257\n",
      "2021-05-19 19:08:16,934 - mmdet - INFO - Epoch [14][350/655]\tlr: 1.000e-02, eta: 3:42:43, time: 1.961, data_time: 0.007, memory: 5266, loss_cls: 0.7126, loss_bbox: 0.2100, loss_bbox_rf: 0.2496, loss: 1.1722, grad_norm: 5.0116\n",
      "2021-05-19 19:09:55,143 - mmdet - INFO - Epoch [14][400/655]\tlr: 1.000e-02, eta: 3:41:06, time: 1.964, data_time: 0.007, memory: 5266, loss_cls: 0.6816, loss_bbox: 0.2220, loss_bbox_rf: 0.2730, loss: 1.1766, grad_norm: 4.1000\n",
      "2021-05-19 19:11:33,206 - mmdet - INFO - Epoch [14][450/655]\tlr: 1.000e-02, eta: 3:39:29, time: 1.961, data_time: 0.007, memory: 5266, loss_cls: 0.6560, loss_bbox: 0.2090, loss_bbox_rf: 0.2508, loss: 1.1159, grad_norm: 4.6237\n",
      "2021-05-19 19:13:11,891 - mmdet - INFO - Epoch [14][500/655]\tlr: 1.000e-02, eta: 3:37:52, time: 1.974, data_time: 0.007, memory: 5266, loss_cls: 0.7729, loss_bbox: 0.2319, loss_bbox_rf: 0.2778, loss: 1.2827, grad_norm: 5.3074\n",
      "2021-05-19 19:14:49,880 - mmdet - INFO - Epoch [14][550/655]\tlr: 1.000e-02, eta: 3:36:15, time: 1.960, data_time: 0.007, memory: 5266, loss_cls: 0.7034, loss_bbox: 0.2118, loss_bbox_rf: 0.2608, loss: 1.1760, grad_norm: 4.1847\n",
      "2021-05-19 19:16:27,802 - mmdet - INFO - Epoch [14][600/655]\tlr: 1.000e-02, eta: 3:34:38, time: 1.958, data_time: 0.007, memory: 5266, loss_cls: 0.7894, loss_bbox: 0.1948, loss_bbox_rf: 0.2341, loss: 1.2182, grad_norm: 6.0524\n",
      "2021-05-19 19:18:05,779 - mmdet - INFO - Epoch [14][650/655]\tlr: 1.000e-02, eta: 3:33:01, time: 1.960, data_time: 0.007, memory: 5266, loss_cls: 0.7734, loss_bbox: 0.2184, loss_bbox_rf: 0.2599, loss: 1.2517, grad_norm: 5.2287\n",
      "2021-05-19 19:18:15,618 - mmdet - INFO - Saving checkpoint at 14 epochs\n"
     ]
    },
    {
     "name": "stdout",
     "output_type": "stream",
     "text": [
      "[>>>>>>>>>>>>>>>>>>>>>>>>>>>>>>] 655/655, 8.3 task/s, elapsed: 79s, ETA:     0s"
     ]
    },
    {
     "name": "stderr",
     "output_type": "stream",
     "text": [
      "2021-05-19 19:19:42,041 - mmdet - INFO - Evaluating bbox...\n"
     ]
    },
    {
     "name": "stdout",
     "output_type": "stream",
     "text": [
      "Loading and preparing results...\n",
      "DONE (t=1.16s)\n",
      "creating index...\n",
      "index created!\n",
      "Running per image evaluation...\n",
      "Evaluate annotation type *bbox*\n",
      "DONE (t=7.98s).\n",
      "Accumulating evaluation results...\n"
     ]
    },
    {
     "name": "stderr",
     "output_type": "stream",
     "text": [
      "2021-05-19 19:19:53,013 - mmdet - INFO - Epoch(val) [14][655]\tbbox_mAP: 0.2190, bbox_mAP_50: 0.3040, bbox_mAP_75: 0.2260, bbox_mAP_s: 0.0490, bbox_mAP_m: 0.1930, bbox_mAP_l: 0.3480, bbox_mAP_copypaste: 0.219 0.304 0.226 0.049 0.193 0.348\n"
     ]
    },
    {
     "name": "stdout",
     "output_type": "stream",
     "text": [
      "DONE (t=1.69s).\n",
      "Average Precision  (AP) @[ IoU=0.50:0.95 | area=   all | maxDets=100 ] = 0.219\n",
      "Average Precision  (AP) @[ IoU=0.50      | area=   all | maxDets=1000 ] = 0.304\n",
      "Average Precision  (AP) @[ IoU=0.75      | area=   all | maxDets=1000 ] = 0.226\n",
      "Average Precision  (AP) @[ IoU=0.50:0.95 | area= small | maxDets=1000 ] = 0.049\n",
      "Average Precision  (AP) @[ IoU=0.50:0.95 | area=medium | maxDets=1000 ] = 0.193\n",
      "Average Precision  (AP) @[ IoU=0.50:0.95 | area= large | maxDets=1000 ] = 0.348\n",
      "Average Recall     (AR) @[ IoU=0.50:0.95 | area=   all | maxDets=100 ] = 0.382\n",
      "Average Recall     (AR) @[ IoU=0.50:0.95 | area=   all | maxDets=300 ] = 0.382\n",
      "Average Recall     (AR) @[ IoU=0.50:0.95 | area=   all | maxDets=1000 ] = 0.382\n",
      "Average Recall     (AR) @[ IoU=0.50:0.95 | area= small | maxDets=1000 ] = 0.116\n",
      "Average Recall     (AR) @[ IoU=0.50:0.95 | area=medium | maxDets=1000 ] = 0.342\n",
      "Average Recall     (AR) @[ IoU=0.50:0.95 | area= large | maxDets=1000 ] = 0.592\n"
     ]
    },
    {
     "name": "stderr",
     "output_type": "stream",
     "text": [
      "2021-05-19 19:21:33,459 - mmdet - INFO - Epoch [15][50/655]\tlr: 1.000e-02, eta: 3:31:09, time: 2.009, data_time: 0.051, memory: 5266, loss_cls: 0.7167, loss_bbox: 0.2007, loss_bbox_rf: 0.2386, loss: 1.1560, grad_norm: 4.8853\n",
      "2021-05-19 19:23:11,737 - mmdet - INFO - Epoch [15][100/655]\tlr: 1.000e-02, eta: 3:29:32, time: 1.966, data_time: 0.007, memory: 5266, loss_cls: 0.7200, loss_bbox: 0.2118, loss_bbox_rf: 0.2581, loss: 1.1900, grad_norm: 4.9785\n",
      "2021-05-19 19:24:49,442 - mmdet - INFO - Epoch [15][150/655]\tlr: 1.000e-02, eta: 3:27:55, time: 1.954, data_time: 0.007, memory: 5266, loss_cls: 0.6769, loss_bbox: 0.2085, loss_bbox_rf: 0.2484, loss: 1.1338, grad_norm: 4.3464\n",
      "2021-05-19 19:26:27,171 - mmdet - INFO - Epoch [15][200/655]\tlr: 1.000e-02, eta: 3:26:17, time: 1.955, data_time: 0.007, memory: 5266, loss_cls: 0.6508, loss_bbox: 0.1937, loss_bbox_rf: 0.2222, loss: 1.0667, grad_norm: 4.9551\n",
      "2021-05-19 19:28:05,011 - mmdet - INFO - Epoch [15][250/655]\tlr: 1.000e-02, eta: 3:24:40, time: 1.957, data_time: 0.007, memory: 5266, loss_cls: 0.7604, loss_bbox: 0.2019, loss_bbox_rf: 0.2392, loss: 1.2015, grad_norm: 4.9958\n",
      "2021-05-19 19:29:43,319 - mmdet - INFO - Epoch [15][300/655]\tlr: 1.000e-02, eta: 3:23:03, time: 1.966, data_time: 0.007, memory: 5266, loss_cls: 0.6987, loss_bbox: 0.2252, loss_bbox_rf: 0.2631, loss: 1.1870, grad_norm: 4.9831\n",
      "2021-05-19 19:31:21,509 - mmdet - INFO - Epoch [15][350/655]\tlr: 1.000e-02, eta: 3:21:26, time: 1.964, data_time: 0.007, memory: 5266, loss_cls: 0.7329, loss_bbox: 0.2109, loss_bbox_rf: 0.2511, loss: 1.1949, grad_norm: 5.4927\n",
      "2021-05-19 19:32:59,714 - mmdet - INFO - Epoch [15][400/655]\tlr: 1.000e-02, eta: 3:19:49, time: 1.964, data_time: 0.007, memory: 5266, loss_cls: 0.6871, loss_bbox: 0.2084, loss_bbox_rf: 0.2555, loss: 1.1510, grad_norm: 4.3581\n",
      "2021-05-19 19:34:37,442 - mmdet - INFO - Epoch [15][450/655]\tlr: 1.000e-02, eta: 3:18:12, time: 1.955, data_time: 0.007, memory: 5266, loss_cls: 0.6520, loss_bbox: 0.2052, loss_bbox_rf: 0.2475, loss: 1.1047, grad_norm: 4.6533\n",
      "2021-05-19 19:36:15,219 - mmdet - INFO - Epoch [15][500/655]\tlr: 1.000e-02, eta: 3:16:35, time: 1.956, data_time: 0.007, memory: 5266, loss_cls: 0.7302, loss_bbox: 0.2120, loss_bbox_rf: 0.2597, loss: 1.2018, grad_norm: 5.0275\n",
      "2021-05-19 19:37:54,274 - mmdet - INFO - Epoch [15][550/655]\tlr: 1.000e-02, eta: 3:14:58, time: 1.981, data_time: 0.007, memory: 5266, loss_cls: 0.6777, loss_bbox: 0.2024, loss_bbox_rf: 0.2436, loss: 1.1237, grad_norm: 4.5982\n",
      "2021-05-19 19:39:32,030 - mmdet - INFO - Epoch [15][600/655]\tlr: 1.000e-02, eta: 3:13:21, time: 1.955, data_time: 0.007, memory: 5266, loss_cls: 0.6803, loss_bbox: 0.1959, loss_bbox_rf: 0.2330, loss: 1.1092, grad_norm: 4.9185\n",
      "2021-05-19 19:41:09,955 - mmdet - INFO - Epoch [15][650/655]\tlr: 1.000e-02, eta: 3:11:44, time: 1.958, data_time: 0.007, memory: 5266, loss_cls: 0.6719, loss_bbox: 0.1945, loss_bbox_rf: 0.2321, loss: 1.0986, grad_norm: 5.1722\n",
      "2021-05-19 19:41:19,805 - mmdet - INFO - Saving checkpoint at 15 epochs\n"
     ]
    },
    {
     "name": "stdout",
     "output_type": "stream",
     "text": [
      "[>>>>>>>>>>>>>>>>>>>>>>>>>>>>>>] 655/655, 8.3 task/s, elapsed: 79s, ETA:     0s"
     ]
    },
    {
     "name": "stderr",
     "output_type": "stream",
     "text": [
      "2021-05-19 19:42:46,944 - mmdet - INFO - Evaluating bbox...\n"
     ]
    },
    {
     "name": "stdout",
     "output_type": "stream",
     "text": [
      "Loading and preparing results...\n",
      "DONE (t=0.72s)\n",
      "creating index...\n",
      "index created!\n",
      "Running per image evaluation...\n",
      "Evaluate annotation type *bbox*\n",
      "DONE (t=7.09s).\n",
      "Accumulating evaluation results...\n"
     ]
    },
    {
     "name": "stderr",
     "output_type": "stream",
     "text": [
      "2021-05-19 19:42:56,554 - mmdet - INFO - Epoch(val) [15][655]\tbbox_mAP: 0.2450, bbox_mAP_50: 0.3460, bbox_mAP_75: 0.2560, bbox_mAP_s: 0.0380, bbox_mAP_m: 0.2190, bbox_mAP_l: 0.3910, bbox_mAP_copypaste: 0.245 0.346 0.256 0.038 0.219 0.391\n"
     ]
    },
    {
     "name": "stdout",
     "output_type": "stream",
     "text": [
      "DONE (t=1.65s).\n",
      "Average Precision  (AP) @[ IoU=0.50:0.95 | area=   all | maxDets=100 ] = 0.245\n",
      "Average Precision  (AP) @[ IoU=0.50      | area=   all | maxDets=1000 ] = 0.346\n",
      "Average Precision  (AP) @[ IoU=0.75      | area=   all | maxDets=1000 ] = 0.256\n",
      "Average Precision  (AP) @[ IoU=0.50:0.95 | area= small | maxDets=1000 ] = 0.038\n",
      "Average Precision  (AP) @[ IoU=0.50:0.95 | area=medium | maxDets=1000 ] = 0.219\n",
      "Average Precision  (AP) @[ IoU=0.50:0.95 | area= large | maxDets=1000 ] = 0.391\n",
      "Average Recall     (AR) @[ IoU=0.50:0.95 | area=   all | maxDets=100 ] = 0.430\n",
      "Average Recall     (AR) @[ IoU=0.50:0.95 | area=   all | maxDets=300 ] = 0.430\n",
      "Average Recall     (AR) @[ IoU=0.50:0.95 | area=   all | maxDets=1000 ] = 0.430\n",
      "Average Recall     (AR) @[ IoU=0.50:0.95 | area= small | maxDets=1000 ] = 0.139\n",
      "Average Recall     (AR) @[ IoU=0.50:0.95 | area=medium | maxDets=1000 ] = 0.407\n",
      "Average Recall     (AR) @[ IoU=0.50:0.95 | area= large | maxDets=1000 ] = 0.631\n"
     ]
    },
    {
     "name": "stderr",
     "output_type": "stream",
     "text": [
      "2021-05-19 19:44:36,745 - mmdet - INFO - Epoch [16][50/655]\tlr: 1.000e-02, eta: 3:09:52, time: 2.004, data_time: 0.052, memory: 5266, loss_cls: 0.6434, loss_bbox: 0.1874, loss_bbox_rf: 0.2281, loss: 1.0589, grad_norm: 4.7359\n",
      "2021-05-19 19:46:14,650 - mmdet - INFO - Epoch [16][100/655]\tlr: 1.000e-02, eta: 3:08:15, time: 1.958, data_time: 0.007, memory: 5266, loss_cls: 0.6493, loss_bbox: 0.2016, loss_bbox_rf: 0.2406, loss: 1.0915, grad_norm: 4.4868\n",
      "2021-05-19 19:47:52,349 - mmdet - INFO - Epoch [16][150/655]\tlr: 1.000e-02, eta: 3:06:38, time: 1.954, data_time: 0.007, memory: 5266, loss_cls: 0.6039, loss_bbox: 0.1905, loss_bbox_rf: 0.2335, loss: 1.0279, grad_norm: 4.0643\n",
      "2021-05-19 19:49:30,815 - mmdet - INFO - Epoch [16][200/655]\tlr: 1.000e-02, eta: 3:05:01, time: 1.969, data_time: 0.007, memory: 5266, loss_cls: 0.5804, loss_bbox: 0.1909, loss_bbox_rf: 0.2330, loss: 1.0043, grad_norm: 3.9321\n",
      "2021-05-19 19:51:08,700 - mmdet - INFO - Epoch [16][250/655]\tlr: 1.000e-02, eta: 3:03:24, time: 1.958, data_time: 0.007, memory: 5266, loss_cls: 0.6009, loss_bbox: 0.1960, loss_bbox_rf: 0.2346, loss: 1.0315, grad_norm: 4.3530\n",
      "2021-05-19 19:52:46,533 - mmdet - INFO - Epoch [16][300/655]\tlr: 1.000e-02, eta: 3:01:46, time: 1.957, data_time: 0.007, memory: 5266, loss_cls: 0.6539, loss_bbox: 0.2058, loss_bbox_rf: 0.2342, loss: 1.0939, grad_norm: 5.4614\n",
      "2021-05-19 19:54:24,791 - mmdet - INFO - Epoch [16][350/655]\tlr: 1.000e-02, eta: 3:00:09, time: 1.965, data_time: 0.007, memory: 5266, loss_cls: 0.6741, loss_bbox: 0.2131, loss_bbox_rf: 0.2576, loss: 1.1447, grad_norm: 4.7409\n",
      "2021-05-19 19:56:02,598 - mmdet - INFO - Epoch [16][400/655]\tlr: 1.000e-02, eta: 2:58:32, time: 1.956, data_time: 0.007, memory: 5266, loss_cls: 0.6882, loss_bbox: 0.2145, loss_bbox_rf: 0.2544, loss: 1.1571, grad_norm: 5.0323\n",
      "2021-05-19 19:57:40,495 - mmdet - INFO - Epoch [16][450/655]\tlr: 1.000e-02, eta: 2:56:55, time: 1.958, data_time: 0.007, memory: 5266, loss_cls: 0.7005, loss_bbox: 0.2043, loss_bbox_rf: 0.2522, loss: 1.1570, grad_norm: 5.0025\n",
      "2021-05-19 19:59:18,213 - mmdet - INFO - Epoch [16][500/655]\tlr: 1.000e-02, eta: 2:55:17, time: 1.954, data_time: 0.007, memory: 5266, loss_cls: 0.7053, loss_bbox: 0.1930, loss_bbox_rf: 0.2399, loss: 1.1382, grad_norm: 5.5907\n",
      "2021-05-19 20:00:55,863 - mmdet - INFO - Epoch [16][550/655]\tlr: 1.000e-02, eta: 2:53:40, time: 1.953, data_time: 0.007, memory: 5266, loss_cls: 0.8219, loss_bbox: 0.2112, loss_bbox_rf: 0.2545, loss: 1.2877, grad_norm: 6.3252\n",
      "2021-05-19 20:02:34,593 - mmdet - INFO - Epoch [16][600/655]\tlr: 1.000e-02, eta: 2:52:03, time: 1.975, data_time: 0.007, memory: 5266, loss_cls: 0.8153, loss_bbox: 0.2117, loss_bbox_rf: 0.2568, loss: 1.2838, grad_norm: 5.4239\n",
      "2021-05-19 20:04:12,281 - mmdet - INFO - Epoch [16][650/655]\tlr: 1.000e-02, eta: 2:50:26, time: 1.954, data_time: 0.007, memory: 5266, loss_cls: 0.7346, loss_bbox: 0.1942, loss_bbox_rf: 0.2364, loss: 1.1652, grad_norm: 5.1172\n",
      "2021-05-19 20:04:22,122 - mmdet - INFO - Saving checkpoint at 16 epochs\n"
     ]
    },
    {
     "name": "stdout",
     "output_type": "stream",
     "text": [
      "[>>>>>>>>>>>>>>>>>>>>>>>>>>>>>>] 655/655, 8.2 task/s, elapsed: 80s, ETA:     0s"
     ]
    },
    {
     "name": "stderr",
     "output_type": "stream",
     "text": [
      "2021-05-19 20:05:49,367 - mmdet - INFO - Evaluating bbox...\n"
     ]
    },
    {
     "name": "stdout",
     "output_type": "stream",
     "text": [
      "Loading and preparing results...\n",
      "DONE (t=1.15s)\n",
      "creating index...\n",
      "index created!\n",
      "Running per image evaluation...\n",
      "Evaluate annotation type *bbox*\n",
      "DONE (t=7.00s).\n",
      "Accumulating evaluation results...\n"
     ]
    },
    {
     "name": "stderr",
     "output_type": "stream",
     "text": [
      "2021-05-19 20:05:59,374 - mmdet - INFO - Epoch(val) [16][655]\tbbox_mAP: 0.2350, bbox_mAP_50: 0.3340, bbox_mAP_75: 0.2380, bbox_mAP_s: 0.0380, bbox_mAP_m: 0.2140, bbox_mAP_l: 0.4770, bbox_mAP_copypaste: 0.235 0.334 0.238 0.038 0.214 0.477\n"
     ]
    },
    {
     "name": "stdout",
     "output_type": "stream",
     "text": [
      "DONE (t=1.71s).\n",
      "Average Precision  (AP) @[ IoU=0.50:0.95 | area=   all | maxDets=100 ] = 0.235\n",
      "Average Precision  (AP) @[ IoU=0.50      | area=   all | maxDets=1000 ] = 0.334\n",
      "Average Precision  (AP) @[ IoU=0.75      | area=   all | maxDets=1000 ] = 0.238\n",
      "Average Precision  (AP) @[ IoU=0.50:0.95 | area= small | maxDets=1000 ] = 0.038\n",
      "Average Precision  (AP) @[ IoU=0.50:0.95 | area=medium | maxDets=1000 ] = 0.214\n",
      "Average Precision  (AP) @[ IoU=0.50:0.95 | area= large | maxDets=1000 ] = 0.477\n",
      "Average Recall     (AR) @[ IoU=0.50:0.95 | area=   all | maxDets=100 ] = 0.443\n",
      "Average Recall     (AR) @[ IoU=0.50:0.95 | area=   all | maxDets=300 ] = 0.443\n",
      "Average Recall     (AR) @[ IoU=0.50:0.95 | area=   all | maxDets=1000 ] = 0.443\n",
      "Average Recall     (AR) @[ IoU=0.50:0.95 | area= small | maxDets=1000 ] = 0.142\n",
      "Average Recall     (AR) @[ IoU=0.50:0.95 | area=medium | maxDets=1000 ] = 0.421\n",
      "Average Recall     (AR) @[ IoU=0.50:0.95 | area= large | maxDets=1000 ] = 0.726\n"
     ]
    },
    {
     "name": "stderr",
     "output_type": "stream",
     "text": [
      "2021-05-19 20:07:39,832 - mmdet - INFO - Epoch [17][50/655]\tlr: 1.000e-03, eta: 2:48:35, time: 2.009, data_time: 0.051, memory: 5266, loss_cls: 0.6097, loss_bbox: 0.1780, loss_bbox_rf: 0.2188, loss: 1.0065, grad_norm: 4.1286\n",
      "2021-05-19 20:09:17,647 - mmdet - INFO - Epoch [17][100/655]\tlr: 1.000e-03, eta: 2:46:58, time: 1.956, data_time: 0.007, memory: 5266, loss_cls: 0.5900, loss_bbox: 0.1900, loss_bbox_rf: 0.2389, loss: 1.0188, grad_norm: 3.6405\n",
      "2021-05-19 20:10:55,382 - mmdet - INFO - Epoch [17][150/655]\tlr: 1.000e-03, eta: 2:45:21, time: 1.955, data_time: 0.007, memory: 5266, loss_cls: 0.5936, loss_bbox: 0.1792, loss_bbox_rf: 0.2266, loss: 0.9993, grad_norm: 3.8893\n",
      "2021-05-19 20:12:33,881 - mmdet - INFO - Epoch [17][200/655]\tlr: 1.000e-03, eta: 2:43:44, time: 1.970, data_time: 0.007, memory: 5266, loss_cls: 0.5583, loss_bbox: 0.1727, loss_bbox_rf: 0.2178, loss: 0.9487, grad_norm: 3.4659\n",
      "2021-05-19 20:14:11,961 - mmdet - INFO - Epoch [17][250/655]\tlr: 1.000e-03, eta: 2:42:06, time: 1.962, data_time: 0.007, memory: 5266, loss_cls: 0.5766, loss_bbox: 0.1628, loss_bbox_rf: 0.2056, loss: 0.9450, grad_norm: 3.8050\n",
      "2021-05-19 20:15:49,778 - mmdet - INFO - Epoch [17][300/655]\tlr: 1.000e-03, eta: 2:40:29, time: 1.956, data_time: 0.007, memory: 5266, loss_cls: 0.5466, loss_bbox: 0.1562, loss_bbox_rf: 0.1962, loss: 0.8990, grad_norm: 3.6319\n",
      "2021-05-19 20:17:27,558 - mmdet - INFO - Epoch [17][350/655]\tlr: 1.000e-03, eta: 2:38:52, time: 1.956, data_time: 0.007, memory: 5266, loss_cls: 0.5510, loss_bbox: 0.1676, loss_bbox_rf: 0.2126, loss: 0.9312, grad_norm: 3.7307\n",
      "2021-05-19 20:19:05,382 - mmdet - INFO - Epoch [17][400/655]\tlr: 1.000e-03, eta: 2:37:14, time: 1.956, data_time: 0.007, memory: 5266, loss_cls: 0.5202, loss_bbox: 0.1528, loss_bbox_rf: 0.1914, loss: 0.8644, grad_norm: 3.7500\n",
      "2021-05-19 20:20:43,216 - mmdet - INFO - Epoch [17][450/655]\tlr: 1.000e-03, eta: 2:35:37, time: 1.957, data_time: 0.007, memory: 5266, loss_cls: 0.5408, loss_bbox: 0.1566, loss_bbox_rf: 0.1979, loss: 0.8952, grad_norm: 3.6591\n",
      "2021-05-19 20:22:21,068 - mmdet - INFO - Epoch [17][500/655]\tlr: 1.000e-03, eta: 2:34:00, time: 1.957, data_time: 0.007, memory: 5266, loss_cls: 0.5398, loss_bbox: 0.1669, loss_bbox_rf: 0.2116, loss: 0.9182, grad_norm: 3.3547\n",
      "2021-05-19 20:23:58,903 - mmdet - INFO - Epoch [17][550/655]\tlr: 1.000e-03, eta: 2:32:23, time: 1.957, data_time: 0.007, memory: 5266, loss_cls: 0.5353, loss_bbox: 0.1647, loss_bbox_rf: 0.2084, loss: 0.9084, grad_norm: 3.4638\n",
      "2021-05-19 20:25:36,886 - mmdet - INFO - Epoch [17][600/655]\tlr: 1.000e-03, eta: 2:30:45, time: 1.960, data_time: 0.007, memory: 5266, loss_cls: 0.5058, loss_bbox: 0.1574, loss_bbox_rf: 0.1980, loss: 0.8613, grad_norm: 3.2474\n",
      "2021-05-19 20:27:14,609 - mmdet - INFO - Epoch [17][650/655]\tlr: 1.000e-03, eta: 2:29:08, time: 1.954, data_time: 0.007, memory: 5266, loss_cls: 0.5130, loss_bbox: 0.1484, loss_bbox_rf: 0.1881, loss: 0.8495, grad_norm: 3.8444\n",
      "2021-05-19 20:27:24,480 - mmdet - INFO - Saving checkpoint at 17 epochs\n"
     ]
    },
    {
     "name": "stdout",
     "output_type": "stream",
     "text": [
      "[>>>>>>>>>>>>>>>>>>>>>>>>>>>>>>] 655/655, 8.2 task/s, elapsed: 80s, ETA:     0s"
     ]
    },
    {
     "name": "stderr",
     "output_type": "stream",
     "text": [
      "2021-05-19 20:28:51,529 - mmdet - INFO - Evaluating bbox...\n"
     ]
    },
    {
     "name": "stdout",
     "output_type": "stream",
     "text": [
      "Loading and preparing results...\n",
      "DONE (t=1.08s)\n",
      "creating index...\n",
      "index created!\n",
      "Running per image evaluation...\n",
      "Evaluate annotation type *bbox*\n",
      "DONE (t=7.41s).\n",
      "Accumulating evaluation results...\n"
     ]
    },
    {
     "name": "stderr",
     "output_type": "stream",
     "text": [
      "2021-05-19 20:29:01,643 - mmdet - INFO - Epoch(val) [17][655]\tbbox_mAP: 0.2900, bbox_mAP_50: 0.3970, bbox_mAP_75: 0.3040, bbox_mAP_s: 0.0520, bbox_mAP_m: 0.2610, bbox_mAP_l: 0.5150, bbox_mAP_copypaste: 0.290 0.397 0.304 0.052 0.261 0.515\n"
     ]
    },
    {
     "name": "stdout",
     "output_type": "stream",
     "text": [
      "DONE (t=1.49s).\n",
      "Average Precision  (AP) @[ IoU=0.50:0.95 | area=   all | maxDets=100 ] = 0.290\n",
      "Average Precision  (AP) @[ IoU=0.50      | area=   all | maxDets=1000 ] = 0.397\n",
      "Average Precision  (AP) @[ IoU=0.75      | area=   all | maxDets=1000 ] = 0.304\n",
      "Average Precision  (AP) @[ IoU=0.50:0.95 | area= small | maxDets=1000 ] = 0.052\n",
      "Average Precision  (AP) @[ IoU=0.50:0.95 | area=medium | maxDets=1000 ] = 0.261\n",
      "Average Precision  (AP) @[ IoU=0.50:0.95 | area= large | maxDets=1000 ] = 0.515\n",
      "Average Recall     (AR) @[ IoU=0.50:0.95 | area=   all | maxDets=100 ] = 0.473\n",
      "Average Recall     (AR) @[ IoU=0.50:0.95 | area=   all | maxDets=300 ] = 0.473\n",
      "Average Recall     (AR) @[ IoU=0.50:0.95 | area=   all | maxDets=1000 ] = 0.473\n",
      "Average Recall     (AR) @[ IoU=0.50:0.95 | area= small | maxDets=1000 ] = 0.147\n",
      "Average Recall     (AR) @[ IoU=0.50:0.95 | area=medium | maxDets=1000 ] = 0.453\n",
      "Average Recall     (AR) @[ IoU=0.50:0.95 | area= large | maxDets=1000 ] = 0.752\n"
     ]
    },
    {
     "name": "stderr",
     "output_type": "stream",
     "text": [
      "2021-05-19 20:30:41,850 - mmdet - INFO - Epoch [18][50/655]\tlr: 1.000e-03, eta: 2:27:18, time: 2.004, data_time: 0.051, memory: 5266, loss_cls: 0.5074, loss_bbox: 0.1562, loss_bbox_rf: 0.1989, loss: 0.8625, grad_norm: 3.2752\n",
      "2021-05-19 20:32:20,033 - mmdet - INFO - Epoch [18][100/655]\tlr: 1.000e-03, eta: 2:25:41, time: 1.964, data_time: 0.007, memory: 5266, loss_cls: 0.4864, loss_bbox: 0.1484, loss_bbox_rf: 0.1878, loss: 0.8226, grad_norm: 3.2216\n",
      "2021-05-19 20:33:58,841 - mmdet - INFO - Epoch [18][150/655]\tlr: 1.000e-03, eta: 2:24:04, time: 1.976, data_time: 0.007, memory: 5266, loss_cls: 0.5061, loss_bbox: 0.1539, loss_bbox_rf: 0.1957, loss: 0.8557, grad_norm: 3.1015\n",
      "2021-05-19 20:35:36,915 - mmdet - INFO - Epoch [18][200/655]\tlr: 1.000e-03, eta: 2:22:27, time: 1.961, data_time: 0.007, memory: 5266, loss_cls: 0.4759, loss_bbox: 0.1520, loss_bbox_rf: 0.1929, loss: 0.8207, grad_norm: 2.9274\n",
      "2021-05-19 20:37:15,014 - mmdet - INFO - Epoch [18][250/655]\tlr: 1.000e-03, eta: 2:20:49, time: 1.962, data_time: 0.007, memory: 5266, loss_cls: 0.4768, loss_bbox: 0.1536, loss_bbox_rf: 0.1933, loss: 0.8236, grad_norm: 3.1276\n",
      "2021-05-19 20:38:52,798 - mmdet - INFO - Epoch [18][300/655]\tlr: 1.000e-03, eta: 2:19:12, time: 1.956, data_time: 0.007, memory: 5266, loss_cls: 0.5067, loss_bbox: 0.1564, loss_bbox_rf: 0.1985, loss: 0.8616, grad_norm: 3.3661\n",
      "2021-05-19 20:40:31,392 - mmdet - INFO - Epoch [18][350/655]\tlr: 1.000e-03, eta: 2:17:35, time: 1.972, data_time: 0.007, memory: 5266, loss_cls: 0.4977, loss_bbox: 0.1436, loss_bbox_rf: 0.1806, loss: 0.8219, grad_norm: 3.5522\n",
      "2021-05-19 20:42:09,384 - mmdet - INFO - Epoch [18][400/655]\tlr: 1.000e-03, eta: 2:15:58, time: 1.960, data_time: 0.007, memory: 5266, loss_cls: 0.5006, loss_bbox: 0.1641, loss_bbox_rf: 0.2072, loss: 0.8719, grad_norm: 3.1945\n",
      "2021-05-19 20:43:47,142 - mmdet - INFO - Epoch [18][450/655]\tlr: 1.000e-03, eta: 2:14:20, time: 1.955, data_time: 0.007, memory: 5266, loss_cls: 0.4861, loss_bbox: 0.1472, loss_bbox_rf: 0.1865, loss: 0.8198, grad_norm: 3.1122\n",
      "2021-05-19 20:45:25,683 - mmdet - INFO - Epoch [18][500/655]\tlr: 1.000e-03, eta: 2:12:43, time: 1.971, data_time: 0.007, memory: 5266, loss_cls: 0.5067, loss_bbox: 0.1479, loss_bbox_rf: 0.1871, loss: 0.8417, grad_norm: 3.5033\n",
      "2021-05-19 20:47:04,036 - mmdet - INFO - Epoch [18][550/655]\tlr: 1.000e-03, eta: 2:11:06, time: 1.967, data_time: 0.007, memory: 5266, loss_cls: 0.4792, loss_bbox: 0.1456, loss_bbox_rf: 0.1846, loss: 0.8094, grad_norm: 3.0354\n",
      "2021-05-19 20:48:41,835 - mmdet - INFO - Epoch [18][600/655]\tlr: 1.000e-03, eta: 2:09:29, time: 1.956, data_time: 0.007, memory: 5266, loss_cls: 0.4748, loss_bbox: 0.1598, loss_bbox_rf: 0.2020, loss: 0.8366, grad_norm: 3.1612\n",
      "2021-05-19 20:50:19,514 - mmdet - INFO - Epoch [18][650/655]\tlr: 1.000e-03, eta: 2:07:51, time: 1.954, data_time: 0.007, memory: 5266, loss_cls: 0.4858, loss_bbox: 0.1463, loss_bbox_rf: 0.1848, loss: 0.8169, grad_norm: 3.5186\n",
      "2021-05-19 20:50:29,356 - mmdet - INFO - Saving checkpoint at 18 epochs\n"
     ]
    },
    {
     "name": "stdout",
     "output_type": "stream",
     "text": [
      "[>>>>>>>>>>>>>>>>>>>>>>>>>>>>>>] 655/655, 7.9 task/s, elapsed: 82s, ETA:     0s"
     ]
    },
    {
     "name": "stderr",
     "output_type": "stream",
     "text": [
      "2021-05-19 20:51:58,579 - mmdet - INFO - Evaluating bbox...\n"
     ]
    },
    {
     "name": "stdout",
     "output_type": "stream",
     "text": [
      "Loading and preparing results...\n",
      "DONE (t=1.05s)\n",
      "creating index...\n",
      "index created!\n",
      "Running per image evaluation...\n",
      "Evaluate annotation type *bbox*\n",
      "DONE (t=7.18s).\n",
      "Accumulating evaluation results...\n"
     ]
    },
    {
     "name": "stderr",
     "output_type": "stream",
     "text": [
      "2021-05-19 20:52:08,424 - mmdet - INFO - Epoch(val) [18][655]\tbbox_mAP: 0.2910, bbox_mAP_50: 0.3990, bbox_mAP_75: 0.3050, bbox_mAP_s: 0.0520, bbox_mAP_m: 0.2590, bbox_mAP_l: 0.5190, bbox_mAP_copypaste: 0.291 0.399 0.305 0.052 0.259 0.519\n"
     ]
    },
    {
     "name": "stdout",
     "output_type": "stream",
     "text": [
      "DONE (t=1.47s).\n",
      "Average Precision  (AP) @[ IoU=0.50:0.95 | area=   all | maxDets=100 ] = 0.291\n",
      "Average Precision  (AP) @[ IoU=0.50      | area=   all | maxDets=1000 ] = 0.399\n",
      "Average Precision  (AP) @[ IoU=0.75      | area=   all | maxDets=1000 ] = 0.305\n",
      "Average Precision  (AP) @[ IoU=0.50:0.95 | area= small | maxDets=1000 ] = 0.052\n",
      "Average Precision  (AP) @[ IoU=0.50:0.95 | area=medium | maxDets=1000 ] = 0.259\n",
      "Average Precision  (AP) @[ IoU=0.50:0.95 | area= large | maxDets=1000 ] = 0.519\n",
      "Average Recall     (AR) @[ IoU=0.50:0.95 | area=   all | maxDets=100 ] = 0.473\n",
      "Average Recall     (AR) @[ IoU=0.50:0.95 | area=   all | maxDets=300 ] = 0.473\n",
      "Average Recall     (AR) @[ IoU=0.50:0.95 | area=   all | maxDets=1000 ] = 0.473\n",
      "Average Recall     (AR) @[ IoU=0.50:0.95 | area= small | maxDets=1000 ] = 0.149\n",
      "Average Recall     (AR) @[ IoU=0.50:0.95 | area=medium | maxDets=1000 ] = 0.463\n",
      "Average Recall     (AR) @[ IoU=0.50:0.95 | area= large | maxDets=1000 ] = 0.753\n"
     ]
    },
    {
     "name": "stderr",
     "output_type": "stream",
     "text": [
      "2021-05-19 20:53:48,535 - mmdet - INFO - Epoch [19][50/655]\tlr: 1.000e-03, eta: 2:06:02, time: 2.002, data_time: 0.051, memory: 5266, loss_cls: 0.4655, loss_bbox: 0.1498, loss_bbox_rf: 0.1896, loss: 0.8049, grad_norm: 2.8864\n",
      "2021-05-19 20:55:26,383 - mmdet - INFO - Epoch [19][100/655]\tlr: 1.000e-03, eta: 2:04:24, time: 1.957, data_time: 0.007, memory: 5266, loss_cls: 0.4736, loss_bbox: 0.1556, loss_bbox_rf: 0.1979, loss: 0.8271, grad_norm: 2.8109\n",
      "2021-05-19 20:57:05,082 - mmdet - INFO - Epoch [19][150/655]\tlr: 1.000e-03, eta: 2:02:47, time: 1.974, data_time: 0.007, memory: 5266, loss_cls: 0.4379, loss_bbox: 0.1359, loss_bbox_rf: 0.1730, loss: 0.7467, grad_norm: 3.0532\n",
      "2021-05-19 20:58:42,972 - mmdet - INFO - Epoch [19][200/655]\tlr: 1.000e-03, eta: 2:01:10, time: 1.958, data_time: 0.007, memory: 5266, loss_cls: 0.4389, loss_bbox: 0.1418, loss_bbox_rf: 0.1784, loss: 0.7591, grad_norm: 3.0266\n",
      "2021-05-19 21:00:20,767 - mmdet - INFO - Epoch [19][250/655]\tlr: 1.000e-03, eta: 1:59:33, time: 1.956, data_time: 0.007, memory: 5266, loss_cls: 0.4539, loss_bbox: 0.1416, loss_bbox_rf: 0.1793, loss: 0.7748, grad_norm: 2.9816\n",
      "2021-05-19 21:01:58,528 - mmdet - INFO - Epoch [19][300/655]\tlr: 1.000e-03, eta: 1:57:55, time: 1.955, data_time: 0.007, memory: 5266, loss_cls: 0.4506, loss_bbox: 0.1393, loss_bbox_rf: 0.1769, loss: 0.7669, grad_norm: 3.0461\n",
      "2021-05-19 21:03:36,275 - mmdet - INFO - Epoch [19][350/655]\tlr: 1.000e-03, eta: 1:56:18, time: 1.955, data_time: 0.007, memory: 5266, loss_cls: 0.4529, loss_bbox: 0.1425, loss_bbox_rf: 0.1796, loss: 0.7750, grad_norm: 3.2756\n",
      "2021-05-19 21:05:14,119 - mmdet - INFO - Epoch [19][400/655]\tlr: 1.000e-03, eta: 1:54:41, time: 1.957, data_time: 0.007, memory: 5266, loss_cls: 0.4524, loss_bbox: 0.1448, loss_bbox_rf: 0.1830, loss: 0.7802, grad_norm: 3.0853\n",
      "2021-05-19 21:06:52,459 - mmdet - INFO - Epoch [19][450/655]\tlr: 1.000e-03, eta: 1:53:03, time: 1.967, data_time: 0.007, memory: 5266, loss_cls: 0.4753, loss_bbox: 0.1535, loss_bbox_rf: 0.1963, loss: 0.8251, grad_norm: 2.9344\n",
      "2021-05-19 21:08:31,316 - mmdet - INFO - Epoch [19][500/655]\tlr: 1.000e-03, eta: 1:51:26, time: 1.977, data_time: 0.007, memory: 5266, loss_cls: 0.4757, loss_bbox: 0.1524, loss_bbox_rf: 0.1943, loss: 0.8224, grad_norm: 2.9297\n",
      "2021-05-19 21:10:09,151 - mmdet - INFO - Epoch [19][550/655]\tlr: 1.000e-03, eta: 1:49:49, time: 1.957, data_time: 0.007, memory: 5266, loss_cls: 0.4663, loss_bbox: 0.1482, loss_bbox_rf: 0.1883, loss: 0.8028, grad_norm: 2.8791\n",
      "2021-05-19 21:11:46,785 - mmdet - INFO - Epoch [19][600/655]\tlr: 1.000e-03, eta: 1:48:11, time: 1.953, data_time: 0.007, memory: 5266, loss_cls: 0.4540, loss_bbox: 0.1382, loss_bbox_rf: 0.1747, loss: 0.7670, grad_norm: 3.0108\n",
      "2021-05-19 21:13:24,614 - mmdet - INFO - Epoch [19][650/655]\tlr: 1.000e-03, eta: 1:46:34, time: 1.957, data_time: 0.007, memory: 5266, loss_cls: 0.4746, loss_bbox: 0.1547, loss_bbox_rf: 0.1968, loss: 0.8261, grad_norm: 2.9206\n",
      "2021-05-19 21:13:34,484 - mmdet - INFO - Saving checkpoint at 19 epochs\n"
     ]
    },
    {
     "name": "stdout",
     "output_type": "stream",
     "text": [
      "[>>>>>>>>>>>>>>>>>>>>>>>>>>>>>>] 655/655, 8.5 task/s, elapsed: 77s, ETA:     0s"
     ]
    },
    {
     "name": "stderr",
     "output_type": "stream",
     "text": [
      "2021-05-19 21:14:58,569 - mmdet - INFO - Evaluating bbox...\n"
     ]
    },
    {
     "name": "stdout",
     "output_type": "stream",
     "text": [
      "Loading and preparing results...\n",
      "DONE (t=1.05s)\n",
      "creating index...\n",
      "index created!\n",
      "Running per image evaluation...\n",
      "Evaluate annotation type *bbox*\n",
      "DONE (t=7.38s).\n",
      "Accumulating evaluation results...\n"
     ]
    },
    {
     "name": "stderr",
     "output_type": "stream",
     "text": [
      "2021-05-19 21:15:08,524 - mmdet - INFO - Epoch(val) [19][655]\tbbox_mAP: 0.2950, bbox_mAP_50: 0.3970, bbox_mAP_75: 0.3090, bbox_mAP_s: 0.0510, bbox_mAP_m: 0.2580, bbox_mAP_l: 0.5510, bbox_mAP_copypaste: 0.295 0.397 0.309 0.051 0.258 0.551\n"
     ]
    },
    {
     "name": "stdout",
     "output_type": "stream",
     "text": [
      "DONE (t=1.40s).\n",
      "Average Precision  (AP) @[ IoU=0.50:0.95 | area=   all | maxDets=100 ] = 0.295\n",
      "Average Precision  (AP) @[ IoU=0.50      | area=   all | maxDets=1000 ] = 0.397\n",
      "Average Precision  (AP) @[ IoU=0.75      | area=   all | maxDets=1000 ] = 0.309\n",
      "Average Precision  (AP) @[ IoU=0.50:0.95 | area= small | maxDets=1000 ] = 0.051\n",
      "Average Precision  (AP) @[ IoU=0.50:0.95 | area=medium | maxDets=1000 ] = 0.258\n",
      "Average Precision  (AP) @[ IoU=0.50:0.95 | area= large | maxDets=1000 ] = 0.551\n",
      "Average Recall     (AR) @[ IoU=0.50:0.95 | area=   all | maxDets=100 ] = 0.466\n",
      "Average Recall     (AR) @[ IoU=0.50:0.95 | area=   all | maxDets=300 ] = 0.466\n",
      "Average Recall     (AR) @[ IoU=0.50:0.95 | area=   all | maxDets=1000 ] = 0.466\n",
      "Average Recall     (AR) @[ IoU=0.50:0.95 | area= small | maxDets=1000 ] = 0.145\n",
      "Average Recall     (AR) @[ IoU=0.50:0.95 | area=medium | maxDets=1000 ] = 0.443\n",
      "Average Recall     (AR) @[ IoU=0.50:0.95 | area= large | maxDets=1000 ] = 0.748\n"
     ]
    },
    {
     "name": "stderr",
     "output_type": "stream",
     "text": [
      "2021-05-19 21:16:48,656 - mmdet - INFO - Epoch [20][50/655]\tlr: 1.000e-03, eta: 1:44:45, time: 2.002, data_time: 0.052, memory: 5266, loss_cls: 0.4204, loss_bbox: 0.1285, loss_bbox_rf: 0.1622, loss: 0.7111, grad_norm: 2.8129\n",
      "2021-05-19 21:18:26,730 - mmdet - INFO - Epoch [20][100/655]\tlr: 1.000e-03, eta: 1:43:08, time: 1.961, data_time: 0.007, memory: 5266, loss_cls: 0.4439, loss_bbox: 0.1386, loss_bbox_rf: 0.1760, loss: 0.7584, grad_norm: 2.9000\n",
      "2021-05-19 21:20:04,997 - mmdet - INFO - Epoch [20][150/655]\tlr: 1.000e-03, eta: 1:41:30, time: 1.965, data_time: 0.007, memory: 5266, loss_cls: 0.4323, loss_bbox: 0.1365, loss_bbox_rf: 0.1728, loss: 0.7415, grad_norm: 2.9591\n",
      "2021-05-19 21:21:42,763 - mmdet - INFO - Epoch [20][200/655]\tlr: 1.000e-03, eta: 1:39:53, time: 1.955, data_time: 0.007, memory: 5266, loss_cls: 0.4380, loss_bbox: 0.1421, loss_bbox_rf: 0.1804, loss: 0.7604, grad_norm: 2.8407\n",
      "2021-05-19 21:23:20,587 - mmdet - INFO - Epoch [20][250/655]\tlr: 1.000e-03, eta: 1:38:16, time: 1.956, data_time: 0.007, memory: 5266, loss_cls: 0.4487, loss_bbox: 0.1448, loss_bbox_rf: 0.1826, loss: 0.7761, grad_norm: 3.0376\n",
      "2021-05-19 21:24:58,456 - mmdet - INFO - Epoch [20][300/655]\tlr: 1.000e-03, eta: 1:36:38, time: 1.957, data_time: 0.007, memory: 5266, loss_cls: 0.4551, loss_bbox: 0.1502, loss_bbox_rf: 0.1906, loss: 0.7959, grad_norm: 2.7605\n",
      "2021-05-19 21:26:36,443 - mmdet - INFO - Epoch [20][350/655]\tlr: 1.000e-03, eta: 1:35:01, time: 1.960, data_time: 0.007, memory: 5266, loss_cls: 0.4487, loss_bbox: 0.1380, loss_bbox_rf: 0.1744, loss: 0.7611, grad_norm: 3.1229\n",
      "2021-05-19 21:28:14,295 - mmdet - INFO - Epoch [20][400/655]\tlr: 1.000e-03, eta: 1:33:24, time: 1.957, data_time: 0.007, memory: 5266, loss_cls: 0.4582, loss_bbox: 0.1469, loss_bbox_rf: 0.1877, loss: 0.7928, grad_norm: 2.8383\n",
      "2021-05-19 21:29:53,832 - mmdet - INFO - Epoch [20][450/655]\tlr: 1.000e-03, eta: 1:31:47, time: 1.991, data_time: 0.007, memory: 5266, loss_cls: 0.4280, loss_bbox: 0.1417, loss_bbox_rf: 0.1803, loss: 0.7500, grad_norm: 2.7888\n",
      "2021-05-19 21:31:31,958 - mmdet - INFO - Epoch [20][500/655]\tlr: 1.000e-03, eta: 1:30:09, time: 1.962, data_time: 0.007, memory: 5266, loss_cls: 0.4262, loss_bbox: 0.1325, loss_bbox_rf: 0.1682, loss: 0.7268, grad_norm: 3.0312\n",
      "2021-05-19 21:33:10,023 - mmdet - INFO - Epoch [20][550/655]\tlr: 1.000e-03, eta: 1:28:32, time: 1.961, data_time: 0.007, memory: 5266, loss_cls: 0.4243, loss_bbox: 0.1413, loss_bbox_rf: 0.1792, loss: 0.7447, grad_norm: 2.8632\n",
      "2021-05-19 21:34:49,107 - mmdet - INFO - Epoch [20][600/655]\tlr: 1.000e-03, eta: 1:26:55, time: 1.982, data_time: 0.007, memory: 5266, loss_cls: 0.4361, loss_bbox: 0.1468, loss_bbox_rf: 0.1867, loss: 0.7695, grad_norm: 2.6874\n",
      "2021-05-19 21:36:27,003 - mmdet - INFO - Epoch [20][650/655]\tlr: 1.000e-03, eta: 1:25:17, time: 1.958, data_time: 0.007, memory: 5266, loss_cls: 0.4270, loss_bbox: 0.1420, loss_bbox_rf: 0.1807, loss: 0.7497, grad_norm: 2.7784\n",
      "2021-05-19 21:36:36,845 - mmdet - INFO - Saving checkpoint at 20 epochs\n"
     ]
    },
    {
     "name": "stdout",
     "output_type": "stream",
     "text": [
      "[>>>>>>>>>>>>>>>>>>>>>>>>>>>>>>] 655/655, 8.0 task/s, elapsed: 82s, ETA:     0s"
     ]
    },
    {
     "name": "stderr",
     "output_type": "stream",
     "text": [
      "2021-05-19 21:38:05,166 - mmdet - INFO - Evaluating bbox...\n"
     ]
    },
    {
     "name": "stdout",
     "output_type": "stream",
     "text": [
      "Loading and preparing results...\n",
      "DONE (t=1.07s)\n",
      "creating index...\n",
      "index created!\n",
      "Running per image evaluation...\n",
      "Evaluate annotation type *bbox*\n",
      "DONE (t=7.08s).\n",
      "Accumulating evaluation results...\n"
     ]
    },
    {
     "name": "stderr",
     "output_type": "stream",
     "text": [
      "2021-05-19 21:38:14,769 - mmdet - INFO - Epoch(val) [20][655]\tbbox_mAP: 0.2960, bbox_mAP_50: 0.4030, bbox_mAP_75: 0.3010, bbox_mAP_s: 0.0500, bbox_mAP_m: 0.2610, bbox_mAP_l: 0.5510, bbox_mAP_copypaste: 0.296 0.403 0.301 0.050 0.261 0.551\n"
     ]
    },
    {
     "name": "stdout",
     "output_type": "stream",
     "text": [
      "DONE (t=1.33s).\n",
      "Average Precision  (AP) @[ IoU=0.50:0.95 | area=   all | maxDets=100 ] = 0.296\n",
      "Average Precision  (AP) @[ IoU=0.50      | area=   all | maxDets=1000 ] = 0.403\n",
      "Average Precision  (AP) @[ IoU=0.75      | area=   all | maxDets=1000 ] = 0.301\n",
      "Average Precision  (AP) @[ IoU=0.50:0.95 | area= small | maxDets=1000 ] = 0.050\n",
      "Average Precision  (AP) @[ IoU=0.50:0.95 | area=medium | maxDets=1000 ] = 0.261\n",
      "Average Precision  (AP) @[ IoU=0.50:0.95 | area= large | maxDets=1000 ] = 0.551\n",
      "Average Recall     (AR) @[ IoU=0.50:0.95 | area=   all | maxDets=100 ] = 0.470\n",
      "Average Recall     (AR) @[ IoU=0.50:0.95 | area=   all | maxDets=300 ] = 0.470\n",
      "Average Recall     (AR) @[ IoU=0.50:0.95 | area=   all | maxDets=1000 ] = 0.470\n",
      "Average Recall     (AR) @[ IoU=0.50:0.95 | area= small | maxDets=1000 ] = 0.144\n",
      "Average Recall     (AR) @[ IoU=0.50:0.95 | area=medium | maxDets=1000 ] = 0.463\n",
      "Average Recall     (AR) @[ IoU=0.50:0.95 | area= large | maxDets=1000 ] = 0.743\n"
     ]
    },
    {
     "name": "stderr",
     "output_type": "stream",
     "text": [
      "2021-05-19 21:39:55,665 - mmdet - INFO - Epoch [21][50/655]\tlr: 1.000e-03, eta: 1:23:29, time: 2.018, data_time: 0.051, memory: 5266, loss_cls: 0.4044, loss_bbox: 0.1331, loss_bbox_rf: 0.1684, loss: 0.7058, grad_norm: 2.6193\n",
      "2021-05-19 21:41:33,537 - mmdet - INFO - Epoch [21][100/655]\tlr: 1.000e-03, eta: 1:21:52, time: 1.957, data_time: 0.007, memory: 5266, loss_cls: 0.4174, loss_bbox: 0.1369, loss_bbox_rf: 0.1740, loss: 0.7283, grad_norm: 2.6705\n",
      "2021-05-19 21:43:11,434 - mmdet - INFO - Epoch [21][150/655]\tlr: 1.000e-03, eta: 1:20:14, time: 1.958, data_time: 0.007, memory: 5266, loss_cls: 0.4010, loss_bbox: 0.1301, loss_bbox_rf: 0.1651, loss: 0.6962, grad_norm: 2.8125\n",
      "2021-05-19 21:44:49,471 - mmdet - INFO - Epoch [21][200/655]\tlr: 1.000e-03, eta: 1:18:37, time: 1.961, data_time: 0.007, memory: 5266, loss_cls: 0.4318, loss_bbox: 0.1448, loss_bbox_rf: 0.1834, loss: 0.7600, grad_norm: 2.9273\n",
      "2021-05-19 21:46:27,323 - mmdet - INFO - Epoch [21][250/655]\tlr: 1.000e-03, eta: 1:16:59, time: 1.957, data_time: 0.007, memory: 5266, loss_cls: 0.4145, loss_bbox: 0.1411, loss_bbox_rf: 0.1784, loss: 0.7340, grad_norm: 2.9636\n",
      "2021-05-19 21:48:05,800 - mmdet - INFO - Epoch [21][300/655]\tlr: 1.000e-03, eta: 1:15:22, time: 1.970, data_time: 0.007, memory: 5266, loss_cls: 0.4291, loss_bbox: 0.1374, loss_bbox_rf: 0.1745, loss: 0.7410, grad_norm: 2.6702\n",
      "2021-05-19 21:49:43,502 - mmdet - INFO - Epoch [21][350/655]\tlr: 1.000e-03, eta: 1:13:45, time: 1.954, data_time: 0.007, memory: 5266, loss_cls: 0.4397, loss_bbox: 0.1463, loss_bbox_rf: 0.1863, loss: 0.7723, grad_norm: 2.8828\n",
      "2021-05-19 21:51:21,332 - mmdet - INFO - Epoch [21][400/655]\tlr: 1.000e-03, eta: 1:12:07, time: 1.957, data_time: 0.007, memory: 5266, loss_cls: 0.3986, loss_bbox: 0.1320, loss_bbox_rf: 0.1678, loss: 0.6984, grad_norm: 2.8301\n",
      "2021-05-19 21:52:59,446 - mmdet - INFO - Epoch [21][450/655]\tlr: 1.000e-03, eta: 1:10:30, time: 1.962, data_time: 0.007, memory: 5266, loss_cls: 0.4118, loss_bbox: 0.1329, loss_bbox_rf: 0.1684, loss: 0.7131, grad_norm: 2.9360\n",
      "2021-05-19 21:54:37,196 - mmdet - INFO - Epoch [21][500/655]\tlr: 1.000e-03, eta: 1:08:52, time: 1.955, data_time: 0.007, memory: 5266, loss_cls: 0.4234, loss_bbox: 0.1387, loss_bbox_rf: 0.1758, loss: 0.7379, grad_norm: 2.9395\n",
      "2021-05-19 21:56:16,517 - mmdet - INFO - Epoch [21][550/655]\tlr: 1.000e-03, eta: 1:07:15, time: 1.986, data_time: 0.007, memory: 5266, loss_cls: 0.3935, loss_bbox: 0.1282, loss_bbox_rf: 0.1617, loss: 0.6834, grad_norm: 2.7520\n",
      "2021-05-19 21:57:56,161 - mmdet - INFO - Epoch [21][600/655]\tlr: 1.000e-03, eta: 1:05:38, time: 1.993, data_time: 0.007, memory: 5266, loss_cls: 0.4485, loss_bbox: 0.1466, loss_bbox_rf: 0.1876, loss: 0.7827, grad_norm: 2.8751\n",
      "2021-05-19 21:59:36,866 - mmdet - INFO - Epoch [21][650/655]\tlr: 1.000e-03, eta: 1:04:01, time: 2.014, data_time: 0.007, memory: 5266, loss_cls: 0.4143, loss_bbox: 0.1302, loss_bbox_rf: 0.1646, loss: 0.7090, grad_norm: 3.0032\n",
      "2021-05-19 21:59:46,699 - mmdet - INFO - Saving checkpoint at 21 epochs\n"
     ]
    },
    {
     "name": "stdout",
     "output_type": "stream",
     "text": [
      "[>>>>>>>>>>>>>>>>>>>>>>>>>>>>>>] 655/655, 8.2 task/s, elapsed: 80s, ETA:     0s"
     ]
    },
    {
     "name": "stderr",
     "output_type": "stream",
     "text": [
      "2021-05-19 22:01:09,608 - mmdet - INFO - Evaluating bbox...\n"
     ]
    },
    {
     "name": "stdout",
     "output_type": "stream",
     "text": [
      "Loading and preparing results...\n",
      "DONE (t=0.61s)\n",
      "creating index...\n",
      "index created!\n",
      "Running per image evaluation...\n",
      "Evaluate annotation type *bbox*\n",
      "DONE (t=6.98s).\n",
      "Accumulating evaluation results...\n"
     ]
    },
    {
     "name": "stderr",
     "output_type": "stream",
     "text": [
      "2021-05-19 22:01:18,598 - mmdet - INFO - Epoch(val) [21][655]\tbbox_mAP: 0.2940, bbox_mAP_50: 0.3960, bbox_mAP_75: 0.3040, bbox_mAP_s: 0.0520, bbox_mAP_m: 0.2610, bbox_mAP_l: 0.5520, bbox_mAP_copypaste: 0.294 0.396 0.304 0.052 0.261 0.552\n"
     ]
    },
    {
     "name": "stdout",
     "output_type": "stream",
     "text": [
      "DONE (t=1.28s).\n",
      "Average Precision  (AP) @[ IoU=0.50:0.95 | area=   all | maxDets=100 ] = 0.294\n",
      "Average Precision  (AP) @[ IoU=0.50      | area=   all | maxDets=1000 ] = 0.396\n",
      "Average Precision  (AP) @[ IoU=0.75      | area=   all | maxDets=1000 ] = 0.304\n",
      "Average Precision  (AP) @[ IoU=0.50:0.95 | area= small | maxDets=1000 ] = 0.052\n",
      "Average Precision  (AP) @[ IoU=0.50:0.95 | area=medium | maxDets=1000 ] = 0.261\n",
      "Average Precision  (AP) @[ IoU=0.50:0.95 | area= large | maxDets=1000 ] = 0.552\n",
      "Average Recall     (AR) @[ IoU=0.50:0.95 | area=   all | maxDets=100 ] = 0.461\n",
      "Average Recall     (AR) @[ IoU=0.50:0.95 | area=   all | maxDets=300 ] = 0.461\n",
      "Average Recall     (AR) @[ IoU=0.50:0.95 | area=   all | maxDets=1000 ] = 0.461\n",
      "Average Recall     (AR) @[ IoU=0.50:0.95 | area= small | maxDets=1000 ] = 0.144\n",
      "Average Recall     (AR) @[ IoU=0.50:0.95 | area=medium | maxDets=1000 ] = 0.428\n",
      "Average Recall     (AR) @[ IoU=0.50:0.95 | area= large | maxDets=1000 ] = 0.749\n"
     ]
    },
    {
     "name": "stderr",
     "output_type": "stream",
     "text": [
      "2021-05-19 22:02:58,706 - mmdet - INFO - Epoch [22][50/655]\tlr: 1.000e-03, eta: 1:02:13, time: 2.002, data_time: 0.051, memory: 5266, loss_cls: 0.3926, loss_bbox: 0.1270, loss_bbox_rf: 0.1601, loss: 0.6797, grad_norm: 2.7745\n",
      "2021-05-19 22:04:37,378 - mmdet - INFO - Epoch [22][100/655]\tlr: 1.000e-03, eta: 1:00:36, time: 1.973, data_time: 0.007, memory: 5266, loss_cls: 0.4140, loss_bbox: 0.1407, loss_bbox_rf: 0.1796, loss: 0.7343, grad_norm: 2.6521\n",
      "2021-05-19 22:06:15,191 - mmdet - INFO - Epoch [22][150/655]\tlr: 1.000e-03, eta: 0:58:58, time: 1.956, data_time: 0.007, memory: 5266, loss_cls: 0.3802, loss_bbox: 0.1167, loss_bbox_rf: 0.1463, loss: 0.6432, grad_norm: 2.6089\n",
      "2021-05-19 22:07:53,379 - mmdet - INFO - Epoch [22][200/655]\tlr: 1.000e-03, eta: 0:57:21, time: 1.964, data_time: 0.007, memory: 5266, loss_cls: 0.4182, loss_bbox: 0.1365, loss_bbox_rf: 0.1734, loss: 0.7280, grad_norm: 2.8727\n",
      "2021-05-19 22:09:31,822 - mmdet - INFO - Epoch [22][250/655]\tlr: 1.000e-03, eta: 0:55:43, time: 1.969, data_time: 0.007, memory: 5266, loss_cls: 0.4272, loss_bbox: 0.1439, loss_bbox_rf: 0.1829, loss: 0.7540, grad_norm: 2.8249\n",
      "2021-05-19 22:11:10,046 - mmdet - INFO - Epoch [22][300/655]\tlr: 1.000e-03, eta: 0:54:06, time: 1.964, data_time: 0.007, memory: 5266, loss_cls: 0.4061, loss_bbox: 0.1302, loss_bbox_rf: 0.1647, loss: 0.7010, grad_norm: 2.9131\n",
      "2021-05-19 22:12:47,903 - mmdet - INFO - Epoch [22][350/655]\tlr: 1.000e-03, eta: 0:52:28, time: 1.957, data_time: 0.007, memory: 5266, loss_cls: 0.3983, loss_bbox: 0.1291, loss_bbox_rf: 0.1626, loss: 0.6899, grad_norm: 2.7894\n",
      "2021-05-19 22:14:25,999 - mmdet - INFO - Epoch [22][400/655]\tlr: 1.000e-03, eta: 0:50:51, time: 1.962, data_time: 0.007, memory: 5266, loss_cls: 0.3807, loss_bbox: 0.1263, loss_bbox_rf: 0.1600, loss: 0.6669, grad_norm: 2.7613\n",
      "2021-05-19 22:16:03,970 - mmdet - INFO - Epoch [22][450/655]\tlr: 1.000e-03, eta: 0:49:14, time: 1.959, data_time: 0.007, memory: 5266, loss_cls: 0.4178, loss_bbox: 0.1439, loss_bbox_rf: 0.1839, loss: 0.7457, grad_norm: 2.6600\n",
      "2021-05-19 22:17:42,044 - mmdet - INFO - Epoch [22][500/655]\tlr: 1.000e-03, eta: 0:47:36, time: 1.961, data_time: 0.007, memory: 5266, loss_cls: 0.3894, loss_bbox: 0.1289, loss_bbox_rf: 0.1631, loss: 0.6814, grad_norm: 2.5718\n",
      "2021-05-19 22:19:19,907 - mmdet - INFO - Epoch [22][550/655]\tlr: 1.000e-03, eta: 0:45:59, time: 1.957, data_time: 0.007, memory: 5266, loss_cls: 0.4010, loss_bbox: 0.1359, loss_bbox_rf: 0.1721, loss: 0.7090, grad_norm: 2.7143\n",
      "2021-05-19 22:20:57,984 - mmdet - INFO - Epoch [22][600/655]\tlr: 1.000e-03, eta: 0:44:21, time: 1.962, data_time: 0.007, memory: 5266, loss_cls: 0.4117, loss_bbox: 0.1409, loss_bbox_rf: 0.1799, loss: 0.7324, grad_norm: 2.9289\n",
      "2021-05-19 22:22:35,661 - mmdet - INFO - Epoch [22][650/655]\tlr: 1.000e-03, eta: 0:42:44, time: 1.954, data_time: 0.007, memory: 5266, loss_cls: 0.3817, loss_bbox: 0.1216, loss_bbox_rf: 0.1532, loss: 0.6564, grad_norm: 2.9412\n",
      "2021-05-19 22:22:45,501 - mmdet - INFO - Saving checkpoint at 22 epochs\n"
     ]
    },
    {
     "name": "stdout",
     "output_type": "stream",
     "text": [
      "[>>>>>>>>>>>>>>>>>>>>>>>>>>>>>>] 655/655, 8.3 task/s, elapsed: 79s, ETA:     0s"
     ]
    },
    {
     "name": "stderr",
     "output_type": "stream",
     "text": [
      "2021-05-19 22:24:07,238 - mmdet - INFO - Evaluating bbox...\n"
     ]
    },
    {
     "name": "stdout",
     "output_type": "stream",
     "text": [
      "Loading and preparing results...\n",
      "DONE (t=0.59s)\n",
      "creating index...\n",
      "index created!\n",
      "Running per image evaluation...\n",
      "Evaluate annotation type *bbox*\n",
      "DONE (t=7.05s).\n",
      "Accumulating evaluation results...\n"
     ]
    },
    {
     "name": "stderr",
     "output_type": "stream",
     "text": [
      "2021-05-19 22:24:16,316 - mmdet - INFO - Epoch(val) [22][655]\tbbox_mAP: 0.2930, bbox_mAP_50: 0.3970, bbox_mAP_75: 0.3050, bbox_mAP_s: 0.0490, bbox_mAP_m: 0.2560, bbox_mAP_l: 0.5230, bbox_mAP_copypaste: 0.293 0.397 0.305 0.049 0.256 0.523\n"
     ]
    },
    {
     "name": "stdout",
     "output_type": "stream",
     "text": [
      "DONE (t=1.32s).\n",
      "Average Precision  (AP) @[ IoU=0.50:0.95 | area=   all | maxDets=100 ] = 0.293\n",
      "Average Precision  (AP) @[ IoU=0.50      | area=   all | maxDets=1000 ] = 0.397\n",
      "Average Precision  (AP) @[ IoU=0.75      | area=   all | maxDets=1000 ] = 0.305\n",
      "Average Precision  (AP) @[ IoU=0.50:0.95 | area= small | maxDets=1000 ] = 0.049\n",
      "Average Precision  (AP) @[ IoU=0.50:0.95 | area=medium | maxDets=1000 ] = 0.256\n",
      "Average Precision  (AP) @[ IoU=0.50:0.95 | area= large | maxDets=1000 ] = 0.523\n",
      "Average Recall     (AR) @[ IoU=0.50:0.95 | area=   all | maxDets=100 ] = 0.460\n",
      "Average Recall     (AR) @[ IoU=0.50:0.95 | area=   all | maxDets=300 ] = 0.460\n",
      "Average Recall     (AR) @[ IoU=0.50:0.95 | area=   all | maxDets=1000 ] = 0.460\n",
      "Average Recall     (AR) @[ IoU=0.50:0.95 | area= small | maxDets=1000 ] = 0.138\n",
      "Average Recall     (AR) @[ IoU=0.50:0.95 | area=medium | maxDets=1000 ] = 0.431\n",
      "Average Recall     (AR) @[ IoU=0.50:0.95 | area= large | maxDets=1000 ] = 0.747\n"
     ]
    },
    {
     "name": "stderr",
     "output_type": "stream",
     "text": [
      "2021-05-19 22:25:56,483 - mmdet - INFO - Epoch [23][50/655]\tlr: 1.000e-04, eta: 0:40:56, time: 2.003, data_time: 0.051, memory: 5266, loss_cls: 0.3972, loss_bbox: 0.1294, loss_bbox_rf: 0.1646, loss: 0.6913, grad_norm: 2.5900\n",
      "2021-05-19 22:27:34,507 - mmdet - INFO - Epoch [23][100/655]\tlr: 1.000e-04, eta: 0:39:18, time: 1.960, data_time: 0.007, memory: 5266, loss_cls: 0.3814, loss_bbox: 0.1233, loss_bbox_rf: 0.1566, loss: 0.6613, grad_norm: 2.6447\n",
      "2021-05-19 22:29:12,285 - mmdet - INFO - Epoch [23][150/655]\tlr: 1.000e-04, eta: 0:37:41, time: 1.956, data_time: 0.007, memory: 5266, loss_cls: 0.3764, loss_bbox: 0.1215, loss_bbox_rf: 0.1548, loss: 0.6528, grad_norm: 2.3905\n",
      "2021-05-19 22:30:50,236 - mmdet - INFO - Epoch [23][200/655]\tlr: 1.000e-04, eta: 0:36:04, time: 1.959, data_time: 0.007, memory: 5266, loss_cls: 0.3684, loss_bbox: 0.1231, loss_bbox_rf: 0.1564, loss: 0.6479, grad_norm: 2.5752\n",
      "2021-05-19 22:32:28,127 - mmdet - INFO - Epoch [23][250/655]\tlr: 1.000e-04, eta: 0:34:26, time: 1.958, data_time: 0.007, memory: 5266, loss_cls: 0.3778, loss_bbox: 0.1227, loss_bbox_rf: 0.1553, loss: 0.6558, grad_norm: 2.6319\n",
      "2021-05-19 22:34:05,832 - mmdet - INFO - Epoch [23][300/655]\tlr: 1.000e-04, eta: 0:32:49, time: 1.954, data_time: 0.007, memory: 5266, loss_cls: 0.3770, loss_bbox: 0.1256, loss_bbox_rf: 0.1601, loss: 0.6627, grad_norm: 2.4895\n",
      "2021-05-19 22:35:43,583 - mmdet - INFO - Epoch [23][350/655]\tlr: 1.000e-04, eta: 0:31:11, time: 1.955, data_time: 0.007, memory: 5266, loss_cls: 0.3846, loss_bbox: 0.1301, loss_bbox_rf: 0.1658, loss: 0.6806, grad_norm: 2.4908\n",
      "2021-05-19 22:37:21,590 - mmdet - INFO - Epoch [23][400/655]\tlr: 1.000e-04, eta: 0:29:34, time: 1.960, data_time: 0.007, memory: 5266, loss_cls: 0.3810, loss_bbox: 0.1252, loss_bbox_rf: 0.1596, loss: 0.6658, grad_norm: 2.6973\n",
      "2021-05-19 22:38:59,446 - mmdet - INFO - Epoch [23][450/655]\tlr: 1.000e-04, eta: 0:27:56, time: 1.957, data_time: 0.007, memory: 5266, loss_cls: 0.3902, loss_bbox: 0.1254, loss_bbox_rf: 0.1596, loss: 0.6753, grad_norm: 2.5202\n",
      "2021-05-19 22:40:37,264 - mmdet - INFO - Epoch [23][500/655]\tlr: 1.000e-04, eta: 0:26:19, time: 1.956, data_time: 0.007, memory: 5266, loss_cls: 0.3765, loss_bbox: 0.1290, loss_bbox_rf: 0.1649, loss: 0.6704, grad_norm: 2.5247\n",
      "2021-05-19 22:42:15,158 - mmdet - INFO - Epoch [23][550/655]\tlr: 1.000e-04, eta: 0:24:41, time: 1.958, data_time: 0.007, memory: 5266, loss_cls: 0.3808, loss_bbox: 0.1298, loss_bbox_rf: 0.1661, loss: 0.6767, grad_norm: 2.5661\n",
      "2021-05-19 22:43:52,856 - mmdet - INFO - Epoch [23][600/655]\tlr: 1.000e-04, eta: 0:23:04, time: 1.954, data_time: 0.007, memory: 5266, loss_cls: 0.3835, loss_bbox: 0.1306, loss_bbox_rf: 0.1662, loss: 0.6803, grad_norm: 2.4673\n",
      "2021-05-19 22:45:30,752 - mmdet - INFO - Epoch [23][650/655]\tlr: 1.000e-04, eta: 0:21:26, time: 1.958, data_time: 0.007, memory: 5266, loss_cls: 0.4003, loss_bbox: 0.1279, loss_bbox_rf: 0.1636, loss: 0.6919, grad_norm: 2.6773\n",
      "2021-05-19 22:45:40,610 - mmdet - INFO - Saving checkpoint at 23 epochs\n"
     ]
    },
    {
     "name": "stdout",
     "output_type": "stream",
     "text": [
      "[>>>>>>>>>>>>>>>>>>>>>>>>>>>>>>] 655/655, 8.0 task/s, elapsed: 82s, ETA:     0s"
     ]
    },
    {
     "name": "stderr",
     "output_type": "stream",
     "text": [
      "2021-05-19 22:47:05,873 - mmdet - INFO - Evaluating bbox...\n"
     ]
    },
    {
     "name": "stdout",
     "output_type": "stream",
     "text": [
      "Loading and preparing results...\n",
      "DONE (t=0.62s)\n",
      "creating index...\n",
      "index created!\n",
      "Running per image evaluation...\n",
      "Evaluate annotation type *bbox*\n",
      "DONE (t=6.75s).\n",
      "Accumulating evaluation results...\n"
     ]
    },
    {
     "name": "stderr",
     "output_type": "stream",
     "text": [
      "2021-05-19 22:47:14,621 - mmdet - INFO - Epoch(val) [23][655]\tbbox_mAP: 0.2910, bbox_mAP_50: 0.3910, bbox_mAP_75: 0.3020, bbox_mAP_s: 0.0490, bbox_mAP_m: 0.2540, bbox_mAP_l: 0.5220, bbox_mAP_copypaste: 0.291 0.391 0.302 0.049 0.254 0.522\n"
     ]
    },
    {
     "name": "stdout",
     "output_type": "stream",
     "text": [
      "DONE (t=1.27s).\n",
      "Average Precision  (AP) @[ IoU=0.50:0.95 | area=   all | maxDets=100 ] = 0.291\n",
      "Average Precision  (AP) @[ IoU=0.50      | area=   all | maxDets=1000 ] = 0.391\n",
      "Average Precision  (AP) @[ IoU=0.75      | area=   all | maxDets=1000 ] = 0.302\n",
      "Average Precision  (AP) @[ IoU=0.50:0.95 | area= small | maxDets=1000 ] = 0.049\n",
      "Average Precision  (AP) @[ IoU=0.50:0.95 | area=medium | maxDets=1000 ] = 0.254\n",
      "Average Precision  (AP) @[ IoU=0.50:0.95 | area= large | maxDets=1000 ] = 0.522\n",
      "Average Recall     (AR) @[ IoU=0.50:0.95 | area=   all | maxDets=100 ] = 0.457\n",
      "Average Recall     (AR) @[ IoU=0.50:0.95 | area=   all | maxDets=300 ] = 0.457\n",
      "Average Recall     (AR) @[ IoU=0.50:0.95 | area=   all | maxDets=1000 ] = 0.457\n",
      "Average Recall     (AR) @[ IoU=0.50:0.95 | area= small | maxDets=1000 ] = 0.139\n",
      "Average Recall     (AR) @[ IoU=0.50:0.95 | area=medium | maxDets=1000 ] = 0.425\n",
      "Average Recall     (AR) @[ IoU=0.50:0.95 | area= large | maxDets=1000 ] = 0.746\n"
     ]
    },
    {
     "name": "stderr",
     "output_type": "stream",
     "text": [
      "2021-05-19 22:48:54,840 - mmdet - INFO - Epoch [24][50/655]\tlr: 1.000e-04, eta: 0:19:39, time: 2.004, data_time: 0.051, memory: 5266, loss_cls: 0.3893, loss_bbox: 0.1327, loss_bbox_rf: 0.1691, loss: 0.6911, grad_norm: 2.5587\n",
      "2021-05-19 22:50:32,689 - mmdet - INFO - Epoch [24][100/655]\tlr: 1.000e-04, eta: 0:18:01, time: 1.957, data_time: 0.007, memory: 5266, loss_cls: 0.3845, loss_bbox: 0.1256, loss_bbox_rf: 0.1602, loss: 0.6703, grad_norm: 2.4701\n",
      "2021-05-19 22:52:10,464 - mmdet - INFO - Epoch [24][150/655]\tlr: 1.000e-04, eta: 0:16:24, time: 1.955, data_time: 0.007, memory: 5266, loss_cls: 0.3750, loss_bbox: 0.1256, loss_bbox_rf: 0.1599, loss: 0.6605, grad_norm: 2.3577\n",
      "2021-05-19 22:53:48,253 - mmdet - INFO - Epoch [24][200/655]\tlr: 1.000e-04, eta: 0:14:46, time: 1.956, data_time: 0.007, memory: 5266, loss_cls: 0.3495, loss_bbox: 0.1116, loss_bbox_rf: 0.1411, loss: 0.6021, grad_norm: 2.6148\n",
      "2021-05-19 22:55:27,399 - mmdet - INFO - Epoch [24][250/655]\tlr: 1.000e-04, eta: 0:13:09, time: 1.983, data_time: 0.007, memory: 5266, loss_cls: 0.3915, loss_bbox: 0.1299, loss_bbox_rf: 0.1662, loss: 0.6875, grad_norm: 2.4645\n",
      "2021-05-19 22:57:05,433 - mmdet - INFO - Epoch [24][300/655]\tlr: 1.000e-04, eta: 0:11:32, time: 1.961, data_time: 0.007, memory: 5266, loss_cls: 0.3705, loss_bbox: 0.1220, loss_bbox_rf: 0.1552, loss: 0.6478, grad_norm: 2.3523\n",
      "2021-05-19 22:58:43,246 - mmdet - INFO - Epoch [24][350/655]\tlr: 1.000e-04, eta: 0:09:54, time: 1.956, data_time: 0.007, memory: 5266, loss_cls: 0.3713, loss_bbox: 0.1234, loss_bbox_rf: 0.1573, loss: 0.6519, grad_norm: 2.6326\n",
      "2021-05-19 23:00:22,474 - mmdet - INFO - Epoch [24][400/655]\tlr: 1.000e-04, eta: 0:08:17, time: 1.985, data_time: 0.007, memory: 5266, loss_cls: 0.3809, loss_bbox: 0.1279, loss_bbox_rf: 0.1633, loss: 0.6720, grad_norm: 2.6046\n",
      "2021-05-19 23:02:01,711 - mmdet - INFO - Epoch [24][450/655]\tlr: 1.000e-04, eta: 0:06:39, time: 1.985, data_time: 0.007, memory: 5266, loss_cls: 0.3731, loss_bbox: 0.1214, loss_bbox_rf: 0.1539, loss: 0.6485, grad_norm: 2.4543\n",
      "2021-05-19 23:03:39,718 - mmdet - INFO - Epoch [24][500/655]\tlr: 1.000e-04, eta: 0:05:02, time: 1.960, data_time: 0.007, memory: 5266, loss_cls: 0.3956, loss_bbox: 0.1377, loss_bbox_rf: 0.1767, loss: 0.7100, grad_norm: 2.5290\n",
      "2021-05-19 23:05:17,481 - mmdet - INFO - Epoch [24][550/655]\tlr: 1.000e-04, eta: 0:03:24, time: 1.955, data_time: 0.007, memory: 5266, loss_cls: 0.3798, loss_bbox: 0.1217, loss_bbox_rf: 0.1549, loss: 0.6564, grad_norm: 2.6500\n",
      "2021-05-19 23:06:55,660 - mmdet - INFO - Epoch [24][600/655]\tlr: 1.000e-04, eta: 0:01:47, time: 1.964, data_time: 0.007, memory: 5266, loss_cls: 0.3652, loss_bbox: 0.1202, loss_bbox_rf: 0.1531, loss: 0.6386, grad_norm: 2.5583\n",
      "2021-05-19 23:08:33,788 - mmdet - INFO - Epoch [24][650/655]\tlr: 1.000e-04, eta: 0:00:09, time: 1.963, data_time: 0.007, memory: 5266, loss_cls: 0.3827, loss_bbox: 0.1302, loss_bbox_rf: 0.1656, loss: 0.6785, grad_norm: 2.5987\n",
      "2021-05-19 23:08:43,625 - mmdet - INFO - Saving checkpoint at 24 epochs\n"
     ]
    },
    {
     "name": "stdout",
     "output_type": "stream",
     "text": [
      "[>>>>>>>>>>>>>>>>>>>>>>>>>>>>>>] 655/655, 8.1 task/s, elapsed: 81s, ETA:     0s"
     ]
    },
    {
     "name": "stderr",
     "output_type": "stream",
     "text": [
      "2021-05-19 23:10:07,373 - mmdet - INFO - Evaluating bbox...\n"
     ]
    },
    {
     "name": "stdout",
     "output_type": "stream",
     "text": [
      "Loading and preparing results...\n",
      "DONE (t=0.60s)\n",
      "creating index...\n",
      "index created!\n",
      "Running per image evaluation...\n",
      "Evaluate annotation type *bbox*\n",
      "DONE (t=6.82s).\n",
      "Accumulating evaluation results...\n"
     ]
    },
    {
     "name": "stderr",
     "output_type": "stream",
     "text": [
      "2021-05-19 23:10:16,170 - mmdet - INFO - Epoch(val) [24][655]\tbbox_mAP: 0.2920, bbox_mAP_50: 0.3910, bbox_mAP_75: 0.3060, bbox_mAP_s: 0.0490, bbox_mAP_m: 0.2570, bbox_mAP_l: 0.5220, bbox_mAP_copypaste: 0.292 0.391 0.306 0.049 0.257 0.522\n"
     ]
    },
    {
     "name": "stdout",
     "output_type": "stream",
     "text": [
      "DONE (t=1.26s).\n",
      "Average Precision  (AP) @[ IoU=0.50:0.95 | area=   all | maxDets=100 ] = 0.292\n",
      "Average Precision  (AP) @[ IoU=0.50      | area=   all | maxDets=1000 ] = 0.391\n",
      "Average Precision  (AP) @[ IoU=0.75      | area=   all | maxDets=1000 ] = 0.306\n",
      "Average Precision  (AP) @[ IoU=0.50:0.95 | area= small | maxDets=1000 ] = 0.049\n",
      "Average Precision  (AP) @[ IoU=0.50:0.95 | area=medium | maxDets=1000 ] = 0.257\n",
      "Average Precision  (AP) @[ IoU=0.50:0.95 | area= large | maxDets=1000 ] = 0.522\n",
      "Average Recall     (AR) @[ IoU=0.50:0.95 | area=   all | maxDets=100 ] = 0.460\n",
      "Average Recall     (AR) @[ IoU=0.50:0.95 | area=   all | maxDets=300 ] = 0.460\n",
      "Average Recall     (AR) @[ IoU=0.50:0.95 | area=   all | maxDets=1000 ] = 0.460\n",
      "Average Recall     (AR) @[ IoU=0.50:0.95 | area= small | maxDets=1000 ] = 0.141\n",
      "Average Recall     (AR) @[ IoU=0.50:0.95 | area=medium | maxDets=1000 ] = 0.426\n",
      "Average Recall     (AR) @[ IoU=0.50:0.95 | area= large | maxDets=1000 ] = 0.749\n"
     ]
    }
   ],
   "source": [
    "train_detector(model, datasets[0], cfg, distributed=False, validate=True)"
   ]
  },
  {
   "cell_type": "code",
   "execution_count": 12,
   "metadata": {},
   "outputs": [
    {
     "name": "stdout",
     "output_type": "stream",
     "text": [
      "Wed May 19 23:10:17 2021       \n",
      "+-----------------------------------------------------------------------------+\n",
      "| NVIDIA-SMI 418.67       Driver Version: 418.67       CUDA Version: 10.1     |\n",
      "|-------------------------------+----------------------+----------------------+\n",
      "| GPU  Name        Persistence-M| Bus-Id        Disp.A | Volatile Uncorr. ECC |\n",
      "| Fan  Temp  Perf  Pwr:Usage/Cap|         Memory-Usage | GPU-Util  Compute M. |\n",
      "|===============================+======================+======================|\n",
      "|   0  Tesla P40           On   | 00000000:00:05.0 Off |                  Off |\n",
      "| N/A   73C    P0    70W / 250W |   6059MiB / 24451MiB |      0%      Default |\n",
      "+-------------------------------+----------------------+----------------------+\n",
      "                                                                               \n",
      "+-----------------------------------------------------------------------------+\n",
      "| Processes:                                                       GPU Memory |\n",
      "|  GPU       PID   Type   Process name                             Usage      |\n",
      "|=============================================================================|\n",
      "+-----------------------------------------------------------------------------+\n"
     ]
    }
   ],
   "source": [
    "!nvidia-smi"
   ]
  },
  {
   "cell_type": "code",
   "execution_count": null,
   "metadata": {},
   "outputs": [],
   "source": [
    "# push_image(cfg, checkpoint_path, wandb_name=wandb_name, img_num=10, mode=\"val\", wandb_finish=True)"
   ]
  },
  {
   "cell_type": "code",
   "execution_count": null,
   "metadata": {},
   "outputs": [],
   "source": []
  },
  {
   "cell_type": "code",
   "execution_count": null,
   "metadata": {},
   "outputs": [],
   "source": []
  }
 ],
 "metadata": {
  "kernelspec": {
   "display_name": "Python 3",
   "language": "python",
   "name": "python3"
  },
  "language_info": {
   "codemirror_mode": {
    "name": "ipython",
    "version": 3
   },
   "file_extension": ".py",
   "mimetype": "text/x-python",
   "name": "python",
   "nbconvert_exporter": "python",
   "pygments_lexer": "ipython3",
   "version": "3.7.7"
  },
  "pycharm": {
   "stem_cell": {
    "cell_type": "raw",
    "metadata": {
     "collapsed": false
    },
    "source": []
   }
  }
 },
 "nbformat": 4,
 "nbformat_minor": 4
}
