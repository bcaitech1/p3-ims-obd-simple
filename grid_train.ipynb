{
 "cells": [
  {
   "cell_type": "code",
   "execution_count": 1,
   "metadata": {
    "pycharm": {
     "name": "#%%\n"
    }
   },
   "outputs": [],
   "source": [
    "from mmcv import Config\n",
    "from mmdet.datasets import build_dataset\n",
    "from mmdet.models import build_detector\n",
    "from mmdet.apis import train_detector\n",
    "from mmdet.datasets import (build_dataloader, build_dataset,\n",
    "                            replace_ImageToTensor)\n",
    "\n",
    "from itertools import product\n",
    "\n",
    "import torch\n",
    "import wandb\n",
    "import os"
   ]
  },
  {
   "cell_type": "code",
   "execution_count": 2,
   "metadata": {},
   "outputs": [],
   "source": [
    "cfg_dict = {\n",
    "    \"detector\": ['faster_rcnn'],\n",
    "    \"config_name\": [\"mask_rcnn_r50_fpn_1x_coco.py\",\n",
    "                    \"cascade_mask_rcnn_x101_64x4d_fpn_20e_coco.py\",\n",
    "                    \"faster_rcnn_r50_fpn_1x_coco.py\",\n",
    "                    \"cascade_rcnn_x101_64x4d_fpn_20e_coco.py\",\n",
    "                    \"faster_rcnn_r50_fpn_soft_nms_1x_coco.py\",\n",
    "                    \"cascade_mask_rcnn_hrnetv2p_w40_20e_coco.py\"],\n",
    "    # 공통\n",
    "    \"cls_loss\": ['CrossEntropyLoss'],\n",
    "    \"bbox_loss\": ['L1Loss','SmoothL1Loss'],\n",
    "    # mask rcnn\n",
    "    \"mask_loss\": [None],\n",
    "    \n",
    "    # Yolo\n",
    "    \"conf_loss\": [None],\n",
    "    \"xy_loss\": [None],\n",
    "    \"wh_loss\": [None]\n",
    "}\n",
    "\n",
    "cfg_list = [ v for k,v in cfg_dict.items()]"
   ]
  },
  {
   "cell_type": "code",
   "execution_count": 3,
   "metadata": {},
   "outputs": [],
   "source": [
    "def _init_cfg_dataset(cfg):\n",
    "    classes = (\"UNKNOWN\", \"General trash\", \"Paper\", \"Paper pack\", \"Metal\", \"Glass\", \n",
    "                   \"Plastic\", \"Styrofoam\", \"Plastic bag\", \"Battery\", \"Clothing\")\n",
    "    PREFIX = '../../input/data/'\n",
    "    # dataset 바꾸기\n",
    "    cfg.data.train.classes = classes\n",
    "    cfg.data.train.img_prefix = PREFIX\n",
    "    cfg.data.train.ann_file = PREFIX + 'train.json'\n",
    "    cfg.data.train.pipeline[2]['img_scale'] = (512, 512)\n",
    "    cfg.data.val.classes = classes\n",
    "    cfg.data.val.img_prefix = PREFIX\n",
    "    cfg.data.val.ann_file = PREFIX + 'val.json'\n",
    "    cfg.data.val.pipeline[1]['img_scale'] = (512, 512)\n",
    "    cfg.data.test.classes = classes\n",
    "    cfg.data.test.img_prefix = PREFIX\n",
    "    cfg.data.test.ann_file = PREFIX + 'test.json'\n",
    "    cfg.data.test.pipeline[1]['img_scale'] = (512, 512)\n",
    "    \n",
    "    return cfg\n",
    "\n",
    "def _init_cfg_num_classes(cfg,detector):\n",
    "# config head 바꿔주기.\n",
    "    if \"faster_rcnn\" == detector:\n",
    "        cfg.model.roi_head.bbox_head.num_classes = 11\n",
    "    elif \"cascade_rcnn\" == detector:\n",
    "        for di in cfg.model.roi_head.bbox_head:\n",
    "            di.num_classes = 11\n",
    "    \n",
    "    elif \"cascade_mask_rcnn\" == detector:\n",
    "        for i in range(len(cfg.train_pipline)):\n",
    "            if cfg.train_pipeline[i].type == \"LoadAnnotations\":\n",
    "                cfg.train_pipeline[i] = dict(type='LoadAnnotations', with_bbox=True, with_mask=True),\n",
    "            if cfg.train_pipeline[i].type == \"Collect\":\n",
    "                cfg.train_pipeline[i] = dict(type='Collect', keys=['img', 'gt_bboxes', 'gt_labels', 'gt_masks']),\n",
    "                \n",
    "        for di in cfg.model.roi_head.bbox_head:\n",
    "            di.num_classes = 11\n",
    "        cfg.model.roi_head.mask_head.num_classes = 11    \n",
    "    elif \"mask_rcnn\" == detector:\n",
    "        for i in range(len(cfg.train_pipline)):\n",
    "            if cfg.train_pipeline[i].type == \"LoadAnnotations\":\n",
    "                cfg.train_pipeline[i] = dict(type='LoadAnnotations', with_bbox=True, with_mask=True),\n",
    "            if cfg.train_pipeline[i].type == \"Collect\":\n",
    "                cfg.train_pipeline[i] = dict(type='Collect', keys=['img', 'gt_bboxes', 'gt_labels', 'gt_masks']),\n",
    "        cfg.model.roi_head.bbox_head.num_classes = 11\n",
    "        cfg.model.roi_head.mask_head.num_classes = 11\n",
    "    \n",
    "    elif \"yolo\" == detector:\n",
    "        cfg.model.bbox_head.num_classees = 11\n",
    "    return cfg\n",
    "\n",
    "def _init_cfg_losses(cfg,detector,cls_loss=None, bbox_loss=None, mask_loss=None,conf_loss = None,xy_loss = None,wh_loss = None):\n",
    "    # 1stage: yolo\n",
    "    if detector == \"yolo\":\n",
    "        cfg.model.bbox_head.loss_cls['type']  = cls_loss\n",
    "        cfg.model.bbox_head.loss_conf['type']  = conf_loss\n",
    "        cfg.model.bbox_head.loss_xy['type']  = xy_loss\n",
    "        cfg.model.bbox_head.loss_wh['type']  = wh_loss\n",
    "    \n",
    "    # 2stage: faster, mask, cascade rcnn\n",
    "    else:\n",
    "        cfg.model.rpn_head.loss_cls['type']  = cls_loss\n",
    "        cfg.model.rpn_head.loss_bbox['type']  = bbox_loss\n",
    "        \n",
    "        # cascade rcnn는 bbox_head 여러 개\n",
    "        if isinstance(cfg.model.roi_head.bbox_head,list):\n",
    "            for bbox_head in cfg.model.roi_head.bbox_head:\n",
    "                bbox_head.loss_cls['type']  = cls_loss\n",
    "                bbox_head.loss_bbox['type']  = bbox_loss\n",
    "        # 나머지는 bbox_head가 한개\n",
    "        else:\n",
    "            cfg.model.roi_head.bbox_head.loss_cls['type']  = cls_loss\n",
    "            cfg.model.roi_head.bbox_head.loss_bbox['type']  = bbox_loss\n",
    "        if mask_loss is not None:\n",
    "            cfg.model.roi_head.mask_head.loss_mask['type']  = mask_loss\n",
    "    return cfg"
   ]
  },
  {
   "cell_type": "code",
   "execution_count": 4,
   "metadata": {},
   "outputs": [],
   "source": [
    "def grid_train(cfg_list):\n",
    "    for comb in list(product(*cfg_list)):\n",
    "        detector, config_name, cls_loss, bbox_loss, mask_loss, conf_loss, xy_loss, wh_loss  = comb\n",
    "        \n",
    "        if detector != config_name[:len(detector)]:\n",
    "            continue\n",
    "        print('-----------'*10)\n",
    "        print(f'{detector},{config_name} start!!!')\n",
    "        print('-----------'*10)\n",
    "        # config 불러오기.\n",
    "        cfg = Config.fromfile(os.path.join('./configs',detector, config_name))\n",
    "        \n",
    "        cfg = _init_cfg_dataset(cfg)\n",
    "        cfg = _init_cfg_num_classes(cfg,detector)\n",
    "        cfg = _init_cfg_losses(cfg,detector,cls_loss, bbox_loss, mask_loss,conf_loss,xy_loss,wh_loss)\n",
    "        \n",
    "        cfg.data.samples_per_gpu = 4\n",
    "        cfg.seed=2020\n",
    "        cfg.gpu_ids = [0]\n",
    "        cfg.work_dir = os.path.join('./work_dirs',config_name+'trash')\n",
    "        cfg.runner['max_epochs'] = 10\n",
    "        cfg.checkpoint_config['interval'] = 1\n",
    "        # 여기 이름도 원하는 이름으로 바꾸세요\n",
    "        wandb_run_name = f'{config_name}___{cls_loss}__{bbox_loss}__{mask_loss}' if mask_loss is not None else  f'{config_name}___{cls_loss}__{bbox_loss}'\n",
    "        \n",
    "        cfg.log_config.hooks.append(dict(\n",
    "            type='WandbLoggerHook',\n",
    "            init_kwargs=dict(\n",
    "                project=\"Seungwoo\",\n",
    "                name = wandb_run_name\n",
    "                )\n",
    "        ))\n",
    "        \n",
    "        cfg.optimizer_config.grad_clip = dict(max_norm=35, norm_type=2)\n",
    "        cfg.fp16 = dict(loss_scale=512.)\n",
    "\n",
    "        model = build_detector(cfg.model)\n",
    "        \n",
    "        datasets = [build_dataset(cfg.data.train)]\n",
    "        \n",
    "        train_detector(model, datasets[0], cfg, distributed=False, validate=True)\n",
    "        \n",
    "        torch.cuda.empty_cache()\n",
    "    \n",
    "    result = os.system(\"bash del.sh \" + config_name + 'trash')    \n",
    "    \n",
    "    if result == 0:\n",
    "        print(\"성공적으로 지워짐.\")\n",
    "        "
   ]
  },
  {
   "cell_type": "code",
   "execution_count": 5,
   "metadata": {},
   "outputs": [
    {
     "name": "stdout",
     "output_type": "stream",
     "text": [
      "--------------------------------------------------------------------------------------------------------------\n",
      "faster_rcnn,faster_rcnn_r50_fpn_1x_coco.py start!!!\n",
      "--------------------------------------------------------------------------------------------------------------\n"
     ]
    },
    {
     "name": "stderr",
     "output_type": "stream",
     "text": [
      "2021-05-14 10:25:52,442 - mmdet - INFO - load model from: torchvision://resnet50\n",
      "2021-05-14 10:25:52,443 - mmdet - INFO - Use load_from_torchvision loader\n",
      "2021-05-14 10:25:52,681 - mmdet - WARNING - The model and loaded state dict do not match exactly\n",
      "\n",
      "unexpected key in source state_dict: fc.weight, fc.bias\n",
      "\n"
     ]
    },
    {
     "name": "stdout",
     "output_type": "stream",
     "text": [
      "loading annotations into memory...\n",
      "Done (t=3.34s)\n",
      "creating index...\n",
      "index created!\n",
      "loading annotations into memory...\n"
     ]
    },
    {
     "name": "stderr",
     "output_type": "stream",
     "text": [
      "2021-05-14 10:25:59,688 - mmdet - INFO - Start running, host: root@550dc0fe0f09, work_dir: /opt/ml/code/mmdetection_trash/work_dirs/faster_rcnn_r50_fpn_1x_coco.pytrash\n",
      "2021-05-14 10:25:59,688 - mmdet - INFO - workflow: [('train', 1)], max: 10 epochs\n"
     ]
    },
    {
     "name": "stdout",
     "output_type": "stream",
     "text": [
      "Done (t=0.80s)\n",
      "creating index...\n",
      "index created!\n"
     ]
    },
    {
     "name": "stderr",
     "output_type": "stream",
     "text": [
      "/opt/ml/code/mmdetection_trash/mmdet/core/evaluation/eval_hooks.py:111: UserWarning: runner.meta is None. Creating a empty one.\n",
      "  warnings.warn('runner.meta is None. Creating a empty one.')\n",
      "\u001b[34m\u001b[1mwandb\u001b[0m: Currently logged in as: \u001b[33mboostcamp-simple\u001b[0m (use `wandb login --relogin` to force relogin)\n"
     ]
    },
    {
     "data": {
      "text/html": [
       "\n",
       "                Tracking run with wandb version 0.10.30<br/>\n",
       "                Syncing run <strong style=\"color:#cdcd00\">faster_rcnn_r50_fpn_1x_coco.py___CrossEntropyLoss__L1Loss</strong> to <a href=\"https://wandb.ai\" target=\"_blank\">Weights & Biases</a> <a href=\"https://docs.wandb.com/integrations/jupyter.html\" target=\"_blank\">(Documentation)</a>.<br/>\n",
       "                Project page: <a href=\"https://wandb.ai/boostcamp-simple/Seungwoo\" target=\"_blank\">https://wandb.ai/boostcamp-simple/Seungwoo</a><br/>\n",
       "                Run page: <a href=\"https://wandb.ai/boostcamp-simple/Seungwoo/runs/31ptbiw4\" target=\"_blank\">https://wandb.ai/boostcamp-simple/Seungwoo/runs/31ptbiw4</a><br/>\n",
       "                Run data is saved locally in <code>/opt/ml/code/mmdetection_trash/wandb/run-20210514_102600-31ptbiw4</code><br/><br/>\n",
       "            "
      ],
      "text/plain": [
       "<IPython.core.display.HTML object>"
      ]
     },
     "metadata": {},
     "output_type": "display_data"
    },
    {
     "name": "stderr",
     "output_type": "stream",
     "text": [
      "2021-05-14 10:26:21,719 - mmdet - INFO - Epoch [1][50/655]\tlr: 1.978e-03, eta: 0:37:43, time: 0.348, data_time: 0.049, memory: 1496, loss_rpn_cls: 0.5018, loss_rpn_bbox: 0.0780, loss_cls: 0.6147, acc: 89.9189, loss_bbox: 0.1365, loss: 1.3310, grad_norm: 6.4853\n",
      "2021-05-14 10:26:37,278 - mmdet - INFO - Epoch [1][100/655]\tlr: 3.976e-03, eta: 0:35:26, time: 0.311, data_time: 0.006, memory: 1496, loss_rpn_cls: 0.2326, loss_rpn_bbox: 0.0899, loss_cls: 0.4531, acc: 90.4941, loss_bbox: 0.3417, loss: 1.1173, grad_norm: 3.0759\n",
      "2021-05-14 10:26:52,274 - mmdet - INFO - Epoch [1][150/655]\tlr: 5.974e-03, eta: 0:34:06, time: 0.300, data_time: 0.006, memory: 1496, loss_rpn_cls: 0.2189, loss_rpn_bbox: 0.0865, loss_cls: 0.4681, acc: 89.7666, loss_bbox: 0.3762, loss: 1.1497, grad_norm: 3.1589\n",
      "2021-05-14 10:27:07,266 - mmdet - INFO - Epoch [1][200/655]\tlr: 7.972e-03, eta: 0:33:18, time: 0.300, data_time: 0.006, memory: 1496, loss_rpn_cls: 0.1865, loss_rpn_bbox: 0.0831, loss_cls: 0.4508, acc: 89.1514, loss_bbox: 0.4052, loss: 1.1256, grad_norm: 3.2937\n",
      "2021-05-14 10:27:22,851 - mmdet - INFO - Epoch [1][250/655]\tlr: 9.970e-03, eta: 0:32:59, time: 0.312, data_time: 0.006, memory: 1496, loss_rpn_cls: 0.2029, loss_rpn_bbox: 0.0776, loss_cls: 0.4580, acc: 89.9473, loss_bbox: 0.3617, loss: 1.1002, grad_norm: 3.6497\n",
      "2021-05-14 10:27:38,508 - mmdet - INFO - Epoch [1][300/655]\tlr: 1.197e-02, eta: 0:32:42, time: 0.313, data_time: 0.006, memory: 1496, loss_rpn_cls: 0.1773, loss_rpn_bbox: 0.0810, loss_cls: 0.4705, acc: 88.8789, loss_bbox: 0.4082, loss: 1.1370, grad_norm: 2.8517\n",
      "2021-05-14 10:27:53,186 - mmdet - INFO - Epoch [1][350/655]\tlr: 1.397e-02, eta: 0:32:08, time: 0.294, data_time: 0.006, memory: 1496, loss_rpn_cls: 0.1718, loss_rpn_bbox: 0.0723, loss_cls: 0.4490, acc: 89.8311, loss_bbox: 0.3651, loss: 1.0582, grad_norm: 2.7977\n",
      "2021-05-14 10:28:07,916 - mmdet - INFO - Epoch [1][400/655]\tlr: 1.596e-02, eta: 0:31:40, time: 0.295, data_time: 0.006, memory: 1496, loss_rpn_cls: 0.1410, loss_rpn_bbox: 0.0724, loss_cls: 0.4480, acc: 88.7998, loss_bbox: 0.3955, loss: 1.0569, grad_norm: 2.6162\n",
      "2021-05-14 10:28:22,578 - mmdet - INFO - Epoch [1][450/655]\tlr: 1.796e-02, eta: 0:31:14, time: 0.293, data_time: 0.006, memory: 1496, loss_rpn_cls: 0.1539, loss_rpn_bbox: 0.0727, loss_cls: 0.4226, acc: 89.6318, loss_bbox: 0.3758, loss: 1.0250, grad_norm: 2.6536\n",
      "2021-05-14 10:28:37,362 - mmdet - INFO - Epoch [1][500/655]\tlr: 1.996e-02, eta: 0:30:51, time: 0.296, data_time: 0.006, memory: 1496, loss_rpn_cls: 0.1509, loss_rpn_bbox: 0.0825, loss_cls: 0.4872, acc: 87.9160, loss_bbox: 0.4166, loss: 1.1372, grad_norm: 2.8845\n",
      "2021-05-14 10:28:52,183 - mmdet - INFO - Epoch [1][550/655]\tlr: 2.000e-02, eta: 0:30:31, time: 0.296, data_time: 0.006, memory: 1496, loss_rpn_cls: 0.1674, loss_rpn_bbox: 0.0912, loss_cls: 0.4789, acc: 88.0371, loss_bbox: 0.4096, loss: 1.1472, grad_norm: 2.5324\n",
      "2021-05-14 10:29:06,812 - mmdet - INFO - Epoch [1][600/655]\tlr: 2.000e-02, eta: 0:30:09, time: 0.293, data_time: 0.006, memory: 1496, loss_rpn_cls: 0.1570, loss_rpn_bbox: 0.0872, loss_cls: 0.4708, acc: 88.2646, loss_bbox: 0.3965, loss: 1.1115, grad_norm: 2.5528\n",
      "2021-05-14 10:29:21,433 - mmdet - INFO - Epoch [1][650/655]\tlr: 2.000e-02, eta: 0:29:49, time: 0.292, data_time: 0.006, memory: 1496, loss_rpn_cls: 0.1154, loss_rpn_bbox: 0.0699, loss_cls: 0.4657, acc: 88.4297, loss_bbox: 0.3877, loss: 1.0386, grad_norm: 2.1800\n",
      "2021-05-14 10:29:22,926 - mmdet - INFO - Saving checkpoint at 1 epochs\n"
     ]
    },
    {
     "name": "stdout",
     "output_type": "stream",
     "text": [
      "[>>>>>>>>>>>>>>>>>>>>>>>>>>>>>] 655/655, 22.8 task/s, elapsed: 29s, ETA:     0s"
     ]
    },
    {
     "name": "stderr",
     "output_type": "stream",
     "text": [
      "2021-05-14 10:29:54,846 - mmdet - INFO - Evaluating bbox...\n"
     ]
    },
    {
     "name": "stdout",
     "output_type": "stream",
     "text": [
      "Loading and preparing results...\n",
      "DONE (t=0.58s)\n",
      "creating index...\n",
      "index created!\n",
      "Running per image evaluation...\n",
      "Evaluate annotation type *bbox*\n",
      "DONE (t=6.98s).\n",
      "Accumulating evaluation results...\n"
     ]
    },
    {
     "name": "stderr",
     "output_type": "stream",
     "text": [
      "2021-05-14 10:30:03,780 - mmdet - INFO - Now best checkpoint is epoch_1.pth.Best bbox_mAP is 0.0390\n",
      "2021-05-14 10:30:03,786 - mmdet - INFO - Epoch(val) [1][655]\tbbox_mAP: 0.0390, bbox_mAP_50: 0.0880, bbox_mAP_75: 0.0280, bbox_mAP_s: 0.0060, bbox_mAP_m: 0.0370, bbox_mAP_l: 0.0710, bbox_mAP_copypaste: 0.039 0.088 0.028 0.006 0.037 0.071\n"
     ]
    },
    {
     "name": "stdout",
     "output_type": "stream",
     "text": [
      "DONE (t=1.27s).\n",
      "Average Precision  (AP) @[ IoU=0.50:0.95 | area=   all | maxDets=100 ] = 0.039\n",
      "Average Precision  (AP) @[ IoU=0.50      | area=   all | maxDets=1000 ] = 0.088\n",
      "Average Precision  (AP) @[ IoU=0.75      | area=   all | maxDets=1000 ] = 0.028\n",
      "Average Precision  (AP) @[ IoU=0.50:0.95 | area= small | maxDets=1000 ] = 0.006\n",
      "Average Precision  (AP) @[ IoU=0.50:0.95 | area=medium | maxDets=1000 ] = 0.037\n",
      "Average Precision  (AP) @[ IoU=0.50:0.95 | area= large | maxDets=1000 ] = 0.071\n",
      "Average Recall     (AR) @[ IoU=0.50:0.95 | area=   all | maxDets=100 ] = 0.117\n",
      "Average Recall     (AR) @[ IoU=0.50:0.95 | area=   all | maxDets=300 ] = 0.117\n",
      "Average Recall     (AR) @[ IoU=0.50:0.95 | area=   all | maxDets=1000 ] = 0.117\n",
      "Average Recall     (AR) @[ IoU=0.50:0.95 | area= small | maxDets=1000 ] = 0.026\n",
      "Average Recall     (AR) @[ IoU=0.50:0.95 | area=medium | maxDets=1000 ] = 0.099\n",
      "Average Recall     (AR) @[ IoU=0.50:0.95 | area= large | maxDets=1000 ] = 0.246\n"
     ]
    },
    {
     "name": "stderr",
     "output_type": "stream",
     "text": [
      "2021-05-14 10:30:20,692 - mmdet - INFO - Epoch [2][50/655]\tlr: 2.000e-02, eta: 0:29:34, time: 0.338, data_time: 0.049, memory: 1496, loss_rpn_cls: 0.1083, loss_rpn_bbox: 0.0641, loss_cls: 0.4465, acc: 88.8232, loss_bbox: 0.3716, loss: 0.9905, grad_norm: 2.4155\n",
      "2021-05-14 10:30:35,374 - mmdet - INFO - Epoch [2][100/655]\tlr: 2.000e-02, eta: 0:29:15, time: 0.294, data_time: 0.006, memory: 1496, loss_rpn_cls: 0.1228, loss_rpn_bbox: 0.0756, loss_cls: 0.4425, acc: 88.7520, loss_bbox: 0.3703, loss: 1.0112, grad_norm: 2.2178\n",
      "2021-05-14 10:30:49,954 - mmdet - INFO - Epoch [2][150/655]\tlr: 2.000e-02, eta: 0:28:56, time: 0.292, data_time: 0.006, memory: 1496, loss_rpn_cls: 0.1403, loss_rpn_bbox: 0.0702, loss_cls: 0.4610, acc: 88.4014, loss_bbox: 0.3829, loss: 1.0545, grad_norm: 2.2884\n",
      "2021-05-14 10:31:04,426 - mmdet - INFO - Epoch [2][200/655]\tlr: 2.000e-02, eta: 0:28:36, time: 0.289, data_time: 0.006, memory: 1496, loss_rpn_cls: 0.1066, loss_rpn_bbox: 0.0683, loss_cls: 0.4257, acc: 88.8936, loss_bbox: 0.3617, loss: 0.9623, grad_norm: 2.0663\n",
      "2021-05-14 10:31:18,974 - mmdet - INFO - Epoch [2][250/655]\tlr: 2.000e-02, eta: 0:28:18, time: 0.291, data_time: 0.006, memory: 1496, loss_rpn_cls: 0.1101, loss_rpn_bbox: 0.0637, loss_cls: 0.4154, acc: 88.9932, loss_bbox: 0.3545, loss: 0.9438, grad_norm: 2.1647\n",
      "2021-05-14 10:31:33,705 - mmdet - INFO - Epoch [2][300/655]\tlr: 2.000e-02, eta: 0:28:01, time: 0.295, data_time: 0.006, memory: 1496, loss_rpn_cls: 0.1172, loss_rpn_bbox: 0.0794, loss_cls: 0.4218, acc: 88.5977, loss_bbox: 0.3738, loss: 0.9922, grad_norm: 2.1140\n",
      "2021-05-14 10:31:48,199 - mmdet - INFO - Epoch [2][350/655]\tlr: 2.000e-02, eta: 0:27:43, time: 0.290, data_time: 0.006, memory: 1496, loss_rpn_cls: 0.1060, loss_rpn_bbox: 0.0697, loss_cls: 0.4265, acc: 88.3262, loss_bbox: 0.3896, loss: 0.9919, grad_norm: 2.1484\n",
      "2021-05-14 10:32:02,618 - mmdet - INFO - Epoch [2][400/655]\tlr: 2.000e-02, eta: 0:27:25, time: 0.288, data_time: 0.006, memory: 1496, loss_rpn_cls: 0.0991, loss_rpn_bbox: 0.0783, loss_cls: 0.4118, acc: 88.6396, loss_bbox: 0.3719, loss: 0.9611, grad_norm: 2.0550\n",
      "2021-05-14 10:32:17,516 - mmdet - INFO - Epoch [2][450/655]\tlr: 2.000e-02, eta: 0:27:10, time: 0.298, data_time: 0.006, memory: 1496, loss_rpn_cls: 0.1051, loss_rpn_bbox: 0.0711, loss_cls: 0.4075, acc: 88.5908, loss_bbox: 0.3816, loss: 0.9653, grad_norm: 2.2682\n",
      "2021-05-14 10:32:32,042 - mmdet - INFO - Epoch [2][500/655]\tlr: 2.000e-02, eta: 0:26:53, time: 0.291, data_time: 0.006, memory: 1496, loss_rpn_cls: 0.1242, loss_rpn_bbox: 0.0786, loss_cls: 0.4455, acc: 88.0049, loss_bbox: 0.3954, loss: 1.0436, grad_norm: 2.4906\n",
      "2021-05-14 10:32:46,531 - mmdet - INFO - Epoch [2][550/655]\tlr: 2.000e-02, eta: 0:26:36, time: 0.290, data_time: 0.006, memory: 1496, loss_rpn_cls: 0.1014, loss_rpn_bbox: 0.0627, loss_cls: 0.4021, acc: 89.1064, loss_bbox: 0.3454, loss: 0.9117, grad_norm: 2.1207\n",
      "2021-05-14 10:33:01,370 - mmdet - INFO - Epoch [2][600/655]\tlr: 2.000e-02, eta: 0:26:20, time: 0.297, data_time: 0.006, memory: 1496, loss_rpn_cls: 0.0967, loss_rpn_bbox: 0.0671, loss_cls: 0.4122, acc: 88.4443, loss_bbox: 0.3683, loss: 0.9443, grad_norm: 2.0480\n",
      "2021-05-14 10:33:15,919 - mmdet - INFO - Epoch [2][650/655]\tlr: 2.000e-02, eta: 0:26:04, time: 0.291, data_time: 0.006, memory: 1496, loss_rpn_cls: 0.0939, loss_rpn_bbox: 0.0559, loss_cls: 0.3709, acc: 89.6514, loss_bbox: 0.3257, loss: 0.8463, grad_norm: 2.1796\n",
      "2021-05-14 10:33:17,459 - mmdet - INFO - Saving checkpoint at 2 epochs\n"
     ]
    },
    {
     "name": "stdout",
     "output_type": "stream",
     "text": [
      "[>>>>>>>>>>>>>>>>>>>>>>>>>>>>>] 655/655, 22.5 task/s, elapsed: 29s, ETA:     0s"
     ]
    },
    {
     "name": "stderr",
     "output_type": "stream",
     "text": [
      "2021-05-14 10:33:49,491 - mmdet - INFO - Evaluating bbox...\n"
     ]
    },
    {
     "name": "stdout",
     "output_type": "stream",
     "text": [
      "Loading and preparing results...\n",
      "DONE (t=0.57s)\n",
      "creating index...\n",
      "index created!\n",
      "Running per image evaluation...\n",
      "Evaluate annotation type *bbox*\n",
      "DONE (t=6.34s).\n",
      "Accumulating evaluation results...\n"
     ]
    },
    {
     "name": "stderr",
     "output_type": "stream",
     "text": [
      "2021-05-14 10:33:57,458 - mmdet - INFO - Now best checkpoint is epoch_2.pth.Best bbox_mAP is 0.0590\n",
      "2021-05-14 10:33:57,463 - mmdet - INFO - Epoch(val) [2][655]\tbbox_mAP: 0.0590, bbox_mAP_50: 0.1210, bbox_mAP_75: 0.0530, bbox_mAP_s: 0.0200, bbox_mAP_m: 0.0570, bbox_mAP_l: 0.1080, bbox_mAP_copypaste: 0.059 0.121 0.053 0.020 0.057 0.108\n"
     ]
    },
    {
     "name": "stdout",
     "output_type": "stream",
     "text": [
      "DONE (t=0.98s).\n",
      "Average Precision  (AP) @[ IoU=0.50:0.95 | area=   all | maxDets=100 ] = 0.059\n",
      "Average Precision  (AP) @[ IoU=0.50      | area=   all | maxDets=1000 ] = 0.121\n",
      "Average Precision  (AP) @[ IoU=0.75      | area=   all | maxDets=1000 ] = 0.053\n",
      "Average Precision  (AP) @[ IoU=0.50:0.95 | area= small | maxDets=1000 ] = 0.020\n",
      "Average Precision  (AP) @[ IoU=0.50:0.95 | area=medium | maxDets=1000 ] = 0.057\n",
      "Average Precision  (AP) @[ IoU=0.50:0.95 | area= large | maxDets=1000 ] = 0.108\n",
      "Average Recall     (AR) @[ IoU=0.50:0.95 | area=   all | maxDets=100 ] = 0.148\n",
      "Average Recall     (AR) @[ IoU=0.50:0.95 | area=   all | maxDets=300 ] = 0.148\n",
      "Average Recall     (AR) @[ IoU=0.50:0.95 | area=   all | maxDets=1000 ] = 0.148\n",
      "Average Recall     (AR) @[ IoU=0.50:0.95 | area= small | maxDets=1000 ] = 0.037\n",
      "Average Recall     (AR) @[ IoU=0.50:0.95 | area=medium | maxDets=1000 ] = 0.137\n",
      "Average Recall     (AR) @[ IoU=0.50:0.95 | area= large | maxDets=1000 ] = 0.292\n"
     ]
    },
    {
     "name": "stderr",
     "output_type": "stream",
     "text": [
      "2021-05-14 10:34:14,190 - mmdet - INFO - Epoch [3][50/655]\tlr: 2.000e-02, eta: 0:25:49, time: 0.334, data_time: 0.049, memory: 1496, loss_rpn_cls: 0.0942, loss_rpn_bbox: 0.0705, loss_cls: 0.3981, acc: 88.6719, loss_bbox: 0.3672, loss: 0.9300, grad_norm: 2.0227\n",
      "2021-05-14 10:34:28,784 - mmdet - INFO - Epoch [3][100/655]\tlr: 2.000e-02, eta: 0:25:33, time: 0.292, data_time: 0.006, memory: 1496, loss_rpn_cls: 0.0938, loss_rpn_bbox: 0.0712, loss_cls: 0.4077, acc: 89.1201, loss_bbox: 0.3552, loss: 0.9279, grad_norm: 2.1297\n",
      "2021-05-14 10:34:43,331 - mmdet - INFO - Epoch [3][150/655]\tlr: 2.000e-02, eta: 0:25:16, time: 0.291, data_time: 0.006, memory: 1496, loss_rpn_cls: 0.0908, loss_rpn_bbox: 0.0671, loss_cls: 0.3955, acc: 88.9014, loss_bbox: 0.3558, loss: 0.9093, grad_norm: 2.0144\n",
      "2021-05-14 10:34:57,892 - mmdet - INFO - Epoch [3][200/655]\tlr: 2.000e-02, eta: 0:25:00, time: 0.291, data_time: 0.006, memory: 1496, loss_rpn_cls: 0.0893, loss_rpn_bbox: 0.0560, loss_cls: 0.3778, acc: 89.5449, loss_bbox: 0.3294, loss: 0.8525, grad_norm: 2.0985\n",
      "2021-05-14 10:35:12,608 - mmdet - INFO - Epoch [3][250/655]\tlr: 2.000e-02, eta: 0:24:45, time: 0.294, data_time: 0.006, memory: 1496, loss_rpn_cls: 0.0904, loss_rpn_bbox: 0.0677, loss_cls: 0.4274, acc: 87.8643, loss_bbox: 0.3980, loss: 0.9835, grad_norm: 2.1815\n",
      "2021-05-14 10:35:27,103 - mmdet - INFO - Epoch [3][300/655]\tlr: 2.000e-02, eta: 0:24:29, time: 0.290, data_time: 0.006, memory: 1496, loss_rpn_cls: 0.0844, loss_rpn_bbox: 0.0612, loss_cls: 0.4196, acc: 88.2148, loss_bbox: 0.3774, loss: 0.9425, grad_norm: 2.2060\n",
      "2021-05-14 10:35:41,937 - mmdet - INFO - Epoch [3][350/655]\tlr: 2.000e-02, eta: 0:24:14, time: 0.297, data_time: 0.006, memory: 1496, loss_rpn_cls: 0.0941, loss_rpn_bbox: 0.0706, loss_cls: 0.4192, acc: 88.5723, loss_bbox: 0.3641, loss: 0.9479, grad_norm: 2.1551\n",
      "2021-05-14 10:35:56,601 - mmdet - INFO - Epoch [3][400/655]\tlr: 2.000e-02, eta: 0:23:58, time: 0.293, data_time: 0.006, memory: 1496, loss_rpn_cls: 0.0788, loss_rpn_bbox: 0.0626, loss_cls: 0.3654, acc: 89.9600, loss_bbox: 0.3181, loss: 0.8249, grad_norm: 2.1491\n",
      "2021-05-14 10:36:11,325 - mmdet - INFO - Epoch [3][450/655]\tlr: 2.000e-02, eta: 0:23:43, time: 0.294, data_time: 0.006, memory: 1496, loss_rpn_cls: 0.1187, loss_rpn_bbox: 0.0605, loss_cls: 0.3888, acc: 89.6260, loss_bbox: 0.3206, loss: 0.8885, grad_norm: 2.4102\n",
      "2021-05-14 10:36:25,942 - mmdet - INFO - Epoch [3][500/655]\tlr: 2.000e-02, eta: 0:23:28, time: 0.292, data_time: 0.006, memory: 1496, loss_rpn_cls: 0.0802, loss_rpn_bbox: 0.0582, loss_cls: 0.3956, acc: 88.6699, loss_bbox: 0.3445, loss: 0.8784, grad_norm: 2.1308\n",
      "2021-05-14 10:38:07,328 - mmdet - INFO - Epoch [4][50/655]\tlr: 2.000e-02, eta: 0:22:26, time: 0.335, data_time: 0.049, memory: 1496, loss_rpn_cls: 0.0686, loss_rpn_bbox: 0.0557, loss_cls: 0.3857, acc: 88.9492, loss_bbox: 0.3568, loss: 0.8669, grad_norm: 1.9964\n",
      "2021-05-14 10:38:21,810 - mmdet - INFO - Epoch [4][100/655]\tlr: 2.000e-02, eta: 0:22:10, time: 0.290, data_time: 0.006, memory: 1496, loss_rpn_cls: 0.0829, loss_rpn_bbox: 0.0589, loss_cls: 0.3526, acc: 90.1846, loss_bbox: 0.3237, loss: 0.8181, grad_norm: 2.0678\n",
      "2021-05-14 10:38:36,369 - mmdet - INFO - Epoch [4][150/655]\tlr: 2.000e-02, eta: 0:21:55, time: 0.291, data_time: 0.006, memory: 1496, loss_rpn_cls: 0.0869, loss_rpn_bbox: 0.0638, loss_cls: 0.3993, acc: 88.4424, loss_bbox: 0.3589, loss: 0.9090, grad_norm: 2.1324\n",
      "2021-05-14 10:38:50,985 - mmdet - INFO - Epoch [4][200/655]\tlr: 2.000e-02, eta: 0:21:39, time: 0.292, data_time: 0.006, memory: 1496, loss_rpn_cls: 0.0733, loss_rpn_bbox: 0.0602, loss_cls: 0.3693, acc: 89.2314, loss_bbox: 0.3419, loss: 0.8448, grad_norm: 1.9708\n",
      "2021-05-14 10:39:05,654 - mmdet - INFO - Epoch [4][250/655]\tlr: 2.000e-02, eta: 0:21:24, time: 0.293, data_time: 0.006, memory: 1496, loss_rpn_cls: 0.0924, loss_rpn_bbox: 0.0685, loss_cls: 0.4136, acc: 88.4521, loss_bbox: 0.3665, loss: 0.9410, grad_norm: 2.2607\n",
      "2021-05-14 10:39:20,600 - mmdet - INFO - Epoch [4][300/655]\tlr: 2.000e-02, eta: 0:21:10, time: 0.299, data_time: 0.006, memory: 1496, loss_rpn_cls: 0.0733, loss_rpn_bbox: 0.0583, loss_cls: 0.3714, acc: 89.5488, loss_bbox: 0.3334, loss: 0.8364, grad_norm: 2.0382\n",
      "2021-05-14 10:39:35,381 - mmdet - INFO - Epoch [4][350/655]\tlr: 2.000e-02, eta: 0:20:55, time: 0.296, data_time: 0.006, memory: 1496, loss_rpn_cls: 0.0865, loss_rpn_bbox: 0.0602, loss_cls: 0.3998, acc: 88.6865, loss_bbox: 0.3388, loss: 0.8853, grad_norm: 2.2623\n",
      "2021-05-14 10:39:50,018 - mmdet - INFO - Epoch [4][400/655]\tlr: 2.000e-02, eta: 0:20:40, time: 0.293, data_time: 0.006, memory: 1496, loss_rpn_cls: 0.0744, loss_rpn_bbox: 0.0537, loss_cls: 0.3591, acc: 90.0029, loss_bbox: 0.3118, loss: 0.7990, grad_norm: 2.0153\n",
      "2021-05-14 10:40:04,563 - mmdet - INFO - Epoch [4][450/655]\tlr: 2.000e-02, eta: 0:20:24, time: 0.291, data_time: 0.006, memory: 1496, loss_rpn_cls: 0.0806, loss_rpn_bbox: 0.0607, loss_cls: 0.3765, acc: 89.6836, loss_bbox: 0.3194, loss: 0.8372, grad_norm: 2.1392\n",
      "2021-05-14 10:40:19,537 - mmdet - INFO - Epoch [4][500/655]\tlr: 2.000e-02, eta: 0:20:10, time: 0.299, data_time: 0.007, memory: 1496, loss_rpn_cls: 0.0797, loss_rpn_bbox: 0.0599, loss_cls: 0.3870, acc: 88.9297, loss_bbox: 0.3495, loss: 0.8760, grad_norm: 2.0805\n",
      "2021-05-14 10:40:34,221 - mmdet - INFO - Epoch [4][550/655]\tlr: 2.000e-02, eta: 0:19:55, time: 0.294, data_time: 0.006, memory: 1496, loss_rpn_cls: 0.0700, loss_rpn_bbox: 0.0608, loss_cls: 0.3683, acc: 89.5000, loss_bbox: 0.3225, loss: 0.8216, grad_norm: 2.0656\n",
      "2021-05-14 10:40:48,836 - mmdet - INFO - Epoch [4][600/655]\tlr: 2.000e-02, eta: 0:19:40, time: 0.292, data_time: 0.006, memory: 1496, loss_rpn_cls: 0.0877, loss_rpn_bbox: 0.0654, loss_cls: 0.3535, acc: 89.7871, loss_bbox: 0.3260, loss: 0.8327, grad_norm: 2.0591\n",
      "2021-05-14 10:41:03,397 - mmdet - INFO - Epoch [4][650/655]\tlr: 2.000e-02, eta: 0:19:25, time: 0.291, data_time: 0.006, memory: 1496, loss_rpn_cls: 0.0839, loss_rpn_bbox: 0.0673, loss_cls: 0.3950, acc: 88.7139, loss_bbox: 0.3487, loss: 0.8949, grad_norm: 2.1408\n",
      "2021-05-14 10:41:04,883 - mmdet - INFO - Saving checkpoint at 4 epochs\n"
     ]
    },
    {
     "name": "stdout",
     "output_type": "stream",
     "text": [
      "[>>>>>>>>>>>>>>>>>>>>>>>>>>>>>] 655/655, 22.5 task/s, elapsed: 29s, ETA:     0s"
     ]
    },
    {
     "name": "stderr",
     "output_type": "stream",
     "text": [
      "2021-05-14 10:41:37,036 - mmdet - INFO - Evaluating bbox...\n"
     ]
    },
    {
     "name": "stdout",
     "output_type": "stream",
     "text": [
      "Loading and preparing results...\n",
      "DONE (t=0.58s)\n",
      "creating index...\n",
      "index created!\n",
      "Running per image evaluation...\n",
      "Evaluate annotation type *bbox*\n",
      "DONE (t=6.35s).\n",
      "Accumulating evaluation results...\n"
     ]
    },
    {
     "name": "stderr",
     "output_type": "stream",
     "text": [
      "2021-05-14 10:41:45,186 - mmdet - INFO - Now best checkpoint is epoch_4.pth.Best bbox_mAP is 0.0820\n",
      "2021-05-14 10:41:45,192 - mmdet - INFO - Epoch(val) [4][655]\tbbox_mAP: 0.0820, bbox_mAP_50: 0.1660, bbox_mAP_75: 0.0740, bbox_mAP_s: 0.0210, bbox_mAP_m: 0.0860, bbox_mAP_l: 0.1530, bbox_mAP_copypaste: 0.082 0.166 0.074 0.021 0.086 0.153\n"
     ]
    },
    {
     "name": "stdout",
     "output_type": "stream",
     "text": [
      "DONE (t=1.12s).\n",
      "Average Precision  (AP) @[ IoU=0.50:0.95 | area=   all | maxDets=100 ] = 0.082\n",
      "Average Precision  (AP) @[ IoU=0.50      | area=   all | maxDets=1000 ] = 0.166\n",
      "Average Precision  (AP) @[ IoU=0.75      | area=   all | maxDets=1000 ] = 0.074\n",
      "Average Precision  (AP) @[ IoU=0.50:0.95 | area= small | maxDets=1000 ] = 0.021\n",
      "Average Precision  (AP) @[ IoU=0.50:0.95 | area=medium | maxDets=1000 ] = 0.086\n",
      "Average Precision  (AP) @[ IoU=0.50:0.95 | area= large | maxDets=1000 ] = 0.153\n",
      "Average Recall     (AR) @[ IoU=0.50:0.95 | area=   all | maxDets=100 ] = 0.205\n",
      "Average Recall     (AR) @[ IoU=0.50:0.95 | area=   all | maxDets=300 ] = 0.205\n",
      "Average Recall     (AR) @[ IoU=0.50:0.95 | area=   all | maxDets=1000 ] = 0.205\n",
      "Average Recall     (AR) @[ IoU=0.50:0.95 | area= small | maxDets=1000 ] = 0.064\n",
      "Average Recall     (AR) @[ IoU=0.50:0.95 | area=medium | maxDets=1000 ] = 0.193\n",
      "Average Recall     (AR) @[ IoU=0.50:0.95 | area= large | maxDets=1000 ] = 0.379\n"
     ]
    },
    {
     "name": "stderr",
     "output_type": "stream",
     "text": [
      "2021-05-14 10:42:01,975 - mmdet - INFO - Epoch [5][50/655]\tlr: 2.000e-02, eta: 0:19:09, time: 0.335, data_time: 0.050, memory: 1496, loss_rpn_cls: 0.0771, loss_rpn_bbox: 0.0627, loss_cls: 0.3632, acc: 89.2168, loss_bbox: 0.3292, loss: 0.8321, grad_norm: 2.0937\n",
      "2021-05-14 10:42:16,650 - mmdet - INFO - Epoch [5][100/655]\tlr: 2.000e-02, eta: 0:18:54, time: 0.293, data_time: 0.006, memory: 1496, loss_rpn_cls: 0.0734, loss_rpn_bbox: 0.0596, loss_cls: 0.3548, acc: 89.6670, loss_bbox: 0.3303, loss: 0.8181, grad_norm: 2.0587\n",
      "2021-05-14 10:42:31,167 - mmdet - INFO - Epoch [5][150/655]\tlr: 2.000e-02, eta: 0:18:39, time: 0.290, data_time: 0.006, memory: 1496, loss_rpn_cls: 0.0708, loss_rpn_bbox: 0.0610, loss_cls: 0.3873, acc: 89.1475, loss_bbox: 0.3510, loss: 0.8702, grad_norm: 2.1271\n",
      "2021-05-14 10:42:45,718 - mmdet - INFO - Epoch [5][200/655]\tlr: 2.000e-02, eta: 0:18:24, time: 0.291, data_time: 0.006, memory: 1496, loss_rpn_cls: 0.0647, loss_rpn_bbox: 0.0552, loss_cls: 0.3441, acc: 89.8496, loss_bbox: 0.3203, loss: 0.7843, grad_norm: 2.0527\n",
      "2021-05-14 10:43:00,505 - mmdet - INFO - Epoch [5][250/655]\tlr: 2.000e-02, eta: 0:18:09, time: 0.296, data_time: 0.006, memory: 1496, loss_rpn_cls: 0.0737, loss_rpn_bbox: 0.0672, loss_cls: 0.4286, acc: 87.9023, loss_bbox: 0.3785, loss: 0.9480, grad_norm: 2.2214\n",
      "2021-05-14 10:43:15,389 - mmdet - INFO - Epoch [5][300/655]\tlr: 2.000e-02, eta: 0:17:54, time: 0.298, data_time: 0.006, memory: 1496, loss_rpn_cls: 0.0709, loss_rpn_bbox: 0.0646, loss_cls: 0.3665, acc: 89.2705, loss_bbox: 0.3380, loss: 0.8399, grad_norm: 2.1124\n",
      "2021-05-14 10:43:29,918 - mmdet - INFO - Epoch [5][350/655]\tlr: 2.000e-02, eta: 0:17:39, time: 0.291, data_time: 0.006, memory: 1496, loss_rpn_cls: 0.0780, loss_rpn_bbox: 0.0501, loss_cls: 0.3444, acc: 90.2998, loss_bbox: 0.3001, loss: 0.7726, grad_norm: 2.1300\n",
      "2021-05-14 10:43:44,288 - mmdet - INFO - Epoch [5][400/655]\tlr: 2.000e-02, eta: 0:17:24, time: 0.287, data_time: 0.006, memory: 1496, loss_rpn_cls: 0.0822, loss_rpn_bbox: 0.0571, loss_cls: 0.3463, acc: 90.3096, loss_bbox: 0.2915, loss: 0.7772, grad_norm: 2.1627\n",
      "2021-05-14 10:43:58,866 - mmdet - INFO - Epoch [5][450/655]\tlr: 2.000e-02, eta: 0:17:09, time: 0.292, data_time: 0.006, memory: 1496, loss_rpn_cls: 0.0827, loss_rpn_bbox: 0.0627, loss_cls: 0.3630, acc: 89.6055, loss_bbox: 0.3293, loss: 0.8378, grad_norm: 2.1238\n",
      "2021-05-14 10:44:13,629 - mmdet - INFO - Epoch [5][500/655]\tlr: 2.000e-02, eta: 0:16:54, time: 0.295, data_time: 0.006, memory: 1496, loss_rpn_cls: 0.0604, loss_rpn_bbox: 0.0500, loss_cls: 0.3237, acc: 90.5371, loss_bbox: 0.2848, loss: 0.7189, grad_norm: 1.9501\n",
      "2021-05-14 10:44:28,200 - mmdet - INFO - Epoch [5][550/655]\tlr: 2.000e-02, eta: 0:16:39, time: 0.291, data_time: 0.006, memory: 1496, loss_rpn_cls: 0.0938, loss_rpn_bbox: 0.0647, loss_cls: 0.3844, acc: 89.1406, loss_bbox: 0.3418, loss: 0.8847, grad_norm: 2.2808\n",
      "2021-05-14 10:44:42,615 - mmdet - INFO - Epoch [5][600/655]\tlr: 2.000e-02, eta: 0:16:24, time: 0.288, data_time: 0.006, memory: 1496, loss_rpn_cls: 0.0718, loss_rpn_bbox: 0.0539, loss_cls: 0.3518, acc: 89.7344, loss_bbox: 0.3172, loss: 0.7947, grad_norm: 2.1244\n",
      "2021-05-14 10:44:57,069 - mmdet - INFO - Epoch [5][650/655]\tlr: 2.000e-02, eta: 0:16:09, time: 0.289, data_time: 0.006, memory: 1496, loss_rpn_cls: 0.0772, loss_rpn_bbox: 0.0596, loss_cls: 0.3474, acc: 90.0400, loss_bbox: 0.3116, loss: 0.7958, grad_norm: 1.9873\n",
      "2021-05-14 10:44:58,615 - mmdet - INFO - Saving checkpoint at 5 epochs\n"
     ]
    },
    {
     "name": "stdout",
     "output_type": "stream",
     "text": [
      "[>>>>>>>>>>>>>>>>>>>>>>>>>>>>>] 655/655, 23.3 task/s, elapsed: 28s, ETA:     0s"
     ]
    },
    {
     "name": "stderr",
     "output_type": "stream",
     "text": [
      "2021-05-14 10:45:28,628 - mmdet - INFO - Evaluating bbox...\n"
     ]
    },
    {
     "name": "stdout",
     "output_type": "stream",
     "text": [
      "Loading and preparing results...\n",
      "DONE (t=0.59s)\n",
      "creating index...\n",
      "index created!\n",
      "Running per image evaluation...\n",
      "Evaluate annotation type *bbox*\n",
      "DONE (t=7.28s).\n",
      "Accumulating evaluation results...\n"
     ]
    },
    {
     "name": "stderr",
     "output_type": "stream",
     "text": [
      "2021-05-14 10:45:37,601 - mmdet - INFO - Now best checkpoint is epoch_5.pth.Best bbox_mAP is 0.0950\n",
      "2021-05-14 10:45:37,607 - mmdet - INFO - Epoch(val) [5][655]\tbbox_mAP: 0.0950, bbox_mAP_50: 0.1770, bbox_mAP_75: 0.0920, bbox_mAP_s: 0.0210, bbox_mAP_m: 0.1060, bbox_mAP_l: 0.1810, bbox_mAP_copypaste: 0.095 0.177 0.092 0.021 0.106 0.181\n"
     ]
    },
    {
     "name": "stdout",
     "output_type": "stream",
     "text": [
      "DONE (t=1.01s).\n",
      "Average Precision  (AP) @[ IoU=0.50:0.95 | area=   all | maxDets=100 ] = 0.095\n",
      "Average Precision  (AP) @[ IoU=0.50      | area=   all | maxDets=1000 ] = 0.177\n",
      "Average Precision  (AP) @[ IoU=0.75      | area=   all | maxDets=1000 ] = 0.092\n",
      "Average Precision  (AP) @[ IoU=0.50:0.95 | area= small | maxDets=1000 ] = 0.021\n",
      "Average Precision  (AP) @[ IoU=0.50:0.95 | area=medium | maxDets=1000 ] = 0.106\n",
      "Average Precision  (AP) @[ IoU=0.50:0.95 | area= large | maxDets=1000 ] = 0.181\n",
      "Average Recall     (AR) @[ IoU=0.50:0.95 | area=   all | maxDets=100 ] = 0.211\n",
      "Average Recall     (AR) @[ IoU=0.50:0.95 | area=   all | maxDets=300 ] = 0.211\n",
      "Average Recall     (AR) @[ IoU=0.50:0.95 | area=   all | maxDets=1000 ] = 0.211\n",
      "Average Recall     (AR) @[ IoU=0.50:0.95 | area= small | maxDets=1000 ] = 0.064\n",
      "Average Recall     (AR) @[ IoU=0.50:0.95 | area=medium | maxDets=1000 ] = 0.213\n",
      "Average Recall     (AR) @[ IoU=0.50:0.95 | area= large | maxDets=1000 ] = 0.370\n"
     ]
    },
    {
     "name": "stderr",
     "output_type": "stream",
     "text": [
      "2021-05-14 10:45:54,493 - mmdet - INFO - Epoch [6][50/655]\tlr: 2.000e-02, eta: 0:15:53, time: 0.338, data_time: 0.049, memory: 1496, loss_rpn_cls: 0.0627, loss_rpn_bbox: 0.0612, loss_cls: 0.3566, acc: 89.4932, loss_bbox: 0.3346, loss: 0.8150, grad_norm: 2.1254\n",
      "2021-05-14 10:46:09,396 - mmdet - INFO - Epoch [6][100/655]\tlr: 2.000e-02, eta: 0:15:38, time: 0.298, data_time: 0.006, memory: 1496, loss_rpn_cls: 0.0576, loss_rpn_bbox: 0.0578, loss_cls: 0.3431, acc: 89.9023, loss_bbox: 0.3042, loss: 0.7626, grad_norm: 1.9745\n",
      "2021-05-14 10:46:24,041 - mmdet - INFO - Epoch [6][150/655]\tlr: 2.000e-02, eta: 0:15:23, time: 0.293, data_time: 0.006, memory: 1496, loss_rpn_cls: 0.0591, loss_rpn_bbox: 0.0545, loss_cls: 0.3265, acc: 90.2578, loss_bbox: 0.3145, loss: 0.7546, grad_norm: 2.1848\n",
      "2021-05-14 10:46:38,621 - mmdet - INFO - Epoch [6][200/655]\tlr: 2.000e-02, eta: 0:15:08, time: 0.292, data_time: 0.006, memory: 1496, loss_rpn_cls: 0.0675, loss_rpn_bbox: 0.0568, loss_cls: 0.3660, acc: 89.4766, loss_bbox: 0.3334, loss: 0.8236, grad_norm: 2.1609\n",
      "2021-05-14 10:46:53,161 - mmdet - INFO - Epoch [6][250/655]\tlr: 2.000e-02, eta: 0:14:53, time: 0.291, data_time: 0.006, memory: 1496, loss_rpn_cls: 0.0704, loss_rpn_bbox: 0.0554, loss_cls: 0.3688, acc: 89.1035, loss_bbox: 0.3255, loss: 0.8201, grad_norm: 2.1676\n",
      "2021-05-14 10:47:07,705 - mmdet - INFO - Epoch [6][300/655]\tlr: 2.000e-02, eta: 0:14:38, time: 0.291, data_time: 0.006, memory: 1496, loss_rpn_cls: 0.0628, loss_rpn_bbox: 0.0534, loss_cls: 0.3243, acc: 90.2500, loss_bbox: 0.3022, loss: 0.7427, grad_norm: 1.9864\n",
      "2021-05-14 10:47:22,666 - mmdet - INFO - Epoch [6][350/655]\tlr: 2.000e-02, eta: 0:14:24, time: 0.299, data_time: 0.006, memory: 1496, loss_rpn_cls: 0.0704, loss_rpn_bbox: 0.0578, loss_cls: 0.3575, acc: 89.8828, loss_bbox: 0.3197, loss: 0.8053, grad_norm: 2.1919\n",
      "2021-05-14 10:47:37,166 - mmdet - INFO - Epoch [6][400/655]\tlr: 2.000e-02, eta: 0:14:09, time: 0.290, data_time: 0.006, memory: 1496, loss_rpn_cls: 0.0728, loss_rpn_bbox: 0.0592, loss_cls: 0.3666, acc: 89.1123, loss_bbox: 0.3314, loss: 0.8300, grad_norm: 2.2775\n",
      "2021-05-14 10:47:51,707 - mmdet - INFO - Epoch [6][450/655]\tlr: 2.000e-02, eta: 0:13:54, time: 0.291, data_time: 0.006, memory: 1496, loss_rpn_cls: 0.0857, loss_rpn_bbox: 0.0614, loss_cls: 0.3842, acc: 89.0469, loss_bbox: 0.3430, loss: 0.8743, grad_norm: 2.2896\n",
      "2021-05-14 10:48:06,499 - mmdet - INFO - Epoch [6][500/655]\tlr: 2.000e-02, eta: 0:13:39, time: 0.296, data_time: 0.006, memory: 1496, loss_rpn_cls: 0.0632, loss_rpn_bbox: 0.0526, loss_cls: 0.3361, acc: 90.3760, loss_bbox: 0.3000, loss: 0.7519, grad_norm: 2.0148\n",
      "2021-05-14 10:48:21,082 - mmdet - INFO - Epoch [6][550/655]\tlr: 2.000e-02, eta: 0:13:24, time: 0.292, data_time: 0.006, memory: 1496, loss_rpn_cls: 0.0661, loss_rpn_bbox: 0.0552, loss_cls: 0.3343, acc: 90.1396, loss_bbox: 0.3108, loss: 0.7664, grad_norm: 2.2360\n",
      "2021-05-14 10:48:35,502 - mmdet - INFO - Epoch [6][600/655]\tlr: 2.000e-02, eta: 0:13:09, time: 0.288, data_time: 0.006, memory: 1496, loss_rpn_cls: 0.0577, loss_rpn_bbox: 0.0495, loss_cls: 0.3230, acc: 90.4688, loss_bbox: 0.2919, loss: 0.7221, grad_norm: 2.0224\n",
      "2021-05-14 10:48:50,085 - mmdet - INFO - Epoch [6][650/655]\tlr: 2.000e-02, eta: 0:12:54, time: 0.292, data_time: 0.006, memory: 1496, loss_rpn_cls: 0.0679, loss_rpn_bbox: 0.0640, loss_cls: 0.3685, acc: 88.9023, loss_bbox: 0.3502, loss: 0.8505, grad_norm: 2.1541\n",
      "2021-05-14 10:48:51,599 - mmdet - INFO - Saving checkpoint at 6 epochs\n"
     ]
    },
    {
     "name": "stdout",
     "output_type": "stream",
     "text": [
      "[>>>>>>>>>>>>>>>>>>>>>>>>>>>>>] 655/655, 22.8 task/s, elapsed: 29s, ETA:     0s"
     ]
    },
    {
     "name": "stderr",
     "output_type": "stream",
     "text": [
      "2021-05-14 10:49:21,711 - mmdet - INFO - Evaluating bbox...\n"
     ]
    },
    {
     "name": "stdout",
     "output_type": "stream",
     "text": [
      "Loading and preparing results...\n",
      "DONE (t=0.58s)\n",
      "creating index...\n",
      "index created!\n",
      "Running per image evaluation...\n",
      "Evaluate annotation type *bbox*\n",
      "DONE (t=5.57s).\n",
      "Accumulating evaluation results...\n"
     ]
    },
    {
     "name": "stderr",
     "output_type": "stream",
     "text": [
      "2021-05-14 10:49:28,886 - mmdet - INFO - Now best checkpoint is epoch_6.pth.Best bbox_mAP is 0.1010\n",
      "2021-05-14 10:49:28,892 - mmdet - INFO - Epoch(val) [6][655]\tbbox_mAP: 0.1010, bbox_mAP_50: 0.1850, bbox_mAP_75: 0.0980, bbox_mAP_s: 0.0290, bbox_mAP_m: 0.1000, bbox_mAP_l: 0.1790, bbox_mAP_copypaste: 0.101 0.185 0.098 0.029 0.100 0.179\n"
     ]
    },
    {
     "name": "stdout",
     "output_type": "stream",
     "text": [
      "DONE (t=0.94s).\n",
      "Average Precision  (AP) @[ IoU=0.50:0.95 | area=   all | maxDets=100 ] = 0.101\n",
      "Average Precision  (AP) @[ IoU=0.50      | area=   all | maxDets=1000 ] = 0.185\n",
      "Average Precision  (AP) @[ IoU=0.75      | area=   all | maxDets=1000 ] = 0.098\n",
      "Average Precision  (AP) @[ IoU=0.50:0.95 | area= small | maxDets=1000 ] = 0.029\n",
      "Average Precision  (AP) @[ IoU=0.50:0.95 | area=medium | maxDets=1000 ] = 0.100\n",
      "Average Precision  (AP) @[ IoU=0.50:0.95 | area= large | maxDets=1000 ] = 0.179\n",
      "Average Recall     (AR) @[ IoU=0.50:0.95 | area=   all | maxDets=100 ] = 0.224\n",
      "Average Recall     (AR) @[ IoU=0.50:0.95 | area=   all | maxDets=300 ] = 0.224\n",
      "Average Recall     (AR) @[ IoU=0.50:0.95 | area=   all | maxDets=1000 ] = 0.224\n",
      "Average Recall     (AR) @[ IoU=0.50:0.95 | area= small | maxDets=1000 ] = 0.070\n",
      "Average Recall     (AR) @[ IoU=0.50:0.95 | area=medium | maxDets=1000 ] = 0.224\n",
      "Average Recall     (AR) @[ IoU=0.50:0.95 | area= large | maxDets=1000 ] = 0.396\n"
     ]
    },
    {
     "name": "stderr",
     "output_type": "stream",
     "text": [
      "2021-05-14 10:49:45,669 - mmdet - INFO - Epoch [7][50/655]\tlr: 2.000e-02, eta: 0:12:38, time: 0.335, data_time: 0.049, memory: 1496, loss_rpn_cls: 0.0622, loss_rpn_bbox: 0.0605, loss_cls: 0.3536, acc: 89.4355, loss_bbox: 0.3288, loss: 0.8052, grad_norm: 2.2218\n",
      "2021-05-14 10:50:00,277 - mmdet - INFO - Epoch [7][100/655]\tlr: 2.000e-02, eta: 0:12:24, time: 0.292, data_time: 0.006, memory: 1496, loss_rpn_cls: 0.0565, loss_rpn_bbox: 0.0532, loss_cls: 0.3152, acc: 90.6855, loss_bbox: 0.2829, loss: 0.7078, grad_norm: 1.9236\n",
      "2021-05-14 10:50:14,811 - mmdet - INFO - Epoch [7][150/655]\tlr: 2.000e-02, eta: 0:12:09, time: 0.291, data_time: 0.006, memory: 1496, loss_rpn_cls: 0.0575, loss_rpn_bbox: 0.0469, loss_cls: 0.3167, acc: 90.6611, loss_bbox: 0.2902, loss: 0.7114, grad_norm: 2.2063\n",
      "2021-05-14 10:50:29,363 - mmdet - INFO - Epoch [7][200/655]\tlr: 2.000e-02, eta: 0:11:54, time: 0.291, data_time: 0.006, memory: 1496, loss_rpn_cls: 0.0621, loss_rpn_bbox: 0.0601, loss_cls: 0.3554, acc: 89.5791, loss_bbox: 0.3324, loss: 0.8100, grad_norm: 2.2873\n",
      "2021-05-14 10:50:43,942 - mmdet - INFO - Epoch [7][250/655]\tlr: 2.000e-02, eta: 0:11:39, time: 0.292, data_time: 0.006, memory: 1496, loss_rpn_cls: 0.0501, loss_rpn_bbox: 0.0471, loss_cls: 0.3320, acc: 90.4170, loss_bbox: 0.2933, loss: 0.7226, grad_norm: 2.0035\n",
      "2021-05-14 10:50:58,526 - mmdet - INFO - Epoch [7][300/655]\tlr: 2.000e-02, eta: 0:11:24, time: 0.292, data_time: 0.006, memory: 1496, loss_rpn_cls: 0.0651, loss_rpn_bbox: 0.0576, loss_cls: 0.3430, acc: 89.4707, loss_bbox: 0.3258, loss: 0.7916, grad_norm: 2.1733\n",
      "2021-05-14 10:51:13,366 - mmdet - INFO - Epoch [7][350/655]\tlr: 2.000e-02, eta: 0:11:09, time: 0.297, data_time: 0.006, memory: 1496, loss_rpn_cls: 0.0751, loss_rpn_bbox: 0.0670, loss_cls: 0.3516, acc: 89.4053, loss_bbox: 0.3292, loss: 0.8229, grad_norm: 2.3147\n",
      "2021-05-14 10:51:27,917 - mmdet - INFO - Epoch [7][400/655]\tlr: 2.000e-02, eta: 0:10:54, time: 0.291, data_time: 0.006, memory: 1496, loss_rpn_cls: 0.0573, loss_rpn_bbox: 0.0550, loss_cls: 0.3445, acc: 89.6377, loss_bbox: 0.3160, loss: 0.7728, grad_norm: 2.2503\n",
      "2021-05-14 10:51:42,597 - mmdet - INFO - Epoch [7][450/655]\tlr: 2.000e-02, eta: 0:10:40, time: 0.294, data_time: 0.006, memory: 1496, loss_rpn_cls: 0.0606, loss_rpn_bbox: 0.0589, loss_cls: 0.3613, acc: 89.1562, loss_bbox: 0.3294, loss: 0.8102, grad_norm: 2.3496\n",
      "2021-05-14 10:51:57,143 - mmdet - INFO - Epoch [7][500/655]\tlr: 2.000e-02, eta: 0:10:25, time: 0.291, data_time: 0.006, memory: 1496, loss_rpn_cls: 0.0543, loss_rpn_bbox: 0.0539, loss_cls: 0.3383, acc: 90.1484, loss_bbox: 0.3028, loss: 0.7492, grad_norm: 2.0258\n",
      "2021-05-14 10:52:12,225 - mmdet - INFO - Epoch [7][550/655]\tlr: 2.000e-02, eta: 0:10:10, time: 0.302, data_time: 0.006, memory: 1496, loss_rpn_cls: 0.0533, loss_rpn_bbox: 0.0565, loss_cls: 0.3398, acc: 89.6045, loss_bbox: 0.3219, loss: 0.7716, grad_norm: 2.1430\n",
      "2021-05-14 10:52:27,096 - mmdet - INFO - Epoch [7][600/655]\tlr: 2.000e-02, eta: 0:09:56, time: 0.297, data_time: 0.006, memory: 1496, loss_rpn_cls: 0.0638, loss_rpn_bbox: 0.0493, loss_cls: 0.3218, acc: 90.2461, loss_bbox: 0.3030, loss: 0.7380, grad_norm: 2.2452\n",
      "2021-05-14 10:52:41,544 - mmdet - INFO - Epoch [7][650/655]\tlr: 2.000e-02, eta: 0:09:41, time: 0.289, data_time: 0.006, memory: 1496, loss_rpn_cls: 0.0602, loss_rpn_bbox: 0.0526, loss_cls: 0.3213, acc: 90.4463, loss_bbox: 0.2946, loss: 0.7288, grad_norm: 2.1537\n",
      "2021-05-14 10:52:43,077 - mmdet - INFO - Saving checkpoint at 7 epochs\n"
     ]
    },
    {
     "name": "stdout",
     "output_type": "stream",
     "text": [
      "[>>>>>>>>>>>>>>>>>>>>>>>>>>>>>] 655/655, 22.3 task/s, elapsed: 29s, ETA:     0s"
     ]
    },
    {
     "name": "stderr",
     "output_type": "stream",
     "text": [
      "2021-05-14 10:53:14,288 - mmdet - INFO - Evaluating bbox...\n"
     ]
    },
    {
     "name": "stdout",
     "output_type": "stream",
     "text": [
      "Loading and preparing results...\n",
      "DONE (t=0.56s)\n",
      "creating index...\n",
      "index created!\n",
      "Running per image evaluation...\n",
      "Evaluate annotation type *bbox*\n",
      "DONE (t=7.03s).\n",
      "Accumulating evaluation results...\n"
     ]
    },
    {
     "name": "stderr",
     "output_type": "stream",
     "text": [
      "2021-05-14 10:53:23,049 - mmdet - INFO - Now best checkpoint is epoch_7.pth.Best bbox_mAP is 0.1060\n",
      "2021-05-14 10:53:23,055 - mmdet - INFO - Epoch(val) [7][655]\tbbox_mAP: 0.1060, bbox_mAP_50: 0.1950, bbox_mAP_75: 0.1020, bbox_mAP_s: 0.0220, bbox_mAP_m: 0.0980, bbox_mAP_l: 0.2020, bbox_mAP_copypaste: 0.106 0.195 0.102 0.022 0.098 0.202\n"
     ]
    },
    {
     "name": "stdout",
     "output_type": "stream",
     "text": [
      "DONE (t=1.08s).\n",
      "Average Precision  (AP) @[ IoU=0.50:0.95 | area=   all | maxDets=100 ] = 0.106\n",
      "Average Precision  (AP) @[ IoU=0.50      | area=   all | maxDets=1000 ] = 0.195\n",
      "Average Precision  (AP) @[ IoU=0.75      | area=   all | maxDets=1000 ] = 0.102\n",
      "Average Precision  (AP) @[ IoU=0.50:0.95 | area= small | maxDets=1000 ] = 0.022\n",
      "Average Precision  (AP) @[ IoU=0.50:0.95 | area=medium | maxDets=1000 ] = 0.098\n",
      "Average Precision  (AP) @[ IoU=0.50:0.95 | area= large | maxDets=1000 ] = 0.202\n",
      "Average Recall     (AR) @[ IoU=0.50:0.95 | area=   all | maxDets=100 ] = 0.231\n",
      "Average Recall     (AR) @[ IoU=0.50:0.95 | area=   all | maxDets=300 ] = 0.231\n",
      "Average Recall     (AR) @[ IoU=0.50:0.95 | area=   all | maxDets=1000 ] = 0.231\n",
      "Average Recall     (AR) @[ IoU=0.50:0.95 | area= small | maxDets=1000 ] = 0.067\n",
      "Average Recall     (AR) @[ IoU=0.50:0.95 | area=medium | maxDets=1000 ] = 0.226\n",
      "Average Recall     (AR) @[ IoU=0.50:0.95 | area= large | maxDets=1000 ] = 0.416\n"
     ]
    },
    {
     "name": "stderr",
     "output_type": "stream",
     "text": [
      "2021-05-14 10:53:39,809 - mmdet - INFO - Epoch [8][50/655]\tlr: 2.000e-02, eta: 0:09:25, time: 0.335, data_time: 0.049, memory: 1496, loss_rpn_cls: 0.0532, loss_rpn_bbox: 0.0546, loss_cls: 0.3249, acc: 90.0918, loss_bbox: 0.3157, loss: 0.7484, grad_norm: 2.2397\n",
      "2021-05-14 10:53:54,636 - mmdet - INFO - Epoch [8][100/655]\tlr: 2.000e-02, eta: 0:09:10, time: 0.297, data_time: 0.006, memory: 1496, loss_rpn_cls: 0.0582, loss_rpn_bbox: 0.0615, loss_cls: 0.3421, acc: 89.7900, loss_bbox: 0.3162, loss: 0.7780, grad_norm: 2.2676\n",
      "2021-05-14 10:54:09,225 - mmdet - INFO - Epoch [8][150/655]\tlr: 2.000e-02, eta: 0:08:55, time: 0.292, data_time: 0.006, memory: 1496, loss_rpn_cls: 0.0543, loss_rpn_bbox: 0.0504, loss_cls: 0.3332, acc: 90.1875, loss_bbox: 0.2975, loss: 0.7354, grad_norm: 2.3314\n",
      "2021-05-14 10:54:23,797 - mmdet - INFO - Epoch [8][200/655]\tlr: 2.000e-02, eta: 0:08:40, time: 0.291, data_time: 0.006, memory: 1496, loss_rpn_cls: 0.0585, loss_rpn_bbox: 0.0529, loss_cls: 0.3312, acc: 89.8809, loss_bbox: 0.3086, loss: 0.7513, grad_norm: 2.2019\n",
      "2021-05-14 10:54:38,367 - mmdet - INFO - Epoch [8][250/655]\tlr: 2.000e-02, eta: 0:08:25, time: 0.291, data_time: 0.006, memory: 1496, loss_rpn_cls: 0.0503, loss_rpn_bbox: 0.0523, loss_cls: 0.3181, acc: 90.4473, loss_bbox: 0.2970, loss: 0.7176, grad_norm: 2.1718\n",
      "2021-05-14 10:54:52,958 - mmdet - INFO - Epoch [8][300/655]\tlr: 2.000e-02, eta: 0:08:11, time: 0.292, data_time: 0.006, memory: 1496, loss_rpn_cls: 0.0536, loss_rpn_bbox: 0.0547, loss_cls: 0.3320, acc: 89.7656, loss_bbox: 0.3224, loss: 0.7627, grad_norm: 2.2998\n",
      "2021-05-14 10:55:07,706 - mmdet - INFO - Epoch [8][350/655]\tlr: 2.000e-02, eta: 0:07:56, time: 0.295, data_time: 0.006, memory: 1496, loss_rpn_cls: 0.0545, loss_rpn_bbox: 0.0543, loss_cls: 0.3472, acc: 89.5283, loss_bbox: 0.3340, loss: 0.7899, grad_norm: 2.1488\n",
      "2021-05-14 10:55:22,371 - mmdet - INFO - Epoch [8][400/655]\tlr: 2.000e-02, eta: 0:07:41, time: 0.293, data_time: 0.006, memory: 1496, loss_rpn_cls: 0.0510, loss_rpn_bbox: 0.0507, loss_cls: 0.3205, acc: 90.1924, loss_bbox: 0.2942, loss: 0.7164, grad_norm: 2.2425\n",
      "2021-05-14 10:55:36,908 - mmdet - INFO - Epoch [8][450/655]\tlr: 2.000e-02, eta: 0:07:26, time: 0.291, data_time: 0.006, memory: 1496, loss_rpn_cls: 0.0694, loss_rpn_bbox: 0.0622, loss_cls: 0.3355, acc: 89.9160, loss_bbox: 0.3277, loss: 0.7949, grad_norm: 2.2477\n",
      "2021-05-14 10:55:51,609 - mmdet - INFO - Epoch [8][500/655]\tlr: 2.000e-02, eta: 0:07:12, time: 0.294, data_time: 0.006, memory: 1496, loss_rpn_cls: 0.0497, loss_rpn_bbox: 0.0486, loss_cls: 0.3101, acc: 90.6670, loss_bbox: 0.2963, loss: 0.7047, grad_norm: 2.1665\n",
      "2021-05-14 10:56:06,107 - mmdet - INFO - Epoch [8][550/655]\tlr: 2.000e-02, eta: 0:06:57, time: 0.290, data_time: 0.006, memory: 1496, loss_rpn_cls: 0.0577, loss_rpn_bbox: 0.0543, loss_cls: 0.3339, acc: 89.8486, loss_bbox: 0.3127, loss: 0.7586, grad_norm: 2.1544\n",
      "2021-05-14 10:56:21,069 - mmdet - INFO - Epoch [8][600/655]\tlr: 2.000e-02, eta: 0:06:42, time: 0.299, data_time: 0.006, memory: 1496, loss_rpn_cls: 0.0565, loss_rpn_bbox: 0.0533, loss_cls: 0.3409, acc: 89.9453, loss_bbox: 0.3107, loss: 0.7614, grad_norm: 2.2482\n",
      "2021-05-14 10:56:35,830 - mmdet - INFO - Epoch [8][650/655]\tlr: 2.000e-02, eta: 0:06:27, time: 0.295, data_time: 0.006, memory: 1496, loss_rpn_cls: 0.0562, loss_rpn_bbox: 0.0468, loss_cls: 0.2977, acc: 90.8818, loss_bbox: 0.2771, loss: 0.6778, grad_norm: 2.2194\n",
      "2021-05-14 10:56:37,321 - mmdet - INFO - Saving checkpoint at 8 epochs\n"
     ]
    },
    {
     "name": "stdout",
     "output_type": "stream",
     "text": [
      "[>>>>>>>>>>>>                 ] 277/655, 22.4 task/s, elapsed: 12s, ETA:    17s"
     ]
    },
    {
     "name": "stderr",
     "output_type": "stream",
     "text": [
      "IOPub message rate exceeded.\n",
      "The Jupyter server will temporarily stop sending output\n",
      "to the client in order to avoid crashing it.\n",
      "To change this limit, set the config variable\n",
      "`--ServerApp.iopub_msg_rate_limit`.\n",
      "\n",
      "Current values:\n",
      "ServerApp.iopub_msg_rate_limit=1000.0 (msgs/sec)\n",
      "ServerApp.rate_limit_window=3.0 (secs)\n",
      "\n"
     ]
    },
    {
     "name": "stdout",
     "output_type": "stream",
     "text": [
      "DONE (t=7.22s).\n",
      "Accumulating evaluation results...\n"
     ]
    },
    {
     "name": "stderr",
     "output_type": "stream",
     "text": [
      "2021-05-14 11:09:08,605 - mmdet - INFO - Now best checkpoint is epoch_1.pth.Best bbox_mAP is 0.0380\n",
      "2021-05-14 11:09:08,611 - mmdet - INFO - Epoch(val) [1][655]\tbbox_mAP: 0.0380, bbox_mAP_50: 0.0930, bbox_mAP_75: 0.0260, bbox_mAP_s: 0.0070, bbox_mAP_m: 0.0420, bbox_mAP_l: 0.0690, bbox_mAP_copypaste: 0.038 0.093 0.026 0.007 0.042 0.069\n"
     ]
    },
    {
     "name": "stdout",
     "output_type": "stream",
     "text": [
      "DONE (t=1.00s).\n",
      "Average Precision  (AP) @[ IoU=0.50:0.95 | area=   all | maxDets=100 ] = 0.038\n",
      "Average Precision  (AP) @[ IoU=0.50      | area=   all | maxDets=1000 ] = 0.093\n",
      "Average Precision  (AP) @[ IoU=0.75      | area=   all | maxDets=1000 ] = 0.026\n",
      "Average Precision  (AP) @[ IoU=0.50:0.95 | area= small | maxDets=1000 ] = 0.007\n",
      "Average Precision  (AP) @[ IoU=0.50:0.95 | area=medium | maxDets=1000 ] = 0.042\n",
      "Average Precision  (AP) @[ IoU=0.50:0.95 | area= large | maxDets=1000 ] = 0.069\n",
      "Average Recall     (AR) @[ IoU=0.50:0.95 | area=   all | maxDets=100 ] = 0.105\n",
      "Average Recall     (AR) @[ IoU=0.50:0.95 | area=   all | maxDets=300 ] = 0.105\n",
      "Average Recall     (AR) @[ IoU=0.50:0.95 | area=   all | maxDets=1000 ] = 0.105\n",
      "Average Recall     (AR) @[ IoU=0.50:0.95 | area= small | maxDets=1000 ] = 0.027\n",
      "Average Recall     (AR) @[ IoU=0.50:0.95 | area=medium | maxDets=1000 ] = 0.095\n",
      "Average Recall     (AR) @[ IoU=0.50:0.95 | area= large | maxDets=1000 ] = 0.201\n"
     ]
    },
    {
     "name": "stderr",
     "output_type": "stream",
     "text": [
      "2021-05-14 11:10:39,353 - mmdet - INFO - Epoch [2][300/655]\tlr: 2.000e-02, eta: 0:27:53, time: 0.295, data_time: 0.006, memory: 1496, loss_rpn_cls: 0.1166, loss_rpn_bbox: 0.0116, loss_cls: 0.4208, acc: 88.5254, loss_bbox: 0.1905, loss: 0.7394, grad_norm: 2.1934\n",
      "2021-05-14 11:10:54,204 - mmdet - INFO - Epoch [2][350/655]\tlr: 2.000e-02, eta: 0:27:37, time: 0.297, data_time: 0.006, memory: 1496, loss_rpn_cls: 0.1295, loss_rpn_bbox: 0.0116, loss_cls: 0.4355, acc: 88.5576, loss_bbox: 0.2016, loss: 0.7783, grad_norm: 2.1724\n",
      "2021-05-14 11:11:08,931 - mmdet - INFO - Epoch [2][400/655]\tlr: 2.000e-02, eta: 0:27:21, time: 0.295, data_time: 0.006, memory: 1496, loss_rpn_cls: 0.1044, loss_rpn_bbox: 0.0115, loss_cls: 0.4258, acc: 88.5039, loss_bbox: 0.1964, loss: 0.7381, grad_norm: 2.0402\n",
      "2021-05-14 11:11:23,553 - mmdet - INFO - Epoch [2][450/655]\tlr: 2.000e-02, eta: 0:27:05, time: 0.292, data_time: 0.006, memory: 1496, loss_rpn_cls: 0.0923, loss_rpn_bbox: 0.0093, loss_cls: 0.3770, acc: 89.7256, loss_bbox: 0.1714, loss: 0.6500, grad_norm: 1.9726\n",
      "2021-05-14 11:11:38,199 - mmdet - INFO - Epoch [2][500/655]\tlr: 2.000e-02, eta: 0:26:48, time: 0.293, data_time: 0.006, memory: 1496, loss_rpn_cls: 0.0958, loss_rpn_bbox: 0.0093, loss_cls: 0.4039, acc: 88.9033, loss_bbox: 0.1732, loss: 0.6822, grad_norm: 2.0859\n",
      "2021-05-14 11:11:52,762 - mmdet - INFO - Epoch [2][550/655]\tlr: 2.000e-02, eta: 0:26:32, time: 0.291, data_time: 0.006, memory: 1496, loss_rpn_cls: 0.1187, loss_rpn_bbox: 0.0100, loss_cls: 0.4124, acc: 89.1260, loss_bbox: 0.1774, loss: 0.7184, grad_norm: 2.0484\n",
      "2021-05-14 11:12:07,794 - mmdet - INFO - Epoch [2][600/655]\tlr: 2.000e-02, eta: 0:26:18, time: 0.301, data_time: 0.006, memory: 1496, loss_rpn_cls: 0.1099, loss_rpn_bbox: 0.0107, loss_cls: 0.3947, acc: 88.7422, loss_bbox: 0.1879, loss: 0.7032, grad_norm: 2.0037\n",
      "2021-05-14 11:12:22,526 - mmdet - INFO - Epoch [2][650/655]\tlr: 2.000e-02, eta: 0:26:02, time: 0.295, data_time: 0.006, memory: 1496, loss_rpn_cls: 0.0917, loss_rpn_bbox: 0.0091, loss_cls: 0.4075, acc: 88.6934, loss_bbox: 0.1847, loss: 0.6931, grad_norm: 1.9068\n",
      "2021-05-14 11:12:23,991 - mmdet - INFO - Saving checkpoint at 2 epochs\n"
     ]
    },
    {
     "name": "stdout",
     "output_type": "stream",
     "text": [
      "[>>>>>>>>>>>>>>>>>>>>>>>>>>>>>] 655/655, 22.9 task/s, elapsed: 29s, ETA:     0s"
     ]
    },
    {
     "name": "stderr",
     "output_type": "stream",
     "text": [
      "2021-05-14 11:12:53,911 - mmdet - INFO - Evaluating bbox...\n"
     ]
    },
    {
     "name": "stdout",
     "output_type": "stream",
     "text": [
      "Loading and preparing results...\n",
      "DONE (t=0.64s)\n",
      "creating index...\n",
      "index created!\n",
      "Running per image evaluation...\n",
      "Evaluate annotation type *bbox*\n",
      "DONE (t=6.18s).\n",
      "Accumulating evaluation results...\n"
     ]
    },
    {
     "name": "stderr",
     "output_type": "stream",
     "text": [
      "2021-05-14 11:13:01,800 - mmdet - INFO - Now best checkpoint is epoch_2.pth.Best bbox_mAP is 0.0650\n",
      "2021-05-14 11:13:01,806 - mmdet - INFO - Epoch(val) [2][655]\tbbox_mAP: 0.0650, bbox_mAP_50: 0.1380, bbox_mAP_75: 0.0540, bbox_mAP_s: 0.0120, bbox_mAP_m: 0.0630, bbox_mAP_l: 0.1340, bbox_mAP_copypaste: 0.065 0.138 0.054 0.012 0.063 0.134\n"
     ]
    },
    {
     "name": "stdout",
     "output_type": "stream",
     "text": [
      "DONE (t=0.97s).\n",
      "Average Precision  (AP) @[ IoU=0.50:0.95 | area=   all | maxDets=100 ] = 0.065\n",
      "Average Precision  (AP) @[ IoU=0.50      | area=   all | maxDets=1000 ] = 0.138\n",
      "Average Precision  (AP) @[ IoU=0.75      | area=   all | maxDets=1000 ] = 0.054\n",
      "Average Precision  (AP) @[ IoU=0.50:0.95 | area= small | maxDets=1000 ] = 0.012\n",
      "Average Precision  (AP) @[ IoU=0.50:0.95 | area=medium | maxDets=1000 ] = 0.063\n",
      "Average Precision  (AP) @[ IoU=0.50:0.95 | area= large | maxDets=1000 ] = 0.134\n",
      "Average Recall     (AR) @[ IoU=0.50:0.95 | area=   all | maxDets=100 ] = 0.173\n",
      "Average Recall     (AR) @[ IoU=0.50:0.95 | area=   all | maxDets=300 ] = 0.173\n",
      "Average Recall     (AR) @[ IoU=0.50:0.95 | area=   all | maxDets=1000 ] = 0.173\n",
      "Average Recall     (AR) @[ IoU=0.50:0.95 | area= small | maxDets=1000 ] = 0.054\n",
      "Average Recall     (AR) @[ IoU=0.50:0.95 | area=medium | maxDets=1000 ] = 0.148\n",
      "Average Recall     (AR) @[ IoU=0.50:0.95 | area= large | maxDets=1000 ] = 0.333\n"
     ]
    },
    {
     "name": "stderr",
     "output_type": "stream",
     "text": [
      "2021-05-14 11:13:18,621 - mmdet - INFO - Epoch [3][50/655]\tlr: 2.000e-02, eta: 0:25:47, time: 0.336, data_time: 0.049, memory: 1496, loss_rpn_cls: 0.0807, loss_rpn_bbox: 0.0083, loss_cls: 0.3748, acc: 89.1279, loss_bbox: 0.1746, loss: 0.6384, grad_norm: 1.9077\n",
      "2021-05-14 11:13:33,428 - mmdet - INFO - Epoch [3][100/655]\tlr: 2.000e-02, eta: 0:25:32, time: 0.296, data_time: 0.006, memory: 1496, loss_rpn_cls: 0.0771, loss_rpn_bbox: 0.0082, loss_cls: 0.3862, acc: 89.2471, loss_bbox: 0.1723, loss: 0.6439, grad_norm: 1.9639\n",
      "2021-05-14 11:13:48,272 - mmdet - INFO - Epoch [3][150/655]\tlr: 2.000e-02, eta: 0:25:17, time: 0.297, data_time: 0.006, memory: 1496, loss_rpn_cls: 0.0801, loss_rpn_bbox: 0.0084, loss_cls: 0.3781, acc: 89.2441, loss_bbox: 0.1631, loss: 0.6296, grad_norm: 1.8584\n",
      "2021-05-14 11:14:03,032 - mmdet - INFO - Epoch [3][200/655]\tlr: 2.000e-02, eta: 0:25:01, time: 0.295, data_time: 0.006, memory: 1496, loss_rpn_cls: 0.1040, loss_rpn_bbox: 0.0110, loss_cls: 0.4034, acc: 88.6816, loss_bbox: 0.1958, loss: 0.7142, grad_norm: 2.0958\n",
      "2021-05-14 11:14:18,101 - mmdet - INFO - Epoch [3][250/655]\tlr: 2.000e-02, eta: 0:24:47, time: 0.301, data_time: 0.006, memory: 1496, loss_rpn_cls: 0.0991, loss_rpn_bbox: 0.0106, loss_cls: 0.4185, acc: 88.3691, loss_bbox: 0.1847, loss: 0.7130, grad_norm: 2.0471\n",
      "2021-05-14 11:14:32,753 - mmdet - INFO - Epoch [3][300/655]\tlr: 2.000e-02, eta: 0:24:31, time: 0.293, data_time: 0.006, memory: 1496, loss_rpn_cls: 0.0848, loss_rpn_bbox: 0.0087, loss_cls: 0.3736, acc: 89.3867, loss_bbox: 0.1739, loss: 0.6409, grad_norm: 1.9513\n",
      "2021-05-14 11:14:47,207 - mmdet - INFO - Epoch [3][350/655]\tlr: 2.000e-02, eta: 0:24:15, time: 0.289, data_time: 0.006, memory: 1496, loss_rpn_cls: 0.0884, loss_rpn_bbox: 0.0104, loss_cls: 0.4035, acc: 88.6982, loss_bbox: 0.1823, loss: 0.6845, grad_norm: 2.0357\n",
      "2021-05-14 11:15:01,556 - mmdet - INFO - Epoch [3][400/655]\tlr: 2.000e-02, eta: 0:23:59, time: 0.287, data_time: 0.006, memory: 1496, loss_rpn_cls: 0.0876, loss_rpn_bbox: 0.0087, loss_cls: 0.3559, acc: 90.0469, loss_bbox: 0.1547, loss: 0.6068, grad_norm: 1.8854\n",
      "2021-05-14 11:15:16,576 - mmdet - INFO - Epoch [3][450/655]\tlr: 2.000e-02, eta: 0:23:44, time: 0.300, data_time: 0.006, memory: 1496, loss_rpn_cls: 0.0890, loss_rpn_bbox: 0.0080, loss_cls: 0.3768, acc: 89.7988, loss_bbox: 0.1562, loss: 0.6300, grad_norm: 2.0195\n",
      "2021-05-14 11:15:31,286 - mmdet - INFO - Epoch [3][500/655]\tlr: 2.000e-02, eta: 0:23:29, time: 0.294, data_time: 0.006, memory: 1496, loss_rpn_cls: 0.0836, loss_rpn_bbox: 0.0095, loss_cls: 0.3735, acc: 89.2148, loss_bbox: 0.1709, loss: 0.6376, grad_norm: 1.8770\n",
      "2021-05-14 11:15:45,862 - mmdet - INFO - Epoch [3][550/655]\tlr: 2.000e-02, eta: 0:23:13, time: 0.292, data_time: 0.006, memory: 1496, loss_rpn_cls: 0.0803, loss_rpn_bbox: 0.0077, loss_cls: 0.3501, acc: 89.8633, loss_bbox: 0.1551, loss: 0.5932, grad_norm: 1.9748\n",
      "2021-05-14 11:16:00,453 - mmdet - INFO - Epoch [3][600/655]\tlr: 2.000e-02, eta: 0:22:58, time: 0.292, data_time: 0.006, memory: 1496, loss_rpn_cls: 0.0882, loss_rpn_bbox: 0.0086, loss_cls: 0.3842, acc: 89.3760, loss_bbox: 0.1610, loss: 0.6419, grad_norm: 1.9985\n",
      "2021-05-14 11:16:15,072 - mmdet - INFO - Epoch [3][650/655]\tlr: 2.000e-02, eta: 0:22:42, time: 0.292, data_time: 0.006, memory: 1496, loss_rpn_cls: 0.0904, loss_rpn_bbox: 0.0088, loss_cls: 0.3856, acc: 89.4375, loss_bbox: 0.1648, loss: 0.6496, grad_norm: 1.8754\n",
      "2021-05-14 11:16:16,577 - mmdet - INFO - Saving checkpoint at 3 epochs\n"
     ]
    },
    {
     "name": "stdout",
     "output_type": "stream",
     "text": [
      "[>>>>>>>>>>>>>>>>>>>>>>>>>>>>>] 655/655, 22.7 task/s, elapsed: 29s, ETA:     0s"
     ]
    },
    {
     "name": "stderr",
     "output_type": "stream",
     "text": [
      "2021-05-14 11:16:46,890 - mmdet - INFO - Evaluating bbox...\n"
     ]
    },
    {
     "name": "stdout",
     "output_type": "stream",
     "text": [
      "Loading and preparing results...\n",
      "DONE (t=1.05s)\n",
      "creating index...\n",
      "index created!\n",
      "Running per image evaluation...\n",
      "Evaluate annotation type *bbox*\n",
      "DONE (t=6.85s).\n",
      "Accumulating evaluation results...\n"
     ]
    },
    {
     "name": "stderr",
     "output_type": "stream",
     "text": [
      "2021-05-14 11:16:55,965 - mmdet - INFO - Now best checkpoint is epoch_3.pth.Best bbox_mAP is 0.0680\n",
      "2021-05-14 11:16:55,972 - mmdet - INFO - Epoch(val) [3][655]\tbbox_mAP: 0.0680, bbox_mAP_50: 0.1420, bbox_mAP_75: 0.0590, bbox_mAP_s: 0.0150, bbox_mAP_m: 0.0640, bbox_mAP_l: 0.1290, bbox_mAP_copypaste: 0.068 0.142 0.059 0.015 0.064 0.129\n"
     ]
    },
    {
     "name": "stdout",
     "output_type": "stream",
     "text": [
      "DONE (t=1.09s).\n",
      "Average Precision  (AP) @[ IoU=0.50:0.95 | area=   all | maxDets=100 ] = 0.068\n",
      "Average Precision  (AP) @[ IoU=0.50      | area=   all | maxDets=1000 ] = 0.142\n",
      "Average Precision  (AP) @[ IoU=0.75      | area=   all | maxDets=1000 ] = 0.059\n",
      "Average Precision  (AP) @[ IoU=0.50:0.95 | area= small | maxDets=1000 ] = 0.015\n",
      "Average Precision  (AP) @[ IoU=0.50:0.95 | area=medium | maxDets=1000 ] = 0.064\n",
      "Average Precision  (AP) @[ IoU=0.50:0.95 | area= large | maxDets=1000 ] = 0.129\n",
      "Average Recall     (AR) @[ IoU=0.50:0.95 | area=   all | maxDets=100 ] = 0.169\n",
      "Average Recall     (AR) @[ IoU=0.50:0.95 | area=   all | maxDets=300 ] = 0.169\n",
      "Average Recall     (AR) @[ IoU=0.50:0.95 | area=   all | maxDets=1000 ] = 0.169\n",
      "Average Recall     (AR) @[ IoU=0.50:0.95 | area= small | maxDets=1000 ] = 0.051\n",
      "Average Recall     (AR) @[ IoU=0.50:0.95 | area=medium | maxDets=1000 ] = 0.154\n",
      "Average Recall     (AR) @[ IoU=0.50:0.95 | area= large | maxDets=1000 ] = 0.313\n"
     ]
    },
    {
     "name": "stderr",
     "output_type": "stream",
     "text": [
      "2021-05-14 11:17:12,765 - mmdet - INFO - Epoch [4][50/655]\tlr: 2.000e-02, eta: 0:22:27, time: 0.336, data_time: 0.049, memory: 1496, loss_rpn_cls: 0.0799, loss_rpn_bbox: 0.0090, loss_cls: 0.3741, acc: 89.1396, loss_bbox: 0.1650, loss: 0.6280, grad_norm: 1.9467\n",
      "2021-05-14 11:17:27,288 - mmdet - INFO - Epoch [4][100/655]\tlr: 2.000e-02, eta: 0:22:12, time: 0.290, data_time: 0.006, memory: 1496, loss_rpn_cls: 0.0801, loss_rpn_bbox: 0.0087, loss_cls: 0.3839, acc: 88.9365, loss_bbox: 0.1694, loss: 0.6419, grad_norm: 1.9567\n",
      "2021-05-14 11:17:42,194 - mmdet - INFO - Epoch [4][150/655]\tlr: 2.000e-02, eta: 0:21:57, time: 0.298, data_time: 0.006, memory: 1496, loss_rpn_cls: 0.0671, loss_rpn_bbox: 0.0069, loss_cls: 0.3476, acc: 89.9248, loss_bbox: 0.1624, loss: 0.5841, grad_norm: 1.8222\n",
      "2021-05-14 11:17:57,416 - mmdet - INFO - Epoch [4][200/655]\tlr: 2.000e-02, eta: 0:21:43, time: 0.304, data_time: 0.006, memory: 1496, loss_rpn_cls: 0.0809, loss_rpn_bbox: 0.0089, loss_cls: 0.3761, acc: 89.1875, loss_bbox: 0.1673, loss: 0.6331, grad_norm: 2.0050\n",
      "2021-05-14 11:18:12,210 - mmdet - INFO - Epoch [4][250/655]\tlr: 2.000e-02, eta: 0:21:28, time: 0.296, data_time: 0.006, memory: 1496, loss_rpn_cls: 0.0852, loss_rpn_bbox: 0.0093, loss_cls: 0.3945, acc: 89.0107, loss_bbox: 0.1685, loss: 0.6575, grad_norm: 1.9662\n",
      "2021-05-14 11:18:26,712 - mmdet - INFO - Epoch [4][300/655]\tlr: 2.000e-02, eta: 0:21:12, time: 0.290, data_time: 0.006, memory: 1496, loss_rpn_cls: 0.0697, loss_rpn_bbox: 0.0079, loss_cls: 0.3362, acc: 90.3984, loss_bbox: 0.1483, loss: 0.5621, grad_norm: 1.8659\n",
      "2021-05-14 11:18:41,059 - mmdet - INFO - Epoch [4][350/655]\tlr: 2.000e-02, eta: 0:20:56, time: 0.287, data_time: 0.006, memory: 1496, loss_rpn_cls: 0.0697, loss_rpn_bbox: 0.0080, loss_cls: 0.3637, acc: 89.4941, loss_bbox: 0.1688, loss: 0.6102, grad_norm: 1.8181\n",
      "2021-05-14 11:18:55,477 - mmdet - INFO - Epoch [4][400/655]\tlr: 2.000e-02, eta: 0:20:41, time: 0.288, data_time: 0.006, memory: 1496, loss_rpn_cls: 0.0877, loss_rpn_bbox: 0.0091, loss_cls: 0.3749, acc: 89.4424, loss_bbox: 0.1650, loss: 0.6367, grad_norm: 2.0427\n",
      "2021-05-14 11:19:10,085 - mmdet - INFO - Epoch [4][450/655]\tlr: 2.000e-02, eta: 0:20:26, time: 0.292, data_time: 0.006, memory: 1496, loss_rpn_cls: 0.0754, loss_rpn_bbox: 0.0073, loss_cls: 0.3551, acc: 89.7783, loss_bbox: 0.1584, loss: 0.5961, grad_norm: 1.8961\n",
      "2021-05-14 11:19:24,703 - mmdet - INFO - Epoch [4][500/655]\tlr: 2.000e-02, eta: 0:20:10, time: 0.292, data_time: 0.006, memory: 1496, loss_rpn_cls: 0.0812, loss_rpn_bbox: 0.0097, loss_cls: 0.3867, acc: 88.7422, loss_bbox: 0.1755, loss: 0.6531, grad_norm: 1.8894\n",
      "2021-05-14 11:19:39,907 - mmdet - INFO - Epoch [4][550/655]\tlr: 2.000e-02, eta: 0:19:56, time: 0.304, data_time: 0.006, memory: 1496, loss_rpn_cls: 0.0749, loss_rpn_bbox: 0.0073, loss_cls: 0.3450, acc: 90.1064, loss_bbox: 0.1503, loss: 0.5775, grad_norm: 2.0059\n",
      "2021-05-14 11:19:54,394 - mmdet - INFO - Epoch [4][600/655]\tlr: 2.000e-02, eta: 0:19:41, time: 0.290, data_time: 0.006, memory: 1496, loss_rpn_cls: 0.0781, loss_rpn_bbox: 0.0088, loss_cls: 0.3689, acc: 89.3477, loss_bbox: 0.1608, loss: 0.6167, grad_norm: 1.8666\n",
      "2021-05-14 11:20:09,150 - mmdet - INFO - Epoch [4][650/655]\tlr: 2.000e-02, eta: 0:19:26, time: 0.295, data_time: 0.006, memory: 1496, loss_rpn_cls: 0.0760, loss_rpn_bbox: 0.0077, loss_cls: 0.3707, acc: 89.5186, loss_bbox: 0.1509, loss: 0.6053, grad_norm: 1.9547\n",
      "2021-05-14 11:20:10,667 - mmdet - INFO - Saving checkpoint at 4 epochs\n"
     ]
    },
    {
     "name": "stdout",
     "output_type": "stream",
     "text": [
      "[>>>>>>>>>>>>>>>>>>           ] 426/655, 22.1 task/s, elapsed: 19s, ETA:    10s"
     ]
    },
    {
     "name": "stderr",
     "output_type": "stream",
     "text": [
      "2021-05-14 12:45:32,401 - mmdet - INFO - Epoch [6][400/655]\tlr: 2.000e-02, eta: 0:14:18, time: 0.294, data_time: 0.006, memory: 1497, loss_rpn_cls: 0.0653, loss_rpn_bbox: 0.0067, loss_cls: 0.3331, acc: 90.0410, loss_bbox: 0.1478, loss: 0.5529, grad_norm: 2.1763\n",
      "2021-05-14 12:45:47,169 - mmdet - INFO - Epoch [6][450/655]\tlr: 2.000e-02, eta: 0:14:03, time: 0.295, data_time: 0.006, memory: 1497, loss_rpn_cls: 0.0679, loss_rpn_bbox: 0.0078, loss_cls: 0.3568, acc: 89.5889, loss_bbox: 0.1607, loss: 0.5932, grad_norm: 1.9519\n",
      "2021-05-14 12:46:01,799 - mmdet - INFO - Epoch [6][500/655]\tlr: 2.000e-02, eta: 0:13:48, time: 0.293, data_time: 0.006, memory: 1497, loss_rpn_cls: 0.0592, loss_rpn_bbox: 0.0077, loss_cls: 0.3344, acc: 89.9619, loss_bbox: 0.1496, loss: 0.5508, grad_norm: 1.8037\n",
      "2021-05-14 12:46:16,186 - mmdet - INFO - Epoch [6][550/655]\tlr: 2.000e-02, eta: 0:13:33, time: 0.288, data_time: 0.006, memory: 1497, loss_rpn_cls: 0.0668, loss_rpn_bbox: 0.0077, loss_cls: 0.3447, acc: 89.5645, loss_bbox: 0.1542, loss: 0.5734, grad_norm: 1.9357\n",
      "2021-05-14 12:46:30,696 - mmdet - INFO - Epoch [6][600/655]\tlr: 2.000e-02, eta: 0:13:18, time: 0.290, data_time: 0.006, memory: 1497, loss_rpn_cls: 0.0637, loss_rpn_bbox: 0.0085, loss_cls: 0.3634, acc: 89.3711, loss_bbox: 0.1561, loss: 0.5916, grad_norm: 2.1072\n",
      "2021-05-14 12:46:45,390 - mmdet - INFO - Epoch [6][650/655]\tlr: 2.000e-02, eta: 0:13:03, time: 0.294, data_time: 0.006, memory: 1497, loss_rpn_cls: 0.0739, loss_rpn_bbox: 0.0067, loss_cls: 0.3361, acc: 90.1328, loss_bbox: 0.1471, loss: 0.5638, grad_norm: 2.1002\n",
      "2021-05-14 12:46:46,929 - mmdet - INFO - Saving checkpoint at 6 epochs\n"
     ]
    },
    {
     "name": "stdout",
     "output_type": "stream",
     "text": [
      "[>>>>>>>>>>>>>>>>>>>>>>>>>>>>>] 655/655, 22.8 task/s, elapsed: 29s, ETA:     0s"
     ]
    },
    {
     "name": "stderr",
     "output_type": "stream",
     "text": [
      "2021-05-14 12:47:17,748 - mmdet - INFO - Evaluating bbox...\n"
     ]
    },
    {
     "name": "stdout",
     "output_type": "stream",
     "text": [
      "Loading and preparing results...\n",
      "DONE (t=0.72s)\n",
      "creating index...\n",
      "index created!\n",
      "Running per image evaluation...\n",
      "Evaluate annotation type *bbox*\n",
      "DONE (t=7.15s).\n",
      "Accumulating evaluation results...\n"
     ]
    },
    {
     "name": "stderr",
     "output_type": "stream",
     "text": [
      "2021-05-14 12:47:27,082 - mmdet - INFO - Now best checkpoint is epoch_6.pth.Best bbox_mAP is 0.1100\n",
      "2021-05-14 12:47:27,088 - mmdet - INFO - Epoch(val) [6][655]\tbbox_mAP: 0.1100, bbox_mAP_50: 0.2090, bbox_mAP_75: 0.1070, bbox_mAP_s: 0.0230, bbox_mAP_m: 0.1140, bbox_mAP_l: 0.2040, bbox_mAP_copypaste: 0.110 0.209 0.107 0.023 0.114 0.204\n"
     ]
    },
    {
     "name": "stdout",
     "output_type": "stream",
     "text": [
      "DONE (t=1.34s).\n",
      "Average Precision  (AP) @[ IoU=0.50:0.95 | area=   all | maxDets=100 ] = 0.110\n",
      "Average Precision  (AP) @[ IoU=0.50      | area=   all | maxDets=1000 ] = 0.209\n",
      "Average Precision  (AP) @[ IoU=0.75      | area=   all | maxDets=1000 ] = 0.107\n",
      "Average Precision  (AP) @[ IoU=0.50:0.95 | area= small | maxDets=1000 ] = 0.023\n",
      "Average Precision  (AP) @[ IoU=0.50:0.95 | area=medium | maxDets=1000 ] = 0.114\n",
      "Average Precision  (AP) @[ IoU=0.50:0.95 | area= large | maxDets=1000 ] = 0.204\n",
      "Average Recall     (AR) @[ IoU=0.50:0.95 | area=   all | maxDets=100 ] = 0.265\n",
      "Average Recall     (AR) @[ IoU=0.50:0.95 | area=   all | maxDets=300 ] = 0.265\n",
      "Average Recall     (AR) @[ IoU=0.50:0.95 | area=   all | maxDets=1000 ] = 0.265\n",
      "Average Recall     (AR) @[ IoU=0.50:0.95 | area= small | maxDets=1000 ] = 0.070\n",
      "Average Recall     (AR) @[ IoU=0.50:0.95 | area=medium | maxDets=1000 ] = 0.248\n",
      "Average Recall     (AR) @[ IoU=0.50:0.95 | area= large | maxDets=1000 ] = 0.513\n"
     ]
    },
    {
     "name": "stderr",
     "output_type": "stream",
     "text": [
      "2021-05-14 12:47:44,077 - mmdet - INFO - Epoch [7][50/655]\tlr: 2.000e-02, eta: 0:12:47, time: 0.340, data_time: 0.050, memory: 1497, loss_rpn_cls: 0.0632, loss_rpn_bbox: 0.0086, loss_cls: 0.3523, acc: 89.3447, loss_bbox: 0.1590, loss: 0.5830, grad_norm: 1.9510\n",
      "2021-05-14 12:47:58,794 - mmdet - INFO - Epoch [7][100/655]\tlr: 2.000e-02, eta: 0:12:31, time: 0.294, data_time: 0.006, memory: 1497, loss_rpn_cls: 0.0610, loss_rpn_bbox: 0.0078, loss_cls: 0.3296, acc: 90.0771, loss_bbox: 0.1460, loss: 0.5444, grad_norm: 2.0368\n",
      "2021-05-14 12:48:13,547 - mmdet - INFO - Epoch [7][150/655]\tlr: 2.000e-02, eta: 0:12:16, time: 0.295, data_time: 0.006, memory: 1497, loss_rpn_cls: 0.0560, loss_rpn_bbox: 0.0065, loss_cls: 0.3387, acc: 89.7686, loss_bbox: 0.1449, loss: 0.5460, grad_norm: 1.9540\n",
      "2021-05-14 12:48:27,933 - mmdet - INFO - Epoch [7][200/655]\tlr: 2.000e-02, eta: 0:12:01, time: 0.288, data_time: 0.006, memory: 1497, loss_rpn_cls: 0.0586, loss_rpn_bbox: 0.0070, loss_cls: 0.3119, acc: 90.6514, loss_bbox: 0.1311, loss: 0.5087, grad_norm: 1.8706\n",
      "2021-05-14 12:48:42,874 - mmdet - INFO - Epoch [7][250/655]\tlr: 2.000e-02, eta: 0:11:46, time: 0.299, data_time: 0.006, memory: 1497, loss_rpn_cls: 0.0726, loss_rpn_bbox: 0.0075, loss_cls: 0.3651, acc: 89.1973, loss_bbox: 0.1489, loss: 0.5941, grad_norm: 2.1305\n",
      "2021-05-14 12:48:57,629 - mmdet - INFO - Epoch [7][300/655]\tlr: 2.000e-02, eta: 0:11:31, time: 0.295, data_time: 0.006, memory: 1497, loss_rpn_cls: 0.0550, loss_rpn_bbox: 0.0080, loss_cls: 0.3394, acc: 89.8291, loss_bbox: 0.1552, loss: 0.5576, grad_norm: 1.9010\n",
      "2021-05-14 12:49:12,265 - mmdet - INFO - Epoch [7][350/655]\tlr: 2.000e-02, eta: 0:11:16, time: 0.293, data_time: 0.006, memory: 1497, loss_rpn_cls: 0.0478, loss_rpn_bbox: 0.0072, loss_cls: 0.3244, acc: 90.0127, loss_bbox: 0.1490, loss: 0.5283, grad_norm: 1.8496\n",
      "2021-05-14 12:49:26,871 - mmdet - INFO - Epoch [7][400/655]\tlr: 2.000e-02, eta: 0:11:01, time: 0.292, data_time: 0.006, memory: 1497, loss_rpn_cls: 0.0556, loss_rpn_bbox: 0.0072, loss_cls: 0.3322, acc: 89.9131, loss_bbox: 0.1524, loss: 0.5474, grad_norm: 1.9918\n",
      "2021-05-14 12:49:41,404 - mmdet - INFO - Epoch [7][450/655]\tlr: 2.000e-02, eta: 0:10:46, time: 0.291, data_time: 0.006, memory: 1497, loss_rpn_cls: 0.0525, loss_rpn_bbox: 0.0077, loss_cls: 0.3319, acc: 89.8262, loss_bbox: 0.1457, loss: 0.5378, grad_norm: 1.9989\n",
      "2021-05-14 12:49:55,869 - mmdet - INFO - Epoch [7][500/655]\tlr: 2.000e-02, eta: 0:10:31, time: 0.289, data_time: 0.006, memory: 1497, loss_rpn_cls: 0.0539, loss_rpn_bbox: 0.0068, loss_cls: 0.2977, acc: 91.0283, loss_bbox: 0.1332, loss: 0.4916, grad_norm: 1.9542\n",
      "2021-05-14 12:50:10,624 - mmdet - INFO - Epoch [7][550/655]\tlr: 2.000e-02, eta: 0:10:16, time: 0.295, data_time: 0.006, memory: 1497, loss_rpn_cls: 0.0588, loss_rpn_bbox: 0.0078, loss_cls: 0.3103, acc: 90.4395, loss_bbox: 0.1410, loss: 0.5180, grad_norm: 2.1237\n",
      "2021-05-14 12:50:25,965 - mmdet - INFO - Epoch [7][600/655]\tlr: 2.000e-02, eta: 0:10:01, time: 0.307, data_time: 0.006, memory: 1497, loss_rpn_cls: 0.0567, loss_rpn_bbox: 0.0061, loss_cls: 0.3133, acc: 90.7070, loss_bbox: 0.1354, loss: 0.5114, grad_norm: 1.9477\n",
      "2021-05-14 12:50:40,427 - mmdet - INFO - Epoch [7][650/655]\tlr: 2.000e-02, eta: 0:09:46, time: 0.289, data_time: 0.006, memory: 1497, loss_rpn_cls: 0.0472, loss_rpn_bbox: 0.0063, loss_cls: 0.2861, acc: 91.0859, loss_bbox: 0.1324, loss: 0.4720, grad_norm: 1.9084\n",
      "2021-05-14 12:50:42,000 - mmdet - INFO - Saving checkpoint at 7 epochs\n"
     ]
    },
    {
     "name": "stdout",
     "output_type": "stream",
     "text": [
      "[>>>>>>>>>>>>>>>>>>>>>>>>>>>>>] 655/655, 22.7 task/s, elapsed: 29s, ETA:     0s"
     ]
    },
    {
     "name": "stderr",
     "output_type": "stream",
     "text": [
      "2021-05-14 12:51:12,961 - mmdet - INFO - Evaluating bbox...\n"
     ]
    },
    {
     "name": "stdout",
     "output_type": "stream",
     "text": [
      "Loading and preparing results...\n",
      "DONE (t=0.70s)\n",
      "creating index...\n",
      "index created!\n",
      "Running per image evaluation...\n",
      "Evaluate annotation type *bbox*\n",
      "DONE (t=7.44s).\n",
      "Accumulating evaluation results...\n"
     ]
    },
    {
     "name": "stderr",
     "output_type": "stream",
     "text": [
      "2021-05-14 12:51:22,594 - mmdet - INFO - Now best checkpoint is epoch_7.pth.Best bbox_mAP is 0.1140\n",
      "2021-05-14 12:51:22,602 - mmdet - INFO - Epoch(val) [7][655]\tbbox_mAP: 0.1140, bbox_mAP_50: 0.2130, bbox_mAP_75: 0.1100, bbox_mAP_s: 0.0250, bbox_mAP_m: 0.1120, bbox_mAP_l: 0.2050, bbox_mAP_copypaste: 0.114 0.213 0.110 0.025 0.112 0.205\n"
     ]
    },
    {
     "name": "stdout",
     "output_type": "stream",
     "text": [
      "DONE (t=1.36s).\n",
      "Average Precision  (AP) @[ IoU=0.50:0.95 | area=   all | maxDets=100 ] = 0.114\n",
      "Average Precision  (AP) @[ IoU=0.50      | area=   all | maxDets=1000 ] = 0.213\n",
      "Average Precision  (AP) @[ IoU=0.75      | area=   all | maxDets=1000 ] = 0.110\n",
      "Average Precision  (AP) @[ IoU=0.50:0.95 | area= small | maxDets=1000 ] = 0.025\n",
      "Average Precision  (AP) @[ IoU=0.50:0.95 | area=medium | maxDets=1000 ] = 0.112\n",
      "Average Precision  (AP) @[ IoU=0.50:0.95 | area= large | maxDets=1000 ] = 0.205\n",
      "Average Recall     (AR) @[ IoU=0.50:0.95 | area=   all | maxDets=100 ] = 0.257\n",
      "Average Recall     (AR) @[ IoU=0.50:0.95 | area=   all | maxDets=300 ] = 0.257\n",
      "Average Recall     (AR) @[ IoU=0.50:0.95 | area=   all | maxDets=1000 ] = 0.257\n",
      "Average Recall     (AR) @[ IoU=0.50:0.95 | area= small | maxDets=1000 ] = 0.094\n",
      "Average Recall     (AR) @[ IoU=0.50:0.95 | area=medium | maxDets=1000 ] = 0.251\n",
      "Average Recall     (AR) @[ IoU=0.50:0.95 | area= large | maxDets=1000 ] = 0.426\n"
     ]
    },
    {
     "name": "stderr",
     "output_type": "stream",
     "text": [
      "2021-05-14 12:51:39,479 - mmdet - INFO - Epoch [8][50/655]\tlr: 2.000e-02, eta: 0:09:30, time: 0.337, data_time: 0.050, memory: 1497, loss_rpn_cls: 0.0513, loss_rpn_bbox: 0.0077, loss_cls: 0.3064, acc: 90.4766, loss_bbox: 0.1414, loss: 0.5068, grad_norm: 1.9174\n",
      "2021-05-14 12:51:54,143 - mmdet - INFO - Epoch [8][100/655]\tlr: 2.000e-02, eta: 0:09:15, time: 0.293, data_time: 0.006, memory: 1497, loss_rpn_cls: 0.0444, loss_rpn_bbox: 0.0072, loss_cls: 0.3061, acc: 90.5332, loss_bbox: 0.1357, loss: 0.4933, grad_norm: 1.9153\n",
      "2021-05-14 12:52:08,811 - mmdet - INFO - Epoch [8][150/655]\tlr: 2.000e-02, eta: 0:09:00, time: 0.293, data_time: 0.006, memory: 1497, loss_rpn_cls: 0.0476, loss_rpn_bbox: 0.0066, loss_cls: 0.2952, acc: 90.8740, loss_bbox: 0.1334, loss: 0.4828, grad_norm: 1.8378\n",
      "2021-05-14 12:52:23,427 - mmdet - INFO - Epoch [8][200/655]\tlr: 2.000e-02, eta: 0:08:45, time: 0.292, data_time: 0.006, memory: 1497, loss_rpn_cls: 0.0459, loss_rpn_bbox: 0.0062, loss_cls: 0.2994, acc: 90.7656, loss_bbox: 0.1352, loss: 0.4868, grad_norm: 1.9363\n",
      "2021-05-14 12:52:38,224 - mmdet - INFO - Epoch [8][250/655]\tlr: 2.000e-02, eta: 0:08:30, time: 0.296, data_time: 0.006, memory: 1497, loss_rpn_cls: 0.0565, loss_rpn_bbox: 0.0076, loss_cls: 0.3276, acc: 89.8730, loss_bbox: 0.1492, loss: 0.5409, grad_norm: 2.1099\n",
      "2021-05-14 12:52:52,938 - mmdet - INFO - Epoch [8][300/655]\tlr: 2.000e-02, eta: 0:08:15, time: 0.294, data_time: 0.006, memory: 1497, loss_rpn_cls: 0.0491, loss_rpn_bbox: 0.0072, loss_cls: 0.3030, acc: 90.5273, loss_bbox: 0.1369, loss: 0.4961, grad_norm: 2.0194\n",
      "2021-05-14 12:53:07,867 - mmdet - INFO - Epoch [8][350/655]\tlr: 2.000e-02, eta: 0:08:00, time: 0.299, data_time: 0.006, memory: 1497, loss_rpn_cls: 0.0442, loss_rpn_bbox: 0.0058, loss_cls: 0.3138, acc: 90.2520, loss_bbox: 0.1399, loss: 0.5037, grad_norm: 2.1197\n",
      "2021-05-14 12:53:22,752 - mmdet - INFO - Epoch [8][400/655]\tlr: 2.000e-02, eta: 0:07:45, time: 0.298, data_time: 0.006, memory: 1497, loss_rpn_cls: 0.0482, loss_rpn_bbox: 0.0066, loss_cls: 0.3164, acc: 90.2910, loss_bbox: 0.1454, loss: 0.5166, grad_norm: 2.1241\n",
      "2021-05-14 12:53:37,156 - mmdet - INFO - Epoch [8][450/655]\tlr: 2.000e-02, eta: 0:07:30, time: 0.288, data_time: 0.006, memory: 1497, loss_rpn_cls: 0.0558, loss_rpn_bbox: 0.0079, loss_cls: 0.3093, acc: 90.5078, loss_bbox: 0.1423, loss: 0.5153, grad_norm: 1.9616\n",
      "2021-05-14 12:53:51,606 - mmdet - INFO - Epoch [8][500/655]\tlr: 2.000e-02, eta: 0:07:15, time: 0.289, data_time: 0.006, memory: 1497, loss_rpn_cls: 0.0501, loss_rpn_bbox: 0.0078, loss_cls: 0.3122, acc: 90.2969, loss_bbox: 0.1473, loss: 0.5174, grad_norm: 1.9641\n",
      "2021-05-14 12:54:06,248 - mmdet - INFO - Epoch [8][550/655]\tlr: 2.000e-02, eta: 0:07:01, time: 0.293, data_time: 0.006, memory: 1497, loss_rpn_cls: 0.0489, loss_rpn_bbox: 0.0070, loss_cls: 0.3221, acc: 90.1904, loss_bbox: 0.1430, loss: 0.5210, grad_norm: 2.1386\n",
      "2021-05-14 12:54:21,103 - mmdet - INFO - Epoch [8][600/655]\tlr: 2.000e-02, eta: 0:06:46, time: 0.297, data_time: 0.006, memory: 1497, loss_rpn_cls: 0.0533, loss_rpn_bbox: 0.0063, loss_cls: 0.3060, acc: 90.9395, loss_bbox: 0.1327, loss: 0.4982, grad_norm: 1.9749\n",
      "2021-05-14 12:54:35,733 - mmdet - INFO - Epoch [8][650/655]\tlr: 2.000e-02, eta: 0:06:31, time: 0.293, data_time: 0.006, memory: 1497, loss_rpn_cls: 0.0586, loss_rpn_bbox: 0.0072, loss_cls: 0.3234, acc: 90.3887, loss_bbox: 0.1346, loss: 0.5237, grad_norm: 2.1070\n",
      "2021-05-14 12:54:37,236 - mmdet - INFO - Saving checkpoint at 8 epochs\n"
     ]
    },
    {
     "name": "stdout",
     "output_type": "stream",
     "text": [
      "[>>>>>>>>>>>>>>>>>>>>>>>>>>>>>] 655/655, 22.8 task/s, elapsed: 29s, ETA:     0s"
     ]
    },
    {
     "name": "stderr",
     "output_type": "stream",
     "text": [
      "2021-05-14 12:55:07,977 - mmdet - INFO - Evaluating bbox...\n"
     ]
    },
    {
     "name": "stdout",
     "output_type": "stream",
     "text": [
      "Loading and preparing results...\n",
      "DONE (t=0.67s)\n",
      "creating index...\n",
      "index created!\n",
      "Running per image evaluation...\n",
      "Evaluate annotation type *bbox*\n",
      "DONE (t=7.24s).\n",
      "Accumulating evaluation results...\n"
     ]
    },
    {
     "name": "stderr",
     "output_type": "stream",
     "text": [
      "2021-05-14 12:55:17,227 - mmdet - INFO - Now best checkpoint is epoch_8.pth.Best bbox_mAP is 0.1150\n",
      "2021-05-14 12:55:17,234 - mmdet - INFO - Epoch(val) [8][655]\tbbox_mAP: 0.1150, bbox_mAP_50: 0.2100, bbox_mAP_75: 0.1170, bbox_mAP_s: 0.0230, bbox_mAP_m: 0.1090, bbox_mAP_l: 0.2290, bbox_mAP_copypaste: 0.115 0.210 0.117 0.023 0.109 0.229\n"
     ]
    },
    {
     "name": "stdout",
     "output_type": "stream",
     "text": [
      "DONE (t=1.24s).\n",
      "Average Precision  (AP) @[ IoU=0.50:0.95 | area=   all | maxDets=100 ] = 0.115\n",
      "Average Precision  (AP) @[ IoU=0.50      | area=   all | maxDets=1000 ] = 0.210\n",
      "Average Precision  (AP) @[ IoU=0.75      | area=   all | maxDets=1000 ] = 0.117\n",
      "Average Precision  (AP) @[ IoU=0.50:0.95 | area= small | maxDets=1000 ] = 0.023\n",
      "Average Precision  (AP) @[ IoU=0.50:0.95 | area=medium | maxDets=1000 ] = 0.109\n",
      "Average Precision  (AP) @[ IoU=0.50:0.95 | area= large | maxDets=1000 ] = 0.229\n",
      "Average Recall     (AR) @[ IoU=0.50:0.95 | area=   all | maxDets=100 ] = 0.257\n",
      "Average Recall     (AR) @[ IoU=0.50:0.95 | area=   all | maxDets=300 ] = 0.257\n",
      "Average Recall     (AR) @[ IoU=0.50:0.95 | area=   all | maxDets=1000 ] = 0.257\n",
      "Average Recall     (AR) @[ IoU=0.50:0.95 | area= small | maxDets=1000 ] = 0.060\n",
      "Average Recall     (AR) @[ IoU=0.50:0.95 | area=medium | maxDets=1000 ] = 0.223\n",
      "Average Recall     (AR) @[ IoU=0.50:0.95 | area= large | maxDets=1000 ] = 0.473\n"
     ]
    },
    {
     "name": "stderr",
     "output_type": "stream",
     "text": [
      "2021-05-14 12:55:34,281 - mmdet - INFO - Epoch [9][50/655]\tlr: 2.000e-03, eta: 0:06:14, time: 0.341, data_time: 0.050, memory: 1497, loss_rpn_cls: 0.0390, loss_rpn_bbox: 0.0067, loss_cls: 0.2838, acc: 91.3545, loss_bbox: 0.1292, loss: 0.4587, grad_norm: 1.7763\n",
      "2021-05-14 12:55:48,755 - mmdet - INFO - Epoch [9][100/655]\tlr: 2.000e-03, eta: 0:06:00, time: 0.289, data_time: 0.006, memory: 1497, loss_rpn_cls: 0.0314, loss_rpn_bbox: 0.0052, loss_cls: 0.2240, acc: 92.7520, loss_bbox: 0.1018, loss: 0.3624, grad_norm: 1.5635\n",
      "2021-05-14 12:56:03,455 - mmdet - INFO - Epoch [9][150/655]\tlr: 2.000e-03, eta: 0:05:45, time: 0.294, data_time: 0.006, memory: 1497, loss_rpn_cls: 0.0309, loss_rpn_bbox: 0.0051, loss_cls: 0.2562, acc: 91.7480, loss_bbox: 0.1241, loss: 0.4164, grad_norm: 1.6472\n",
      "2021-05-14 12:56:18,352 - mmdet - INFO - Epoch [9][200/655]\tlr: 2.000e-03, eta: 0:05:30, time: 0.298, data_time: 0.006, memory: 1497, loss_rpn_cls: 0.0327, loss_rpn_bbox: 0.0060, loss_cls: 0.2697, acc: 91.2822, loss_bbox: 0.1291, loss: 0.4376, grad_norm: 1.6864\n",
      "2021-05-14 12:56:32,944 - mmdet - INFO - Epoch [9][250/655]\tlr: 2.000e-03, eta: 0:05:15, time: 0.292, data_time: 0.006, memory: 1497, loss_rpn_cls: 0.0310, loss_rpn_bbox: 0.0059, loss_cls: 0.2603, acc: 91.8018, loss_bbox: 0.1225, loss: 0.4197, grad_norm: 1.6712\n",
      "2021-05-14 12:56:47,673 - mmdet - INFO - Epoch [9][300/655]\tlr: 2.000e-03, eta: 0:05:00, time: 0.295, data_time: 0.006, memory: 1497, loss_rpn_cls: 0.0299, loss_rpn_bbox: 0.0057, loss_cls: 0.2708, acc: 91.4102, loss_bbox: 0.1236, loss: 0.4299, grad_norm: 1.7408\n",
      "2021-05-14 12:57:02,506 - mmdet - INFO - Epoch [9][350/655]\tlr: 2.000e-03, eta: 0:04:45, time: 0.297, data_time: 0.006, memory: 1497, loss_rpn_cls: 0.0308, loss_rpn_bbox: 0.0049, loss_cls: 0.2392, acc: 92.2480, loss_bbox: 0.1102, loss: 0.3851, grad_norm: 1.7105\n",
      "2021-05-14 12:57:17,005 - mmdet - INFO - Epoch [9][400/655]\tlr: 2.000e-03, eta: 0:04:30, time: 0.290, data_time: 0.006, memory: 1497, loss_rpn_cls: 0.0316, loss_rpn_bbox: 0.0052, loss_cls: 0.2438, acc: 92.1855, loss_bbox: 0.1183, loss: 0.3989, grad_norm: 1.7022\n",
      "2021-05-14 12:57:31,830 - mmdet - INFO - Epoch [9][450/655]\tlr: 2.000e-03, eta: 0:04:15, time: 0.296, data_time: 0.006, memory: 1497, loss_rpn_cls: 0.0299, loss_rpn_bbox: 0.0059, loss_cls: 0.2667, acc: 91.3457, loss_bbox: 0.1284, loss: 0.4309, grad_norm: 1.7110\n",
      "2021-05-14 12:57:46,932 - mmdet - INFO - Epoch [9][500/655]\tlr: 2.000e-03, eta: 0:04:00, time: 0.302, data_time: 0.006, memory: 1497, loss_rpn_cls: 0.0359, loss_rpn_bbox: 0.0058, loss_cls: 0.2691, acc: 91.2676, loss_bbox: 0.1316, loss: 0.4424, grad_norm: 1.7927\n",
      "2021-05-14 12:58:01,619 - mmdet - INFO - Epoch [9][550/655]\tlr: 2.000e-03, eta: 0:03:45, time: 0.294, data_time: 0.006, memory: 1497, loss_rpn_cls: 0.0362, loss_rpn_bbox: 0.0073, loss_cls: 0.2782, acc: 90.8584, loss_bbox: 0.1435, loss: 0.4652, grad_norm: 1.8306\n",
      "2021-05-14 12:58:16,303 - mmdet - INFO - Epoch [9][600/655]\tlr: 2.000e-03, eta: 0:03:31, time: 0.294, data_time: 0.006, memory: 1497, loss_rpn_cls: 0.0313, loss_rpn_bbox: 0.0066, loss_cls: 0.2633, acc: 91.4756, loss_bbox: 0.1282, loss: 0.4294, grad_norm: 1.7235\n",
      "2021-05-14 12:58:30,689 - mmdet - INFO - Epoch [9][650/655]\tlr: 2.000e-03, eta: 0:03:16, time: 0.288, data_time: 0.006, memory: 1497, loss_rpn_cls: 0.0295, loss_rpn_bbox: 0.0050, loss_cls: 0.2382, acc: 92.3428, loss_bbox: 0.1116, loss: 0.3844, grad_norm: 1.7159\n",
      "2021-05-14 12:58:32,169 - mmdet - INFO - Saving checkpoint at 9 epochs\n"
     ]
    },
    {
     "name": "stdout",
     "output_type": "stream",
     "text": [
      "[>>>>>>>>>>>>>>>>>>>>>>>>>>>>>] 655/655, 22.2 task/s, elapsed: 29s, ETA:     0s"
     ]
    },
    {
     "name": "stderr",
     "output_type": "stream",
     "text": [
      "2021-05-14 12:59:03,737 - mmdet - INFO - Evaluating bbox...\n"
     ]
    },
    {
     "name": "stdout",
     "output_type": "stream",
     "text": [
      "Loading and preparing results...\n",
      "DONE (t=0.67s)\n",
      "creating index...\n",
      "index created!\n",
      "Running per image evaluation...\n",
      "Evaluate annotation type *bbox*\n",
      "DONE (t=6.78s).\n",
      "Accumulating evaluation results...\n"
     ]
    },
    {
     "name": "stderr",
     "output_type": "stream",
     "text": [
      "2021-05-14 12:59:12,521 - mmdet - INFO - Now best checkpoint is epoch_9.pth.Best bbox_mAP is 0.1570\n",
      "2021-05-14 12:59:12,527 - mmdet - INFO - Epoch(val) [9][655]\tbbox_mAP: 0.1570, bbox_mAP_50: 0.2730, bbox_mAP_75: 0.1540, bbox_mAP_s: 0.0330, bbox_mAP_m: 0.1460, bbox_mAP_l: 0.2910, bbox_mAP_copypaste: 0.157 0.273 0.154 0.033 0.146 0.291\n"
     ]
    },
    {
     "name": "stdout",
     "output_type": "stream",
     "text": [
      "DONE (t=1.23s).\n",
      "Average Precision  (AP) @[ IoU=0.50:0.95 | area=   all | maxDets=100 ] = 0.157\n",
      "Average Precision  (AP) @[ IoU=0.50      | area=   all | maxDets=1000 ] = 0.273\n",
      "Average Precision  (AP) @[ IoU=0.75      | area=   all | maxDets=1000 ] = 0.154\n",
      "Average Precision  (AP) @[ IoU=0.50:0.95 | area= small | maxDets=1000 ] = 0.033\n",
      "Average Precision  (AP) @[ IoU=0.50:0.95 | area=medium | maxDets=1000 ] = 0.146\n",
      "Average Precision  (AP) @[ IoU=0.50:0.95 | area= large | maxDets=1000 ] = 0.291\n",
      "Average Recall     (AR) @[ IoU=0.50:0.95 | area=   all | maxDets=100 ] = 0.333\n",
      "Average Recall     (AR) @[ IoU=0.50:0.95 | area=   all | maxDets=300 ] = 0.333\n",
      "Average Recall     (AR) @[ IoU=0.50:0.95 | area=   all | maxDets=1000 ] = 0.333\n",
      "Average Recall     (AR) @[ IoU=0.50:0.95 | area= small | maxDets=1000 ] = 0.098\n",
      "Average Recall     (AR) @[ IoU=0.50:0.95 | area=medium | maxDets=1000 ] = 0.309\n",
      "Average Recall     (AR) @[ IoU=0.50:0.95 | area= large | maxDets=1000 ] = 0.578\n"
     ]
    },
    {
     "name": "stderr",
     "output_type": "stream",
     "text": [
      "2021-05-14 12:59:29,448 - mmdet - INFO - Epoch [10][50/655]\tlr: 2.000e-03, eta: 0:02:59, time: 0.338, data_time: 0.050, memory: 1497, loss_rpn_cls: 0.0315, loss_rpn_bbox: 0.0067, loss_cls: 0.2672, acc: 91.6064, loss_bbox: 0.1312, loss: 0.4366, grad_norm: 1.7176\n",
      "2021-05-14 12:59:43,912 - mmdet - INFO - Epoch [10][100/655]\tlr: 2.000e-03, eta: 0:02:44, time: 0.289, data_time: 0.006, memory: 1497, loss_rpn_cls: 0.0245, loss_rpn_bbox: 0.0046, loss_cls: 0.2217, acc: 92.6914, loss_bbox: 0.1080, loss: 0.3588, grad_norm: 1.6090\n",
      "2021-05-14 12:59:58,435 - mmdet - INFO - Epoch [10][150/655]\tlr: 2.000e-03, eta: 0:02:30, time: 0.290, data_time: 0.006, memory: 1497, loss_rpn_cls: 0.0232, loss_rpn_bbox: 0.0047, loss_cls: 0.2289, acc: 92.6123, loss_bbox: 0.1092, loss: 0.3660, grad_norm: 1.6370\n",
      "2021-05-14 13:00:12,929 - mmdet - INFO - Epoch [10][200/655]\tlr: 2.000e-03, eta: 0:02:15, time: 0.290, data_time: 0.006, memory: 1497, loss_rpn_cls: 0.0242, loss_rpn_bbox: 0.0047, loss_cls: 0.2166, acc: 92.9033, loss_bbox: 0.1032, loss: 0.3486, grad_norm: 1.6198\n",
      "2021-05-14 13:00:27,338 - mmdet - INFO - Epoch [10][250/655]\tlr: 2.000e-03, eta: 0:02:00, time: 0.288, data_time: 0.006, memory: 1497, loss_rpn_cls: 0.0277, loss_rpn_bbox: 0.0052, loss_cls: 0.2362, acc: 92.3887, loss_bbox: 0.1138, loss: 0.3829, grad_norm: 1.7868\n",
      "2021-05-14 13:00:41,731 - mmdet - INFO - Epoch [10][300/655]\tlr: 2.000e-03, eta: 0:01:45, time: 0.288, data_time: 0.006, memory: 1497, loss_rpn_cls: 0.0250, loss_rpn_bbox: 0.0046, loss_cls: 0.2228, acc: 92.6133, loss_bbox: 0.1060, loss: 0.3584, grad_norm: 1.7175\n",
      "2021-05-14 13:00:56,034 - mmdet - INFO - Epoch [10][350/655]\tlr: 2.000e-03, eta: 0:01:30, time: 0.286, data_time: 0.006, memory: 1497, loss_rpn_cls: 0.0249, loss_rpn_bbox: 0.0045, loss_cls: 0.2274, acc: 92.5039, loss_bbox: 0.1098, loss: 0.3665, grad_norm: 1.7145\n",
      "2021-05-14 13:01:10,547 - mmdet - INFO - Epoch [10][400/655]\tlr: 2.000e-03, eta: 0:01:15, time: 0.290, data_time: 0.006, memory: 1497, loss_rpn_cls: 0.0258, loss_rpn_bbox: 0.0053, loss_cls: 0.2400, acc: 92.0205, loss_bbox: 0.1220, loss: 0.3931, grad_norm: 1.7902\n",
      "2021-05-14 13:01:24,976 - mmdet - INFO - Epoch [10][450/655]\tlr: 2.000e-03, eta: 0:01:00, time: 0.289, data_time: 0.006, memory: 1497, loss_rpn_cls: 0.0302, loss_rpn_bbox: 0.0057, loss_cls: 0.2622, acc: 91.5645, loss_bbox: 0.1272, loss: 0.4254, grad_norm: 1.8959\n",
      "2021-05-14 13:01:39,611 - mmdet - INFO - Epoch [10][500/655]\tlr: 2.000e-03, eta: 0:00:45, time: 0.293, data_time: 0.006, memory: 1497, loss_rpn_cls: 0.0334, loss_rpn_bbox: 0.0062, loss_cls: 0.2579, acc: 91.4121, loss_bbox: 0.1306, loss: 0.4280, grad_norm: 1.8459\n",
      "2021-05-14 13:01:54,222 - mmdet - INFO - Epoch [10][550/655]\tlr: 2.000e-03, eta: 0:00:31, time: 0.292, data_time: 0.006, memory: 1497, loss_rpn_cls: 0.0276, loss_rpn_bbox: 0.0061, loss_cls: 0.2527, acc: 91.7637, loss_bbox: 0.1258, loss: 0.4123, grad_norm: 1.8206\n",
      "2021-05-14 13:02:08,849 - mmdet - INFO - Epoch [10][600/655]\tlr: 2.000e-03, eta: 0:00:16, time: 0.293, data_time: 0.006, memory: 1497, loss_rpn_cls: 0.0300, loss_rpn_bbox: 0.0061, loss_cls: 0.2374, acc: 92.1787, loss_bbox: 0.1200, loss: 0.3935, grad_norm: 1.7751\n",
      "2021-05-14 13:02:23,522 - mmdet - INFO - Epoch [10][650/655]\tlr: 2.000e-03, eta: 0:00:01, time: 0.293, data_time: 0.006, memory: 1497, loss_rpn_cls: 0.0266, loss_rpn_bbox: 0.0063, loss_cls: 0.2414, acc: 92.0078, loss_bbox: 0.1168, loss: 0.3911, grad_norm: 1.8290\n",
      "2021-05-14 13:02:25,038 - mmdet - INFO - Saving checkpoint at 10 epochs\n"
     ]
    },
    {
     "name": "stdout",
     "output_type": "stream",
     "text": [
      "[>>>>>>>>>>>>                 ] 284/655, 22.5 task/s, elapsed: 13s, ETA:    17s"
     ]
    },
    {
     "name": "stderr",
     "output_type": "stream",
     "text": [
      "IOPub message rate exceeded.\n",
      "The Jupyter server will temporarily stop sending output\n",
      "to the client in order to avoid crashing it.\n",
      "To change this limit, set the config variable\n",
      "`--ServerApp.iopub_msg_rate_limit`.\n",
      "\n",
      "Current values:\n",
      "ServerApp.iopub_msg_rate_limit=1000.0 (msgs/sec)\n",
      "ServerApp.rate_limit_window=3.0 (secs)\n",
      "\n"
     ]
    }
   ],
   "source": [
    "grid_train(cfg_list)"
   ]
  },
  {
   "cell_type": "code",
   "execution_count": 6,
   "metadata": {},
   "outputs": [
    {
     "data": {
      "text/plain": [
       "0"
      ]
     },
     "execution_count": 6,
     "metadata": {},
     "output_type": "execute_result"
    }
   ],
   "source": [
    "\n",
    "a = os.system(\"echo 1\")\n",
    "a"
   ]
  },
  {
   "cell_type": "code",
   "execution_count": null,
   "metadata": {},
   "outputs": [],
   "source": []
  }
 ],
 "metadata": {
  "kernelspec": {
   "display_name": "Python 3",
   "language": "python",
   "name": "python3"
  },
  "language_info": {
   "codemirror_mode": {
    "name": "ipython",
    "version": 3
   },
   "file_extension": ".py",
   "mimetype": "text/x-python",
   "name": "python",
   "nbconvert_exporter": "python",
   "pygments_lexer": "ipython3",
   "version": "3.7.7"
  },
  "pycharm": {
   "stem_cell": {
    "cell_type": "raw",
    "metadata": {
     "collapsed": false
    },
    "source": []
   }
  }
 },
 "nbformat": 4,
 "nbformat_minor": 4
}
