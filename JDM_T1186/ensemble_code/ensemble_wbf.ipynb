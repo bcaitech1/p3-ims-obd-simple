{
 "cells": [
  {
   "cell_type": "code",
   "execution_count": 1,
   "id": "1b9bccc1-b5f2-4826-82a5-b3b7aa746906",
   "metadata": {},
   "outputs": [
    {
     "name": "stdout",
     "output_type": "stream",
     "text": [
      "apex is not installed\n"
     ]
    }
   ],
   "source": [
    "import mmcv\n",
    "from mmcv import Config\n",
    "from mmdet.datasets import (build_dataloader, build_dataset,\n",
    "                            replace_ImageToTensor)\n",
    "from mmdet.models import build_detector\n",
    "from mmdet.apis import single_gpu_test\n",
    "from mmcv.runner import load_checkpoint\n",
    "import os\n",
    "from mmcv.parallel import MMDataParallel\n",
    "import pandas as pd\n",
    "from pandas import DataFrame\n",
    "from pycocotools.coco import COCO\n",
    "\n",
    "\n",
    "import numpy as np\n",
    "\n",
    "from ensemble_boxes import *"
   ]
  },
  {
   "cell_type": "code",
   "execution_count": 31,
   "id": "ce1c8c5d-98d1-4217-949c-4f8e61a2a78b",
   "metadata": {},
   "outputs": [],
   "source": [
    "dir = './ensemble'\n",
    "# ensemble csv files\n",
    "submission_files = [#'/submission_12_1.csv', # cascade_mask_rcnn_(backbone-swin-t)_(epoch-40) lb: 0.4063\n",
    "                    '/submission_40.csv',  # cascade_mask_rcnn_(backbone-swin-t)_(epoch-40) lb: 0.4576\n",
    "                    '/output.csv',  # cascade_mask_rcnn(backbone-swin-s)_(epoch-36)_재경님꺼 lb:0.4151\n",
    "#                   '/output12.csv', # detectors\n",
    "#                   '/output123.csv', # cascade rcnn\n",
    "                    '/submission_10.csv', # mask_rcnn_(backbone-swin)_(epoch-10)_(load_from_github_model) lb:0.4337\n",
    "                    '/vfnet.csv', # vfnet 동주님꺼 lb: 0.4587\n",
    "#                     '/vfnet_18.csv', # vfnet 동주님꺼 lb: 0.44\n",
    "                    '/vfnet_24.csv', # vfnet 동주님꺼 lb: 0.4640\n",
    "                    '/cascade_mask_rcnn_(backbone-swin)_(epoch-10)_(load_from_github_model)_(image_size=1333x800).csv', # lb:0.4640\n",
    "#                     '/universenet101_base_20epoch.csv', # lb: 0.5168\n",
    "#                     '/cascade_mask_rcnn_(backbone-swin)_(epoch-10)_(load_from_github_model)_(image_size=1024x1024_추가학습).csv'# 안내봄\n",
    "    '/universenet101_pseudo (1).csv'\n",
    "] \n",
    "\n",
    "submission_df = [pd.read_csv(dir+ file) for file in submission_files]"
   ]
  },
  {
   "cell_type": "code",
   "execution_count": 32,
   "id": "0a693e35-17be-4224-9f32-07d475098de2",
   "metadata": {},
   "outputs": [],
   "source": [
    "image_ids = submission_df[0]['image_id'].tolist()"
   ]
  },
  {
   "cell_type": "code",
   "execution_count": 33,
   "id": "170454fa-791a-418a-b944-f9de3fbdc6b6",
   "metadata": {},
   "outputs": [
    {
     "name": "stdout",
     "output_type": "stream",
     "text": [
      "loading annotations into memory...\n",
      "Done (t=0.00s)\n",
      "creating index...\n",
      "index created!\n"
     ]
    }
   ],
   "source": [
    "annotation = '../../input/data/test.json'\n",
    "coco = COCO(annotation)"
   ]
  },
  {
   "cell_type": "code",
   "execution_count": 34,
   "id": "aa02b55c-78f7-473e-9397-dd74e3adfc0e",
   "metadata": {},
   "outputs": [],
   "source": [
    "prediction_strings = []\n",
    "file_names = []\n",
    "iou_thr = 0.6\n",
    "\n",
    "for i, image_id in enumerate(image_ids):\n",
    "    prediction_string = ''\n",
    "    boxes_list = []\n",
    "    scores_list = []\n",
    "    labels_list = []\n",
    "    image_info = coco.loadImgs(i)[0]\n",
    "    for df in submission_df:\n",
    "        predict_string = df[df['image_id'] == image_id]['PredictionString'].tolist()[0]\n",
    "        predict_list = str(predict_string).split()\n",
    "        if len(predict_list)==0 or len(predict_list)==1:\n",
    "            continue\n",
    "        predict_list = np.reshape(predict_list, (-1, 6))\n",
    "        box_list = []\n",
    "        for box in predict_list[:, 2:6].tolist():\n",
    "            box[0] = float(box[0]) / image_info['width']\n",
    "            box[1] = float(box[1]) / image_info['height']\n",
    "            box[2] = float(box[2]) / image_info['width']\n",
    "            box[3] = float(box[3]) / image_info['height']\n",
    "            box_list.append(box)\n",
    "        boxes_list.append(box_list)\n",
    "        scores_list.append(list(map(float, predict_list[:, 1].tolist())))\n",
    "        labels_list.append(list(map(int, predict_list[:, 0].tolist())))\n",
    "    \n",
    "    if len(boxes_list):\n",
    "#         boxes, scores, labels = nms(boxes_list, scores_list, labels_list, iou_thr=iou_thr)\n",
    "        boxes, scores, labels = weighted_boxes_fusion(boxes_list, scores_list, labels_list, iou_thr=iou_thr, skip_box_thr=0.0001)\n",
    "        labels = np.array(labels, dtype='int64')\n",
    "        for box, score, label in zip(boxes, scores, labels):\n",
    "            prediction_string += str(label) + ' ' + str(score) + ' ' + str(box[0] * image_info['width']) + ' ' + str(box[1] * image_info['height']) + ' ' + str(box[2] * image_info['width']) + ' ' + str(box[3] * image_info['height']) + ' '\n",
    "    \n",
    "    prediction_strings.append(prediction_string)\n",
    "    file_names.append(image_id)"
   ]
  },
  {
   "cell_type": "code",
   "execution_count": 35,
   "id": "0e4989fd-ed7e-4234-8147-339438fd3ea9",
   "metadata": {},
   "outputs": [
    {
     "data": {
      "text/html": [
       "<div>\n",
       "<style scoped>\n",
       "    .dataframe tbody tr th:only-of-type {\n",
       "        vertical-align: middle;\n",
       "    }\n",
       "\n",
       "    .dataframe tbody tr th {\n",
       "        vertical-align: top;\n",
       "    }\n",
       "\n",
       "    .dataframe thead th {\n",
       "        text-align: right;\n",
       "    }\n",
       "</style>\n",
       "<table border=\"1\" class=\"dataframe\">\n",
       "  <thead>\n",
       "    <tr style=\"text-align: right;\">\n",
       "      <th></th>\n",
       "      <th>PredictionString</th>\n",
       "      <th>image_id</th>\n",
       "    </tr>\n",
       "  </thead>\n",
       "  <tbody>\n",
       "    <tr>\n",
       "      <th>0</th>\n",
       "      <td>8 0.6958047151565552 173.77989196777344 235.76...</td>\n",
       "      <td>batch_01_vt/0021.jpg</td>\n",
       "    </tr>\n",
       "    <tr>\n",
       "      <th>1</th>\n",
       "      <td>8 0.6081427335739136 158.21490478515625 61.387...</td>\n",
       "      <td>batch_01_vt/0028.jpg</td>\n",
       "    </tr>\n",
       "    <tr>\n",
       "      <th>2</th>\n",
       "      <td>1 0.5900605916976929 70.49398040771484 168.161...</td>\n",
       "      <td>batch_01_vt/0031.jpg</td>\n",
       "    </tr>\n",
       "    <tr>\n",
       "      <th>3</th>\n",
       "      <td>8 0.6474259495735168 42.533748626708984 131.17...</td>\n",
       "      <td>batch_01_vt/0032.jpg</td>\n",
       "    </tr>\n",
       "    <tr>\n",
       "      <th>4</th>\n",
       "      <td>8 0.9881086945533752 149.92315673828125 0.5436...</td>\n",
       "      <td>batch_01_vt/0070.jpg</td>\n",
       "    </tr>\n",
       "  </tbody>\n",
       "</table>\n",
       "</div>"
      ],
      "text/plain": [
       "                                    PredictionString              image_id\n",
       "0  8 0.6958047151565552 173.77989196777344 235.76...  batch_01_vt/0021.jpg\n",
       "1  8 0.6081427335739136 158.21490478515625 61.387...  batch_01_vt/0028.jpg\n",
       "2  1 0.5900605916976929 70.49398040771484 168.161...  batch_01_vt/0031.jpg\n",
       "3  8 0.6474259495735168 42.533748626708984 131.17...  batch_01_vt/0032.jpg\n",
       "4  8 0.9881086945533752 149.92315673828125 0.5436...  batch_01_vt/0070.jpg"
      ]
     },
     "execution_count": 35,
     "metadata": {},
     "output_type": "execute_result"
    }
   ],
   "source": [
    "submission = pd.DataFrame()\n",
    "submission['PredictionString'] = prediction_strings\n",
    "submission['image_id'] = file_names\n",
    "submission.to_csv('submission_ensemble.csv')\n",
    "\n",
    "submission.head()"
   ]
  },
  {
   "cell_type": "code",
   "execution_count": null,
   "id": "8cdbc1c0-3a36-4596-b8ab-1f7917871e4a",
   "metadata": {},
   "outputs": [],
   "source": []
  }
 ],
 "metadata": {
  "kernelspec": {
   "display_name": "Python 3",
   "language": "python",
   "name": "python3"
  },
  "language_info": {
   "codemirror_mode": {
    "name": "ipython",
    "version": 3
   },
   "file_extension": ".py",
   "mimetype": "text/x-python",
   "name": "python",
   "nbconvert_exporter": "python",
   "pygments_lexer": "ipython3",
   "version": "3.7.7"
  }
 },
 "nbformat": 4,
 "nbformat_minor": 5
}
